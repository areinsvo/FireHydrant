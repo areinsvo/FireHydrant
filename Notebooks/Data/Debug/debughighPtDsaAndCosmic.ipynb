{
 "cells": [
  {
   "cell_type": "code",
   "execution_count": 1,
   "metadata": {},
   "outputs": [],
   "source": [
    "import matplotlib.pyplot as plt\n",
    "%matplotlib inline\n",
    "\n",
    "import uproot\n",
    "import awkward\n",
    "import numpy as np"
   ]
  },
  {
   "cell_type": "code",
   "execution_count": 2,
   "metadata": {},
   "outputs": [],
   "source": [
    "file0 = \"/uscms_data/d3/wsi/lpcdm/CMSSW_10_2_14/src/Firefighter/ffConfig/python/test/ffNtuple_pickeventsDoubleMuon2018ABC.root\"\n",
    "file1 = \"/uscms_data/d3/wsi/lpcdm/CMSSW_10_2_14/src/Firefighter/ffConfig/python/test/ffNtuple_pickeventsDoubleMuon2018D.root\"\n",
    "file2 = \"/uscms_data/d3/wsi/lpcdm/CMSSW_10_2_14/src/Firefighter/ffConfig/python/test/ffNtuple_signal-4mu.root\""
   ]
  },
  {
   "cell_type": "markdown",
   "metadata": {},
   "source": [
    "---\n",
    "# ABC"
   ]
  },
  {
   "cell_type": "code",
   "execution_count": 3,
   "metadata": {},
   "outputs": [],
   "source": [
    "t0 = uproot.open(file0)['ffNtuplizer/ffNtuple']"
   ]
  },
  {
   "cell_type": "code",
   "execution_count": 5,
   "metadata": {},
   "outputs": [],
   "source": [
    "cosmicevents = [171885587, 588925175, 638569038, 1194219475, 1843404323, 767319972, 578254197]\n",
    "events = t0['event'].array()\n",
    "cosmicmask0 = np.logical_or.reduce([(events==e) for e in cosmicevents])"
   ]
  },
  {
   "cell_type": "code",
   "execution_count": 5,
   "metadata": {},
   "outputs": [
    {
     "data": {
      "text/plain": [
       "array([], dtype=uint32)"
      ]
     },
     "execution_count": 5,
     "metadata": {},
     "output_type": "execute_result"
    }
   ],
   "source": [
    "t0['ljmisc_numParallelDsa'].array()[cosmicmask0]"
   ]
  },
  {
   "cell_type": "code",
   "execution_count": 6,
   "metadata": {},
   "outputs": [
    {
     "data": {
      "text/plain": [
       "array([], dtype=uint32)"
      ]
     },
     "execution_count": 6,
     "metadata": {},
     "output_type": "execute_result"
    }
   ],
   "source": [
    "t0['ljmisc_numParallelCosmic'].array()[cosmicmask0]"
   ]
  },
  {
   "cell_type": "markdown",
   "metadata": {},
   "source": [
    "$p_T$"
   ]
  },
  {
   "cell_type": "code",
   "execution_count": 6,
   "metadata": {},
   "outputs": [
    {
     "name": "stdout",
     "output_type": "stream",
     "text": [
      "[[] []]\n",
      "[[6197.8936] []]\n",
      "[[8683.915] []]\n",
      "[[8938.826] []]\n",
      "[[12726.312] [1886.6146]]\n",
      "[[8147.747] [] []]\n",
      "[[7285.0103] []]\n",
      "[[5297.2344] []]\n",
      "[[] []]\n",
      "[[6113.123] [22.902737]]\n",
      "[[9239.855] []]\n"
     ]
    }
   ],
   "source": [
    "# pt0 = NestNestObjArrayToJagged(t0['ljmisc_dsaPt'].array())\n",
    "pt0 = awkward.fromiter(t0['ljmisc_dsaPt'].array())\n",
    "\n",
    "for x in pt0[~cosmicmask0]:\n",
    "    print(x)"
   ]
  },
  {
   "cell_type": "markdown",
   "metadata": {},
   "source": [
    "$\\sigma_{p_T}/p_T$"
   ]
  },
  {
   "cell_type": "code",
   "execution_count": 13,
   "metadata": {},
   "outputs": [
    {
     "name": "stdout",
     "output_type": "stream",
     "text": [
      "[[] []]\n",
      "[[56.225407] []]\n",
      "[[1171.5598] []]\n",
      "[[143.7143] []]\n",
      "[[773.8776] [20.880589]]\n",
      "[[1012.57544] [] []]\n",
      "[[1549.4639] []]\n",
      "[[1058.5302] []]\n",
      "[[] []]\n",
      "[[209.52953] [0.576435]]\n",
      "[[380.46198] []]\n"
     ]
    }
   ],
   "source": [
    "pterror0 = NestNestObjArrayToJagged(t0['ljmisc_dsaPtError'].array())\n",
    "for x in (pterror0/pt0)[~cosmicmask0]:\n",
    "    print(x)"
   ]
  },
  {
   "cell_type": "code",
   "execution_count": 13,
   "metadata": {},
   "outputs": [
    {
     "data": {
      "text/plain": [
       "<JaggedArray [[[] []] [[True] []] [[True] []] ... [[] []] [[True] [True]] [[True] []]] at 0x7f11b1ab3940>"
      ]
     },
     "execution_count": 13,
     "metadata": {},
     "output_type": "execute_result"
    }
   ],
   "source": [
    "NestNestObjArrayToJagged(t0['ljmisc_dsaIsSubsetRecoMuonWithInnerTrack'].array())[~cosmicmask0]"
   ]
  },
  {
   "cell_type": "code",
   "execution_count": 14,
   "metadata": {},
   "outputs": [
    {
     "name": "stdout",
     "output_type": "stream",
     "text": [
      "[18 12  8 17 11  9 11 10 12]\n"
     ]
    },
    {
     "data": {
      "image/png": "[encoded data removed]",
      "text/plain": [
       "<Figure size 576x432 with 1 Axes>"
      ]
     },
     "metadata": {
      "needs_background": "light"
     },
     "output_type": "display_data"
    }
   ],
   "source": [
    "pt0 = NestNestObjArrayToJagged(t0['ljmisc_dsaPt'].array())\n",
    "dthits = NestNestObjArrayToJagged(t0['ljmisc_dsaNumValidDTHits'].array())\n",
    "cschits = NestNestObjArrayToJagged(t0['ljmisc_dsaNumValidCSCHits'].array())\n",
    "interestedpt = (pt0<13000) & (pt0>2000)\n",
    "\n",
    "data = cschits[interestedpt&(dthits==0)][~cosmicmask0]\n",
    "\n",
    "print(data.flatten().flatten())\n",
    "fig, ax = plt.subplots(figsize=(8,6))\n",
    "ax.hist(data.flatten().flatten(), bins=30, range=[0, 30], histtype='step')\n",
    "ax.set_title('#CSC hits (#DT hits==0)');"
   ]
  },
  {
   "cell_type": "markdown",
   "metadata": {},
   "source": [
    "---\n",
    "# D"
   ]
  },
  {
   "cell_type": "code",
   "execution_count": 3,
   "metadata": {},
   "outputs": [],
   "source": [
    "t1 = uproot.open(file1)['ffNtuplizer/ffNtuple']"
   ]
  },
  {
   "cell_type": "code",
   "execution_count": 4,
   "metadata": {},
   "outputs": [],
   "source": [
    "cosmicevents=  [99710070, 131158592, 310216566, 12032414, 1382227313, 499511766, 499511766, 599103865, 988893070, 1645464771, 200924923]\n",
    "events = t1['event'].array()\n",
    "cosmicmask1 = np.logical_or.reduce([(events==e) for e in cosmicevents])"
   ]
  },
  {
   "cell_type": "code",
   "execution_count": 5,
   "metadata": {},
   "outputs": [
    {
     "data": {
      "text/plain": [
       "array([], dtype=uint32)"
      ]
     },
     "execution_count": 5,
     "metadata": {},
     "output_type": "execute_result"
    }
   ],
   "source": [
    "t1['ljmisc_numParallelDsa'].array()[cosmicmask1]"
   ]
  },
  {
   "cell_type": "code",
   "execution_count": 6,
   "metadata": {},
   "outputs": [
    {
     "data": {
      "text/plain": [
       "array([], dtype=uint32)"
      ]
     },
     "execution_count": 6,
     "metadata": {},
     "output_type": "execute_result"
    }
   ],
   "source": [
    "t1['ljmisc_numParallelCosmic'].array()[cosmicmask1]"
   ]
  },
  {
   "cell_type": "markdown",
   "metadata": {},
   "source": [
    "$p_T$"
   ]
  },
  {
   "cell_type": "code",
   "execution_count": 18,
   "metadata": {},
   "outputs": [
    {
     "name": "stdout",
     "output_type": "stream",
     "text": [
      "[[8485.456] []]\n",
      "[[6346.4585] []]\n",
      "[[7042.574] []]\n",
      "[[6595.5625] [] []]\n",
      "[[5818.4844] []]\n",
      "[[7952.4844] []]\n",
      "[[7157.8745] []]\n",
      "[[5245.2046] []]\n",
      "[[] []]\n"
     ]
    }
   ],
   "source": [
    "pt1 = NestNestObjArrayToJagged(t1['ljmisc_dsaPt'].array())\n",
    "\n",
    "for x in pt1[~cosmicmask1]: print(x)"
   ]
  },
  {
   "cell_type": "markdown",
   "metadata": {},
   "source": [
    "$\\sigma_{p_T}/p_T$"
   ]
  },
  {
   "cell_type": "code",
   "execution_count": 19,
   "metadata": {},
   "outputs": [
    {
     "name": "stdout",
     "output_type": "stream",
     "text": [
      "[[114.2326] []]\n",
      "[[2565.844] []]\n",
      "[[77.17486] []]\n",
      "[[81.229774] [] []]\n",
      "[[452.20578] []]\n",
      "[[204.19633] []]\n",
      "[[1126.4628] []]\n",
      "[[180.03816] []]\n",
      "[[] []]\n"
     ]
    }
   ],
   "source": [
    "pterror1 = NestNestObjArrayToJagged(t1['ljmisc_dsaPtError'].array())\n",
    "for x in (pterror1/pt1)[~cosmicmask1]:\n",
    "    print(x)"
   ]
  },
  {
   "cell_type": "code",
   "execution_count": 21,
   "metadata": {},
   "outputs": [
    {
     "name": "stdout",
     "output_type": "stream",
     "text": [
      "[[True] []]\n",
      "[[True] []]\n",
      "[[True] []]\n",
      "[[True] [] []]\n",
      "[[True] []]\n",
      "[[True] []]\n",
      "[[True] []]\n",
      "[[True] []]\n",
      "[[] []]\n"
     ]
    }
   ],
   "source": [
    "for x in NestNestObjArrayToJagged(t1['ljmisc_dsaIsSubsetRecoMuonWithInnerTrack'].array())[~cosmicmask1]:\n",
    "    print(x)"
   ]
  },
  {
   "cell_type": "code",
   "execution_count": 23,
   "metadata": {},
   "outputs": [
    {
     "name": "stdout",
     "output_type": "stream",
     "text": [
      "[18  9 18 18 12 10 24 12]\n"
     ]
    },
    {
     "data": {
      "image/png": "[encoded data removed]",
      "text/plain": [
       "<Figure size 576x432 with 1 Axes>"
      ]
     },
     "metadata": {
      "needs_background": "light"
     },
     "output_type": "display_data"
    }
   ],
   "source": [
    "pt1 = NestNestObjArrayToJagged(t1['ljmisc_dsaPt'].array())\n",
    "dthits = NestNestObjArrayToJagged(t1['ljmisc_dsaNumValidDTHits'].array())\n",
    "cschits = NestNestObjArrayToJagged(t1['ljmisc_dsaNumValidCSCHits'].array())\n",
    "interestedpt = (pt1<13000) & (pt1>2000)\n",
    "\n",
    "data = cschits[interestedpt&(dthits==0)][~cosmicmask1]\n",
    "print(data.flatten().flatten())\n",
    "\n",
    "fig, ax = plt.subplots(figsize=(8,6))\n",
    "ax.hist(data.flatten().flatten(), bins=50, range=[0, 50], histtype='step')\n",
    "ax.set_title('#CSC hits (#DT hits==0)');"
   ]
  },
  {
   "cell_type": "markdown",
   "metadata": {},
   "source": [
    "---\n",
    "# signal"
   ]
  },
  {
   "cell_type": "code",
   "execution_count": 22,
   "metadata": {},
   "outputs": [],
   "source": [
    "t2 = uproot.open(file2)['ffNtuplizer/ffNtuple']"
   ]
  },
  {
   "cell_type": "code",
   "execution_count": 25,
   "metadata": {
    "collapsed": true,
    "jupyter": {
     "outputs_hidden": true
    }
   },
   "outputs": [
    {
     "data": {
      "text/plain": [
       "array([ 1,  1,  0,  0,  1,  1,  1,  2,  1,  2,  1,  3,  6,  2,  3,  1,  1,\n",
       "        1,  2,  1,  3,  0,  3,  1,  1,  1,  6,  0,  7,  0,  3,  0,  2,  1,\n",
       "        1,  0,  1,  1,  1,  1,  0,  7,  1,  3,  3,  1,  2,  0,  0,  0,  1,\n",
       "        4,  1,  2,  1,  1,  0,  1,  1,  2,  0,  2,  2, 10,  0,  0,  1,  0,\n",
       "        1,  0,  1,  1,  6,  1,  2,  2,  0,  1,  7,  1,  1,  1,  0,  1,  0,\n",
       "        0,  1,  2,  3,  1,  3,  2,  3,  2,  1,  1,  1,  0,  1,  2,  1,  1,\n",
       "        0,  1,  0,  1,  1,  1,  0,  1,  0,  1,  2,  4,  1,  0,  0,  1,  0,\n",
       "        3,  3,  1,  2,  1,  1,  0,  1,  1,  1,  1,  1,  1,  4,  1,  2,  0,\n",
       "        1,  1,  1,  0,  0,  2,  1,  4,  0,  2,  0,  0,  0,  2,  0,  1,  1,\n",
       "        2,  3,  1,  1,  1,  4,  1,  3,  0,  1], dtype=uint32)"
      ]
     },
     "execution_count": 25,
     "metadata": {},
     "output_type": "execute_result"
    }
   ],
   "source": [
    "t2['ljmisc_numParallelDsa'].array()"
   ]
  },
  {
   "cell_type": "code",
   "execution_count": 26,
   "metadata": {
    "collapsed": true,
    "jupyter": {
     "outputs_hidden": true
    }
   },
   "outputs": [
    {
     "data": {
      "text/plain": [
       "array([1, 1, 0, 0, 1, 1, 1, 2, 1, 1, 1, 0, 2, 1, 1, 1, 1, 0, 2, 1, 3, 0,\n",
       "       3, 1, 1, 1, 3, 0, 0, 0, 1, 0, 2, 0, 0, 0, 1, 0, 1, 1, 0, 1, 1, 1,\n",
       "       1, 1, 1, 0, 0, 1, 0, 0, 0, 1, 0, 0, 0, 0, 0, 2, 1, 1, 1, 0, 0, 1,\n",
       "       0, 0, 0, 0, 0, 1, 1, 0, 0, 1, 0, 1, 2, 0, 1, 0, 0, 0, 0, 0, 1, 1,\n",
       "       0, 0, 0, 0, 2, 0, 1, 1, 0, 0, 1, 0, 1, 1, 0, 0, 0, 1, 0, 0, 1, 0,\n",
       "       1, 1, 0, 2, 0, 0, 0, 0, 0, 0, 0, 2, 0, 0, 1, 1, 0, 2, 1, 1, 1, 0,\n",
       "       2, 0, 1, 0, 0, 2, 0, 0, 0, 2, 0, 2, 1, 0, 0, 1, 0, 1, 0, 2, 0, 1,\n",
       "       3, 2, 0, 0, 2, 0, 1, 1, 0], dtype=uint32)"
      ]
     },
     "execution_count": 26,
     "metadata": {},
     "output_type": "execute_result"
    }
   ],
   "source": [
    "t2['ljmisc_numParallelCosmic'].array()"
   ]
  },
  {
   "cell_type": "code",
   "execution_count": 29,
   "metadata": {},
   "outputs": [
    {
     "data": {
      "text/plain": [
       "<JaggedArray [[[]] [[False]] [[]] ... [[True]] [[True]] [[False False]]] at 0x7f11afda9c88>"
      ]
     },
     "execution_count": 29,
     "metadata": {},
     "output_type": "execute_result"
    }
   ],
   "source": [
    "NestNestObjArrayToJagged(t2['ljmisc_dsaIsSubsetRecoMuonWithInnerTrack'].array())"
   ]
  },
  {
   "cell_type": "code",
   "execution_count": 23,
   "metadata": {},
   "outputs": [
    {
     "name": "stderr",
     "output_type": "stream",
     "text": [
      "/uscms/home/wsi/nobackup/miniconda3/envs/FireHydrant/lib/python3.7/site-packages/coffea/analysis_objects/JaggedCandidateArray.py:22: RuntimeWarning: divide by zero encountered in true_divide\n",
      "  return np.arcsinh(pz / pT)\n"
     ]
    }
   ],
   "source": [
    "from coffea.analysis_objects import JaggedCandidateArray\n",
    "df = t2\n",
    "leptonjets = JaggedCandidateArray.candidatesfromcounts(\n",
    "    df['pfjet_p4'].array(),\n",
    "    px=df['pfjet_p4.fCoordinates.fX'].array().content,\n",
    "    py=df['pfjet_p4.fCoordinates.fY'].array().content,\n",
    "    pz=df['pfjet_p4.fCoordinates.fZ'].array().content,\n",
    "    energy=df['pfjet_p4.fCoordinates.fT'].array().content,\n",
    ")\n",
    "genparticles = JaggedCandidateArray.candidatesfromcounts(\n",
    "    df['gen_p4'].array(),\n",
    "    px=df['gen_p4.fCoordinates.fX'].array().content,\n",
    "    py=df['gen_p4.fCoordinates.fY'].array().content,\n",
    "    pz=df['gen_p4.fCoordinates.fZ'].array().content,\n",
    "    energy=df['gen_p4.fCoordinates.fT'].array().content,\n",
    "    pid=df['gen_pid'].array().content\n",
    ")\n",
    "darkphotons = genparticles[genparticles.pid==32]\n",
    "matchmask = leptonjets.match(darkphotons, deltaRCut=0.3)"
   ]
  },
  {
   "cell_type": "code",
   "execution_count": 31,
   "metadata": {
    "collapsed": true,
    "jupyter": {
     "outputs_hidden": true
    }
   },
   "outputs": [
    {
     "name": "stdout",
     "output_type": "stream",
     "text": [
      "[]\n",
      "[[False]]\n",
      "[[]]\n",
      "[[]]\n",
      "[[]]\n",
      "[[]]\n",
      "[[False True]]\n",
      "[[]]\n",
      "[[]]\n",
      "[[] []]\n",
      "[[]]\n",
      "[[True]]\n",
      "[[True True] [True]]\n",
      "[[]]\n",
      "[[]]\n",
      "[[True False]]\n",
      "[[False]]\n",
      "[[False]]\n",
      "[[False False] [True True]]\n",
      "[[True True]]\n",
      "[[False False]]\n",
      "[[False False]]\n",
      "[[] []]\n",
      "[[True]]\n",
      "[[False]]\n",
      "[[]]\n",
      "[[False True] []]\n",
      "[[False False]]\n",
      "[[]]\n",
      "[[True True]]\n",
      "[[] []]\n",
      "[[False False]]\n",
      "[[False False]]\n",
      "[[False]]\n",
      "[[False False] [False False]]\n",
      "[[False]]\n",
      "[[False] []]\n",
      "[[True]]\n",
      "[[True]]\n",
      "[[]]\n",
      "[[] []]\n",
      "[[True True]]\n",
      "[[]]\n",
      "[[False False]]\n",
      "[[False False]]\n",
      "[[False]]\n",
      "[[False] []]\n",
      "[[True] []]\n",
      "[[True]]\n",
      "[[]]\n",
      "[[]]\n",
      "[[] []]\n",
      "[[]]\n",
      "[[]]\n",
      "[[True]]\n",
      "[[False True]]\n",
      "[[]]\n",
      "[[]]\n",
      "[[True True]]\n",
      "[[False False] [False]]\n",
      "[[]]\n",
      "[[False False] [False]]\n",
      "[[False False]]\n",
      "[[False]]\n",
      "[[False False] [False False]]\n",
      "[[False]]\n",
      "[[True]]\n",
      "[[False False]]\n",
      "[[]]\n",
      "[[]]\n",
      "[[False False]]\n",
      "[[True True] []]\n",
      "[[True]]\n",
      "[[True]]\n",
      "[[]]\n",
      "[[False]]\n",
      "[[] [True]]\n",
      "[[True] []]\n",
      "[[]]\n",
      "[[]]\n",
      "[[False False]]\n",
      "[[]]\n",
      "[[]]\n",
      "[[False False]]\n",
      "[[True]]\n",
      "[[True]]\n",
      "[[] []]\n",
      "[[] [True True]]\n",
      "[[True True]]\n",
      "[[] []]\n",
      "[[False] []]\n",
      "[[] [True True]]\n",
      "[[]]\n",
      "[[] [False]]\n",
      "[[False False] []]\n",
      "[[True]]\n",
      "[[]]\n",
      "[[False False]]\n",
      "[[] []]\n",
      "[[True False] []]\n",
      "[[]]\n",
      "[[True True]]\n",
      "[[False False]]\n",
      "[[]]\n",
      "[[]]\n",
      "[[True False]]\n",
      "[[True True]]\n",
      "[[]]\n",
      "[[False False]]\n",
      "[[False False]]\n",
      "[[]]\n",
      "[[False False]]\n",
      "[[True]]\n",
      "[[]]\n",
      "[[True] [False False]]\n",
      "[[True]]\n",
      "[[False False]]\n",
      "[[False False]]\n",
      "[[True]]\n",
      "[[]]\n",
      "[[] []]\n",
      "[[False]]\n",
      "[[True] []]\n",
      "[[False False]]\n",
      "[[True]]\n",
      "[[]]\n",
      "[[True] [True True]]\n",
      "[[True] []]\n",
      "[[False False]]\n",
      "[[] []]\n",
      "[[True True]]\n",
      "[[True] []]\n",
      "[[]]\n",
      "[[False False]]\n",
      "[[] []]\n",
      "[[False False]]\n",
      "[[True]]\n",
      "[[False]]\n",
      "[[]]\n",
      "[[False False]]\n",
      "[[False False]]\n",
      "[[False False] [True True]]\n",
      "[[]]\n",
      "[[True True] [True]]\n",
      "[[]]\n",
      "[[False False]]\n",
      "[[]]\n",
      "[[]]\n",
      "[]\n",
      "[[] []]\n",
      "[[True]]\n",
      "[[False False]]\n",
      "[[False True]]\n",
      "[[False False]]\n",
      "[[True False]]\n",
      "[[]]\n",
      "[[False False] [False]]\n",
      "[[] []]\n",
      "[[]]\n",
      "[[False True] []]\n",
      "[[True]]\n",
      "[[True]]\n",
      "[[False False]]\n"
     ]
    }
   ],
   "source": [
    "issubset = NestNestObjArrayToJagged(t2['ljmisc_dsaIsSubsetRecoMuonWithInnerTrack'].array())\n",
    "for x in issubset[matchmask]: print(x)"
   ]
  },
  {
   "cell_type": "markdown",
   "metadata": {},
   "source": [
    "$p_T$"
   ]
  },
  {
   "cell_type": "code",
   "execution_count": 25,
   "metadata": {
    "collapsed": true,
    "jupyter": {
     "outputs_hidden": true
    }
   },
   "outputs": [
    {
     "name": "stdout",
     "output_type": "stream",
     "text": [
      "[]\n",
      "[[26.088802]]\n",
      "[[]]\n",
      "[[]]\n",
      "[[]]\n",
      "[[]]\n",
      "[[64.760895 30.677803]]\n",
      "[[]]\n",
      "[[]]\n",
      "[[] []]\n",
      "[[]]\n",
      "[[21.985373]]\n",
      "[[65.746796 26.242092] [34.892612]]\n",
      "[[]]\n",
      "[[]]\n",
      "[[41.735012 28.44255]]\n",
      "[[63.25023]]\n",
      "[[34.18125]]\n",
      "[[106.14401 44.820675] [66.09935 33.06576]]\n",
      "[[55.499065 25.7597]]\n",
      "[[28.061365 23.623022]]\n",
      "[[30.897182 21.91693]]\n",
      "[[] []]\n",
      "[[28.788527]]\n",
      "[[57.6834]]\n",
      "[[]]\n",
      "[[64.5226 22.321308] []]\n",
      "[[48.09988 26.687643]]\n",
      "[[]]\n",
      "[[31.732323 23.621061]]\n",
      "[[] []]\n",
      "[[38.039215 20.037048]]\n",
      "[[29.103645 21.649426]]\n",
      "[[34.290203]]\n",
      "[[43.636692 30.736782] [26.0901 22.629562]]\n",
      "[[29.989388]]\n",
      "[[23.316744] []]\n",
      "[[31.787165]]\n",
      "[[35.294395]]\n",
      "[[]]\n",
      "[[] []]\n",
      "[[31.247627 28.39176]]\n",
      "[[]]\n",
      "[[45.31768 41.30792]]\n",
      "[[24.622345 20.798166]]\n",
      "[[81.59806]]\n",
      "[[52.43712] []]\n",
      "[[76.8633] []]\n",
      "[[70.431625]]\n",
      "[[]]\n",
      "[[]]\n",
      "[[] []]\n",
      "[[]]\n",
      "[[]]\n",
      "[[73.49448]]\n",
      "[[36.569473 21.917902]]\n",
      "[[]]\n",
      "[[]]\n",
      "[[26.355555 25.167486]]\n",
      "[[54.47176 36.203262] [79.98209]]\n",
      "[[]]\n",
      "[[33.501682 28.262976] [27.590584]]\n",
      "[[604.99255 59.984924]]\n",
      "[[87.79179]]\n",
      "[[58.046577 33.52016] [47.08294 36.291176]]\n",
      "[[41.65453]]\n",
      "[[38.58085]]\n",
      "[[48.053814 32.205387]]\n",
      "[[]]\n",
      "[[]]\n",
      "[[35.767876 24.036833]]\n",
      "[[24.37008 21.771027] []]\n",
      "[[51.445473]]\n",
      "[[32.866405]]\n",
      "[[]]\n",
      "[[52.262196]]\n",
      "[[] [21.286688]]\n",
      "[[35.284203] []]\n",
      "[[]]\n",
      "[[]]\n",
      "[[39.10586 34.322254]]\n",
      "[[]]\n",
      "[[]]\n",
      "[[47.158386 27.547783]]\n",
      "[[61.06907]]\n",
      "[[28.979269]]\n",
      "[[] []]\n",
      "[[] [30.782726 28.715649]]\n",
      "[[137.38101 62.594204]]\n",
      "[[] []]\n",
      "[[25.102346] []]\n",
      "[[] [42.884502 22.825209]]\n",
      "[[]]\n",
      "[[] [39.540733]]\n",
      "[[29.833569 23.378418] []]\n",
      "[[44.455612]]\n",
      "[[]]\n",
      "[[52.542225 24.230782]]\n",
      "[[] []]\n",
      "[[34.851963 20.229475] []]\n",
      "[[]]\n",
      "[[1188.8278 20.820463]]\n",
      "[[36.293613 22.484844]]\n",
      "[[]]\n",
      "[[]]\n",
      "[[40.25595 24.714426]]\n",
      "[[50.082264 27.557573]]\n",
      "[[]]\n",
      "[[35.20323 31.59256]]\n",
      "[[67.9643 30.485554]]\n",
      "[[]]\n",
      "[[32.074802 27.44857]]\n",
      "[[24.930496]]\n",
      "[[]]\n",
      "[[57.5335] [26.098623 25.369028]]\n",
      "[[21.078606]]\n",
      "[[52.00687 34.28947]]\n",
      "[[52.081337 29.835169]]\n",
      "[[56.205524]]\n",
      "[[]]\n",
      "[[] []]\n",
      "[[41.073605]]\n",
      "[[22.229296] []]\n",
      "[[45.871613 22.203259]]\n",
      "[[23.434555]]\n",
      "[[]]\n",
      "[[62.417397] [43.452557 26.598433]]\n",
      "[[24.802864] []]\n",
      "[[53.432568 38.421707]]\n",
      "[[] []]\n",
      "[[47.816105 31.826073]]\n",
      "[[20.245024] []]\n",
      "[[]]\n",
      "[[60.560127 33.55643]]\n",
      "[[] []]\n",
      "[[114.76915 23.182318]]\n",
      "[[65.06922]]\n",
      "[[23.778614]]\n",
      "[[]]\n",
      "[[66.72806 20.966152]]\n",
      "[[61.911064 24.857267]]\n",
      "[[30.844324 30.251883] [38.61753 22.326412]]\n",
      "[[]]\n",
      "[[69.447685 64.05005] [32.462193]]\n",
      "[[]]\n",
      "[[47.06559 44.64973]]\n",
      "[[]]\n",
      "[[]]\n",
      "[]\n",
      "[[] []]\n",
      "[[75.85333]]\n",
      "[[47.694202 24.991688]]\n",
      "[[108.816376 21.632124]]\n",
      "[[48.070663 21.080753]]\n",
      "[[69.3185 20.306356]]\n",
      "[[]]\n",
      "[[65.160675 23.703875] [28.087952]]\n",
      "[[] []]\n",
      "[[]]\n",
      "[[67.18747 22.086605] []]\n",
      "[[30.49691]]\n",
      "[[35.248573]]\n",
      "[[32.521088 29.15931]]\n"
     ]
    }
   ],
   "source": [
    "pt2 = NestNestObjArrayToJagged(t2['ljmisc_dsaPt'].array())\n",
    "for x in pt2[matchmask]:\n",
    "    print(x)"
   ]
  },
  {
   "cell_type": "markdown",
   "metadata": {},
   "source": [
    "$\\sigma_{p_T}/p_T$"
   ]
  },
  {
   "cell_type": "code",
   "execution_count": 24,
   "metadata": {},
   "outputs": [
    {
     "name": "stdout",
     "output_type": "stream",
     "text": [
      "[]\n",
      "[[0.14462744]]\n",
      "[[]]\n",
      "[[]]\n",
      "[[]]\n",
      "[[]]\n",
      "[[3.1510682 0.38499555]]\n",
      "[[]]\n",
      "[[]]\n",
      "[[] []]\n",
      "[[]]\n",
      "[[0.10195226]]\n",
      "[[0.7399065 3.1442378] [0.12348663]]\n",
      "[[]]\n",
      "[[]]\n",
      "[[0.075741515 0.17191838]]\n",
      "[[0.19594774]]\n",
      "[[0.14498274]]\n",
      "[[0.862267 0.0738158] [0.36408782 0.18493654]]\n",
      "[[0.18561675 0.14680466]]\n",
      "[[0.13511102 0.12165949]]\n",
      "[[0.20008856 0.13912301]]\n",
      "[[] []]\n",
      "[[0.42337984]]\n",
      "[[0.17753297]]\n",
      "[[]]\n",
      "[[0.73692745 0.29353976] []]\n",
      "[[0.16306315 0.3877609]]\n",
      "[[]]\n",
      "[[0.13127555 0.1378609]]\n",
      "[[] []]\n",
      "[[0.122451074 0.22187155]]\n",
      "[[0.20078392 0.14974922]]\n",
      "[[0.12607405]]\n",
      "[[0.19918066 0.18312937] [0.113796934 0.22954412]]\n",
      "[[0.15176006]]\n",
      "[[0.21633601] []]\n",
      "[[0.12091444]]\n",
      "[[0.06895518]]\n",
      "[[]]\n",
      "[[] []]\n",
      "[[0.23518313 0.19459791]]\n",
      "[[]]\n",
      "[[0.117483504 0.13190734]]\n",
      "[[0.16064954 0.12249446]]\n",
      "[[0.17011909]]\n",
      "[[0.19479215] []]\n",
      "[[1.3769563] []]\n",
      "[[0.16306016]]\n",
      "[[]]\n",
      "[[]]\n",
      "[[] []]\n",
      "[[]]\n",
      "[[]]\n",
      "[[0.195617]]\n",
      "[[0.15114808 0.12328575]]\n",
      "[[]]\n",
      "[[]]\n",
      "[[0.15035854 0.38001063]]\n",
      "[[0.18166699 0.07421344] [0.19732955]]\n",
      "[[]]\n",
      "[[0.07349869 0.15032594] [0.18121652]]\n",
      "[[2.4511735 0.040309533]]\n",
      "[[1.1400276]]\n",
      "[[0.17711627 0.28272048] [0.1679768 0.17867528]]\n",
      "[[0.19322853]]\n",
      "[[0.13504927]]\n",
      "[[0.17271268 0.4929415]]\n",
      "[[]]\n",
      "[[]]\n",
      "[[0.20515035 1.2900544]]\n",
      "[[0.20087819 2.398816] []]\n",
      "[[0.11948789]]\n",
      "[[0.23317175]]\n",
      "[[]]\n",
      "[[0.32089484]]\n",
      "[[] [0.14447425]]\n",
      "[[0.12185771] []]\n",
      "[[]]\n",
      "[[]]\n",
      "[[0.13547656 0.20699346]]\n",
      "[[]]\n",
      "[[]]\n",
      "[[0.15316021 0.16464294]]\n",
      "[[0.16238238]]\n",
      "[[0.17332701]]\n",
      "[[] []]\n",
      "[[] [0.16492608 0.13676177]]\n",
      "[[0.45068532 1.5251983]]\n",
      "[[] []]\n",
      "[[0.1387478] []]\n",
      "[[] [0.11411879 0.1753756]]\n",
      "[[]]\n",
      "[[] [0.13061675]]\n",
      "[[0.13712035 0.11492759] []]\n",
      "[[0.23268197]]\n",
      "[[]]\n",
      "[[0.45343632 0.29092222]]\n",
      "[[] []]\n",
      "[[0.16611381 0.19636522] []]\n",
      "[[]]\n",
      "[[2.8433404 0.15657204]]\n",
      "[[0.15801764 0.10615073]]\n",
      "[[]]\n",
      "[[]]\n",
      "[[0.16071987 0.13768467]]\n",
      "[[0.2107567 0.18639272]]\n",
      "[[]]\n",
      "[[0.19794047 0.19370474]]\n",
      "[[6.025568 0.14193565]]\n",
      "[[]]\n",
      "[[0.12759238 0.21311553]]\n",
      "[[0.17760627]]\n",
      "[[]]\n",
      "[[0.15986392] [2.6273515 0.29278806]]\n",
      "[[0.22832873]]\n",
      "[[0.16028687 0.1931634]]\n",
      "[[0.4055083 0.12340342]]\n",
      "[[0.21811835]]\n",
      "[[]]\n",
      "[[] []]\n",
      "[[0.16250682]]\n",
      "[[0.12478457] []]\n",
      "[[0.1733506 0.11607972]]\n",
      "[[0.17449498]]\n",
      "[[]]\n",
      "[[0.17292075] [0.20516267 0.5420282]]\n",
      "[[0.2743854] []]\n",
      "[[0.14123604 0.16317615]]\n",
      "[[] []]\n",
      "[[0.17965738 0.11826265]]\n",
      "[[0.13933921] []]\n",
      "[[]]\n",
      "[[0.88945025 0.605889]]\n",
      "[[] []]\n",
      "[[0.80829734 0.1014092]]\n",
      "[[0.16579989]]\n",
      "[[0.1424697]]\n",
      "[[]]\n",
      "[[1.0522276 0.56191486]]\n",
      "[[0.17494 0.14545104]]\n",
      "[[0.12049253 0.13992293] [0.20795675 0.21205534]]\n",
      "[[]]\n",
      "[[0.16343546 0.24783692] [0.17300986]]\n",
      "[[]]\n",
      "[[0.15149212 0.17098181]]\n",
      "[[]]\n",
      "[[]]\n",
      "[]\n",
      "[[] []]\n",
      "[[0.1608319]]\n",
      "[[0.19495168 0.15244518]]\n",
      "[[0.31350455 0.104119405]]\n",
      "[[0.19755341 0.25301734]]\n",
      "[[3.2401955 0.24725202]]\n",
      "[[]]\n",
      "[[0.19970773 0.1079225] [0.14444762]]\n",
      "[[] []]\n",
      "[[]]\n",
      "[[0.11790434 0.18275844] []]\n",
      "[[0.22269955]]\n",
      "[[1.1866956]]\n",
      "[[0.16213973 0.15397477]]\n"
     ]
    }
   ],
   "source": [
    "pt2 = NestNestObjArrayToJagged(t2['ljmisc_dsaPt'].array())\n",
    "pterror2 = NestNestObjArrayToJagged(t2['ljmisc_dsaPtError'].array())\n",
    "\n",
    "for x in (pterror2/pt2)[matchmask]:\n",
    "    print(x)"
   ]
  },
  {
   "cell_type": "code",
   "execution_count": 65,
   "metadata": {},
   "outputs": [
    {
     "name": "stdout",
     "output_type": "stream",
     "text": [
      "[[26.088802]]\n",
      "[]\n",
      "[[]]\n",
      "[[]]\n",
      "[[]]\n",
      "[[]]\n",
      "[[64.760895 30.677803]]\n",
      "[[]]\n",
      "[[]]\n",
      "[[]]\n",
      "[[] []]\n",
      "[[21.985373]]\n",
      "[[65.746796 26.242092] [34.892612]]\n",
      "[[]]\n",
      "[[41.735012 28.44255]]\n",
      "[[]]\n",
      "[[63.25023]]\n",
      "[[34.18125]]\n",
      "[[106.14401 44.820675] [66.09935 33.06576]]\n",
      "[[55.499065 25.7597]]\n",
      "[[30.897182 21.91693]]\n",
      "[[28.061365 23.623022]]\n",
      "[[] []]\n",
      "[[28.788527]]\n",
      "[[]]\n",
      "[[57.6834]]\n",
      "[[64.5226 22.321308] []]\n",
      "[[48.09988 26.687643]]\n",
      "[[]]\n",
      "[[31.732323 23.621061]]\n"
     ]
    }
   ],
   "source": [
    "candspt = NestNestObjArrayToJagged(t2['pfjet_pfcand_pt'].array())\n",
    "candstype = NestNestObjArrayToJagged(t2['pfjet_pfcand_type'].array())\n",
    "candsmupt = candspt[(candstype==8)]\n",
    "for x in candsmupt[matchmask]:\n",
    "    print(x)"
   ]
  },
  {
   "cell_type": "code",
   "execution_count": 79,
   "metadata": {},
   "outputs": [
    {
     "data": {
      "image/png": "[encoded data removed]",
      "text/plain": [
       "<Figure size 576x432 with 1 Axes>"
      ]
     },
     "metadata": {
      "needs_background": "light"
     },
     "output_type": "display_data"
    }
   ],
   "source": [
    "dthits = NestNestObjArrayToJagged(t2['ljmisc_dsaNumValidDTHits'].array())\n",
    "cschits = NestNestObjArrayToJagged(t2['ljmisc_dsaNumValidCSCHits'].array())\n",
    "\n",
    "data = dthits[cschits==0]\n",
    "\n",
    "\n",
    "fig, ax = plt.subplots(figsize=(8,6))\n",
    "ax.hist(data.flatten().flatten(), bins=50, range=[0, 50], histtype='step')\n",
    "ax.set_title('#DT hits (#CSC hits==0)');"
   ]
  },
  {
   "cell_type": "code",
   "execution_count": 98,
   "metadata": {},
   "outputs": [
    {
     "name": "stdout",
     "output_type": "stream",
     "text": [
      "[30 12 18  9 24 16 23 17 24 21 22 23 28 12]\n"
     ]
    },
    {
     "data": {
      "image/png": "[encoded data removed]",
      "text/plain": [
       "<Figure size 576x432 with 1 Axes>"
      ]
     },
     "metadata": {
      "needs_background": "light"
     },
     "output_type": "display_data"
    }
   ],
   "source": [
    "dthits = NestNestObjArrayToJagged(t2['ljmisc_dsaNumValidDTHits'].array())\n",
    "cschits = NestNestObjArrayToJagged(t2['ljmisc_dsaNumValidCSCHits'].array())\n",
    "\n",
    "data = cschits[dthits==0][matchmask]\n",
    "print(data.flatten().flatten())\n",
    "\n",
    "fig, ax = plt.subplots(figsize=(8,6))\n",
    "ax.hist(data.flatten().flatten(), bins=35, range=[0, 35], histtype='step')\n",
    "ax.set_title('#CSC hits (#DT hits==0)');"
   ]
  },
  {
   "cell_type": "markdown",
   "metadata": {},
   "source": [
    "# summary\n",
    "\n",
    "- cosmic muons: # < 8\n",
    "- ptError/pt < 8"
   ]
  },
  {
   "cell_type": "code",
   "execution_count": 2,
   "metadata": {},
   "outputs": [],
   "source": [
    "f0 = 'root://cmseos.fnal.gov//eos/uscms/store/group/lpcmetx/SIDM/ffNtuple/2018/QCD_Pt-20to30_MuEnrichedPt5_TuneCP5_13TeV_pythia8/RunIIAutumn18DRPremix-102X_upgrade2018_realistic_v15-v4/190827_040339/0000/ffNtuple_100.root'\n",
    "f1 = 'root://cmseos.fnal.gov//eos/uscms/store/group/lpcmetx/SIDM/ffNtuple/2018/QCD_Pt-20to30_MuEnrichedPt5_TuneCP5_13TeV_pythia8/RunIIAutumn18DRPremix-102X_upgrade2018_realistic_v15-v4/190827_040339/0000/ffNtuple_10.root'"
   ]
  },
  {
   "cell_type": "code",
   "execution_count": 3,
   "metadata": {},
   "outputs": [],
   "source": [
    "h0 = uproot.open(f0)['ffNtupleStat/pileup']\n",
    "h1 = uproot.open(f0)['ffNtupleStat/pileup']"
   ]
  },
  {
   "cell_type": "code",
   "execution_count": 4,
   "metadata": {},
   "outputs": [
    {
     "data": {
      "text/plain": [
       "\u001b[0;31mSignature:\u001b[0m      \u001b[0mh0\u001b[0m\u001b[0;34m.\u001b[0m\u001b[0m__add__\u001b[0m\u001b[0;34m(\u001b[0m\u001b[0mvalue\u001b[0m\u001b[0;34m,\u001b[0m \u001b[0;34m/\u001b[0m\u001b[0;34m)\u001b[0m\u001b[0;34m\u001b[0m\u001b[0;34m\u001b[0m\u001b[0m\n",
       "\u001b[0;31mCall signature:\u001b[0m \u001b[0mh0\u001b[0m\u001b[0;34m.\u001b[0m\u001b[0m__add__\u001b[0m\u001b[0;34m(\u001b[0m\u001b[0;34m*\u001b[0m\u001b[0margs\u001b[0m\u001b[0;34m,\u001b[0m \u001b[0;34m**\u001b[0m\u001b[0mkwargs\u001b[0m\u001b[0;34m)\u001b[0m\u001b[0;34m\u001b[0m\u001b[0;34m\u001b[0m\u001b[0m\n",
       "\u001b[0;31mType:\u001b[0m           method-wrapper\n",
       "\u001b[0;31mString form:\u001b[0m    <method-wrapper '__add__' of TH1D object at 0x7fab53f69688>\n",
       "\u001b[0;31mDocstring:\u001b[0m      Return self+value.\n"
      ]
     },
     "metadata": {},
     "output_type": "display_data"
    }
   ],
   "source": [
    "h0.__add__?"
   ]
  },
  {
   "cell_type": "code",
   "execution_count": 7,
   "metadata": {},
   "outputs": [
    {
     "data": {
      "text/plain": [
       "(array([0.000e+00, 0.000e+00, 1.000e+00, 0.000e+00, 0.000e+00, 6.000e+00,\n",
       "        4.000e+00, 1.600e+01, 4.000e+01, 5.600e+01, 1.010e+02, 2.100e+02,\n",
       "        3.110e+02, 4.530e+02, 6.840e+02, 9.270e+02, 1.289e+03, 1.641e+03,\n",
       "        2.007e+03, 2.446e+03, 2.891e+03, 3.350e+03, 3.793e+03, 4.283e+03,\n",
       "        4.785e+03, 5.115e+03, 5.633e+03, 6.026e+03, 6.144e+03, 6.605e+03,\n",
       "        6.781e+03, 7.118e+03, 7.419e+03, 7.518e+03, 7.626e+03, 7.775e+03,\n",
       "        7.774e+03, 7.675e+03, 7.564e+03, 7.400e+03, 7.237e+03, 6.711e+03,\n",
       "        6.393e+03, 5.976e+03, 5.618e+03, 5.535e+03, 4.935e+03, 4.497e+03,\n",
       "        3.929e+03, 3.751e+03, 3.120e+03, 2.819e+03, 2.564e+03, 2.102e+03,\n",
       "        1.774e+03, 1.528e+03, 1.249e+03, 1.056e+03, 8.110e+02, 6.510e+02,\n",
       "        5.580e+02, 4.130e+02, 3.260e+02, 2.640e+02, 2.000e+02, 1.560e+02,\n",
       "        1.080e+02, 7.300e+01, 8.400e+01, 5.100e+01, 4.100e+01, 2.000e+01,\n",
       "        2.000e+01, 1.300e+01, 1.100e+01, 6.000e+00, 2.000e+00, 2.000e+00,\n",
       "        1.000e+00, 2.000e+00, 3.000e+00, 0.000e+00, 1.000e+00, 0.000e+00,\n",
       "        1.000e+00, 1.000e+00, 0.000e+00, 0.000e+00, 0.000e+00, 0.000e+00,\n",
       "        0.000e+00, 0.000e+00, 0.000e+00, 1.000e+00, 0.000e+00, 0.000e+00,\n",
       "        0.000e+00, 0.000e+00, 0.000e+00, 0.000e+00, 0.000e+00, 0.000e+00]),\n",
       " array([-inf,   0.,   1.,   2.,   3.,   4.,   5.,   6.,   7.,   8.,   9.,\n",
       "         10.,  11.,  12.,  13.,  14.,  15.,  16.,  17.,  18.,  19.,  20.,\n",
       "         21.,  22.,  23.,  24.,  25.,  26.,  27.,  28.,  29.,  30.,  31.,\n",
       "         32.,  33.,  34.,  35.,  36.,  37.,  38.,  39.,  40.,  41.,  42.,\n",
       "         43.,  44.,  45.,  46.,  47.,  48.,  49.,  50.,  51.,  52.,  53.,\n",
       "         54.,  55.,  56.,  57.,  58.,  59.,  60.,  61.,  62.,  63.,  64.,\n",
       "         65.,  66.,  67.,  68.,  69.,  70.,  71.,  72.,  73.,  74.,  75.,\n",
       "         76.,  77.,  78.,  79.,  80.,  81.,  82.,  83.,  84.,  85.,  86.,\n",
       "         87.,  88.,  89.,  90.,  91.,  92.,  93.,  94.,  95.,  96.,  97.,\n",
       "         98.,  99., 100.,  inf]))"
      ]
     },
     "execution_count": 7,
     "metadata": {},
     "output_type": "execute_result"
    }
   ],
   "source": [
    "h1.allnumpy()"
   ]
  },
  {
   "cell_type": "code",
   "execution_count": null,
   "metadata": {},
   "outputs": [],
   "source": []
  }
 ],
 "metadata": {
  "kernelspec": {
   "display_name": "Python 3",
   "language": "python",
   "name": "python3"
  },
  "language_info": {
   "codemirror_mode": {
    "name": "ipython",
    "version": 3
   },
   "file_extension": ".py",
   "mimetype": "text/x-python",
   "name": "python",
   "nbconvert_exporter": "python",
   "pygments_lexer": "ipython3",
   "version": "3.7.3"
  }
 },
 "nbformat": 4,
 "nbformat_minor": 4
}
