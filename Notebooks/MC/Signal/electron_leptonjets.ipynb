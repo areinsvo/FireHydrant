{
 "cells": [
  {
   "cell_type": "markdown",
   "metadata": {},
   "source": [
    "feasibility to exploit electrons in 2mu2e signal samples"
   ]
  },
  {
   "cell_type": "code",
   "execution_count": 1,
   "metadata": {},
   "outputs": [],
   "source": [
    "import coffea.processor as processor\n",
    "from coffea import hist\n",
    "from coffea.analysis_objects import JaggedCandidateArray\n",
    "\n",
    "import numpy as np\n",
    "np.seterr(divide='ignore', invalid='ignore', over='ignore')\n",
    "import matplotlib.pyplot as plt"
   ]
  },
  {
   "cell_type": "code",
   "execution_count": 2,
   "metadata": {},
   "outputs": [],
   "source": [
    "import json\n",
    "\n",
    "dataset2mu2e_ = json.load(open('../Samples/signal_2mu2e.json'))\n",
    "dataset = dataset2mu2e_"
   ]
  },
  {
   "cell_type": "code",
   "execution_count": 3,
   "metadata": {},
   "outputs": [],
   "source": [
    "class ElectronProcessor(processor.ProcessorABC):\n",
    "    def __init__(self):\n",
    "        dataset_axis = hist.Cat('dataset', 'dataset')\n",
    "        nelec_axis = hist.Bin('nelec', 'electron multiplicity', 6, 0, 6)\n",
    "        \n",
    "        self._accumulator = processor.dict_accumulator({\n",
    "            \"nelec\": hist.Hist(\"#counts/bin\", dataset_axis, nelec_axis),\n",
    "        })\n",
    "        \n",
    "    @property\n",
    "    def accumulator(self):\n",
    "        return self._accumulator\n",
    "    \n",
    "    def process(self, df):\n",
    "        output = self.accumulator.identity()\n",
    "        dataset = df['dataset']\n",
    "        \n",
    "        electrons = JaggedCandidateArray.candidatesfromcounts(\n",
    "            df['electron_p4'],\n",
    "            px=df['electron_p4.fCoordinates.fX'],\n",
    "            py=df['electron_p4.fCoordinates.fY'],\n",
    "            pz=df['electron_p4.fCoordinates.fZ'],\n",
    "            energy=df['electron_p4.fCoordinates.fT'],\n",
    "        )\n",
    "        \n",
    "        output['nelec'].fill(dataset=dataset, nelec=electrons.counts)\n",
    "        \n",
    "        return output\n",
    "    \n",
    "    def postprocess(self, accumulator):\n",
    "        return accumulator"
   ]
  },
  {
   "cell_type": "code",
   "execution_count": 4,
   "metadata": {},
   "outputs": [
    {
     "name": "stderr",
     "output_type": "stream",
     "text": [
      "Preprocessing: 100%|██████████| 32/32 [00:05<00:00,  7.86it/s]\n",
      "Processing: 100%|██████████| 156/156 [00:09<00:00, 17.26items/s]\n"
     ]
    }
   ],
   "source": [
    "output = processor.run_uproot_job(dataset,\n",
    "                                  treename=\"ffNtuplizer/ffNtuple\",\n",
    "                                  processor_instance=ElectronProcessor(),\n",
    "                                  executor=processor.futures_executor,\n",
    "                                  executor_args=dict(workers=12, flatten=True),\n",
    "                                  chunksize=500000,\n",
    "                                 )"
   ]
  },
  {
   "cell_type": "code",
   "execution_count": 5,
   "metadata": {},
   "outputs": [
    {
     "data": {
      "image/png": "[encoded data removed]",
      "text/plain": [
       "<Figure size 576x432 with 1 Axes>"
      ]
     },
     "metadata": {
      "needs_background": "light"
     },
     "output_type": "display_data"
    }
   ],
   "source": [
    "fig, ax = plt.subplots(figsize=(8,6))\n",
    "_, _, prim0 = hist.plot1d(output['nelec']['*lxy-300'].project('dataset'), ax=ax, overflow='over', density=True)\n",
    "_, _, prim1 = hist.plot1d(output['nelec']['*lxy-0p3'].project('dataset'), ax=ax, overflow='over', density=True, clear=False)\n",
    "\n",
    "handles = [tuple(prim0[None]), tuple(prim1[None])]\n",
    "labels = ['lxy: 300cm', 'lxy: 0.3cm']\n",
    "ax.legend(handles, labels)\n",
    "ax.set_title('[sig-2mu2e] electron multiplicity', x=0.0, ha=\"left\")\n",
    "ax.set_xlabel(ax.get_xlabel(), x=1.0, ha=\"right\")\n",
    "ax.set_ylabel('norm. '+ax.get_ylabel(), y=1.0, ha=\"right\");"
   ]
  }
 ],
 "metadata": {
  "kernelspec": {
   "display_name": "Python 3",
   "language": "python",
   "name": "python3"
  },
  "language_info": {
   "codemirror_mode": {
    "name": "ipython",
    "version": 3
   },
   "file_extension": ".py",
   "mimetype": "text/x-python",
   "name": "python",
   "nbconvert_exporter": "python",
   "pygments_lexer": "ipython3",
   "version": "3.7.3"
  }
 },
 "nbformat": 4,
 "nbformat_minor": 4
}
