{
 "cells": [
  {
   "cell_type": "markdown",
   "metadata": {},
   "source": [
    "Match prompt muon well first, it is the base for dSA identification"
   ]
  },
  {
   "cell_type": "code",
   "execution_count": 1,
   "metadata": {},
   "outputs": [],
   "source": [
    "from coffea import hist\n",
    "from coffea.hist.hist_tools import Interval\n",
    "import coffea.processor as processor\n",
    "from coffea.analysis_objects import JaggedCandidateArray\n",
    "import numpy as np\n",
    "import matplotlib.pyplot as plt\n",
    "import pandas as pd\n",
    "import awkward\n",
    "from uproot_methods import TLorentzVectorArray\n",
    "\n",
    "np.seterr(divide='ignore', invalid='ignore', over='ignore')\n",
    "%matplotlib inline\n",
    "%config InlineBackend.figure_format = 'retina'"
   ]
  },
  {
   "cell_type": "code",
   "execution_count": 85,
   "metadata": {},
   "outputs": [],
   "source": [
    "import json\n",
    "import os\n",
    "from os.path import join\n",
    "\n",
    "dataset4mu_ = json.load(open(join(os.getenv('FH_BASE'), 'Notebooks/MC/Samples/signal_4mu_v2.json')))\n",
    "dataset2mu2e_ = json.load(open(join(os.getenv('FH_BASE'), 'Notebooks/MC/Samples/signal_2mu2e_v2.json')))\n",
    "backgrounds_ = json.load(open(join(os.getenv('FH_BASE'), 'Notebooks/MC/Samples/backgrounds_v2.json')))"
   ]
  },
  {
   "cell_type": "code",
   "execution_count": 89,
   "metadata": {},
   "outputs": [],
   "source": [
    "class promptMuonProcessor(processor.ProcessorABC):\n",
    "    def __init__(self):\n",
    "        dataset_axis = hist.Cat('dataset', 'dataset')\n",
    "        self._accumulator = processor.dict_accumulator({\n",
    "            'cutflow': processor.defaultdict_accumulator(int),\n",
    "        })\n",
    "    \n",
    "    @property\n",
    "    def accumulator(self):\n",
    "        return self._accumulator\n",
    "    \n",
    "    def process(self, df):\n",
    "        output = self.accumulator.identity()\n",
    "        dataset = df['dataset']\n",
    "        \n",
    "        ## recomuons/pfmuons\n",
    "        recomuons = JaggedCandidateArray.candidatesfromcounts(\n",
    "            df['muon_p4'],\n",
    "            p4=TLorentzVectorArray.from_cartesian(df['muon_p4.fCoordinates.fX'],\n",
    "                                                 df['muon_p4.fCoordinates.fY'],\n",
    "                                                 df['muon_p4.fCoordinates.fZ'],\n",
    "                                                 df['muon_p4.fCoordinates.fT']),\n",
    "            ispfmuon=df['muon_isPFMuon'],\n",
    "            selector=df['muon_id_selectors'],\n",
    "        )\n",
    "        recomuons.add_attributes( isloose=(recomuons.selector&(1<<0)==(1<<0)),\n",
    "                                  ismedium=(recomuons.selector&(1<<1)==(1<<1)),\n",
    "                                  istight=(recomuons.selector&(1<<3)==(1<<3)),\n",
    "                                  pfisoveryloose=(recomuons.selector&(1<<6)==(1<<6)),\n",
    "                                  pfisoloose=(recomuons.selector&(1<<7)==(1<<7)),\n",
    "                                  pfisomedium=(recomuons.selector&(1<<8)==(1<<8)),\n",
    "                                  tkisoloose=(recomuons.selector&(1<<11)==(1<<11)),\n",
    "                                  tkisotight=(recomuons.selector&(1<<12)==(1<<12)),\n",
    "                                  intime=(recomuons.selector&(1<<23)==(1<<23)),\n",
    "                                )\n",
    "        recomuons = recomuons[(recomuons.pt>5.)&(np.abs(recomuons.eta)<2.4)]\n",
    "                \n",
    "        genparticles = JaggedCandidateArray.candidatesfromcounts(\n",
    "            df['gen_p4'],\n",
    "            p4=TLorentzVectorArray.from_cartesian(df['gen_p4.fCoordinates.fX'],\n",
    "                                                 df['gen_p4.fCoordinates.fY'],\n",
    "                                                 df['gen_p4.fCoordinates.fZ'],\n",
    "                                                 df['gen_p4.fCoordinates.fT']),\n",
    "            pid=df['gen_pid'],\n",
    "            vx=df['gen_vtx.fCoordinates.fX'],\n",
    "            vy=df['gen_vtx.fCoordinates.fY'],\n",
    "            vz=df['gen_vtx.fCoordinates.fZ'],\n",
    "        )\n",
    "        genparticles.add_attributes(vxy=np.hypot(genparticles.vx, genparticles.vy))\n",
    "        genmuons = genparticles[(np.abs(genparticles.pid)==13)]\n",
    "\n",
    "        # prompt-like\n",
    "        genmuons = genmuons[genmuons.vxy<3]\n",
    "\n",
    "        output['cutflow']['total-pf'] += recomuons[recomuons.ispfmuon].counts.sum()\n",
    "        output['cutflow']['total-loose'] += recomuons[recomuons.isloose].counts.sum()\n",
    "        output['cutflow']['total-medium'] += recomuons[recomuons.ismedium].counts.sum()\n",
    "        output['cutflow']['total-tight'] += recomuons[recomuons.istight].counts.sum()\n",
    "        output['cutflow']['total-pfisoVeryLoose'] += recomuons[recomuons.pfisoveryloose].counts.sum()\n",
    "        output['cutflow']['total-pfisoLoose'] += recomuons[recomuons.pfisoloose].counts.sum()\n",
    "        output['cutflow']['total-pfisoMedium'] += recomuons[recomuons.pfisomedium].counts.sum()\n",
    "        output['cutflow']['total-looseLoose'] += recomuons[recomuons.pfisoloose&recomuons.isloose].counts.sum()\n",
    "        output['cutflow']['total-looseVeryloose'] += recomuons[recomuons.pfisoveryloose&recomuons.isloose].counts.sum()\n",
    "        output['cutflow']['total-matchedWithGen'] += recomuons.match(genmuons, deltaRCut=0.2).flatten().sum()\n",
    "        output['cutflow']['total-tkIsoLoose'] += recomuons[recomuons.tkisoloose].counts.sum()\n",
    "        output['cutflow']['total-tkIsoTight'] += recomuons[recomuons.tkisotight].counts.sum()\n",
    "        output['cutflow']['total-inTime'] += recomuons[recomuons.intime].counts.sum()\n",
    "        output['cutflow']['total-comb'] += recomuons[recomuons.pfisoveryloose&recomuons.isloose&recomuons.intime].counts.sum()\n",
    "        \n",
    "        output['cutflow']['total-gen'] += genmuons.counts.sum()\n",
    "        output['cutflow']['matched-found'] += genmuons.match(recomuons, deltaRCut=0.2).flatten().sum()\n",
    "        \n",
    "        matchedidx = genmuons.argmatch(recomuons, deltaRCut=0.2)\n",
    "        matchedRecoMu = recomuons[matchedidx[matchedidx!=-1]]\n",
    "        output['cutflow']['loose-found'] += matchedRecoMu[matchedRecoMu.isloose].counts.sum()\n",
    "        output['cutflow']['medium-found'] += matchedRecoMu[matchedRecoMu.ismedium].counts.sum()\n",
    "        output['cutflow']['pfisoVeryLoose-found'] += matchedRecoMu[matchedRecoMu.pfisoveryloose].counts.sum()\n",
    "        output['cutflow']['pfisoLoose-found'] += matchedRecoMu[matchedRecoMu.pfisoloose].counts.sum()\n",
    "        output['cutflow']['pfisoMedium-found'] += matchedRecoMu[matchedRecoMu.pfisomedium].counts.sum()\n",
    "        output['cutflow']['looseLoose-found'] += matchedRecoMu[matchedRecoMu.pfisoloose&matchedRecoMu.isloose].counts.sum()\n",
    "        output['cutflow']['looseVeryloose-found'] += matchedRecoMu[matchedRecoMu.pfisoveryloose&matchedRecoMu.isloose].counts.sum()\n",
    "        \n",
    "        return output\n",
    "    \n",
    "    def postprocess(self, accumulator):\n",
    "        return accumulator"
   ]
  },
  {
   "cell_type": "code",
   "execution_count": 90,
   "metadata": {},
   "outputs": [
    {
     "name": "stderr",
     "output_type": "stream",
     "text": [
      "Preprocessing: 100%|██████████| 2/2 [00:00<00:00, 3498.17it/s]\n",
      "Processing: 100%|██████████| 10/10 [00:03<00:00,  1.44s/items]\n"
     ]
    }
   ],
   "source": [
    "dataset={\n",
    "#     '4mu/mXX-100_mA-5_lxy-300': dataset4mu_['mXX-100_mA-5_lxy-300'],\n",
    "#     '4mu/mXX-1000_mA-0p25_lxy-300': dataset4mu_['mXX-1000_mA-0p25_lxy-300'],\n",
    "    '2mu2e/mXX-100_mA-5_lxy-300':dataset2mu2e_['mXX-100_mA-5_lxy-300'],\n",
    "    '2mu2e/mXX-1000_mA-0p25_lxy-300': dataset2mu2e_['mXX-1000_mA-0p25_lxy-300'],\n",
    "}\n",
    "\n",
    "# dataset={\n",
    "#     '4mu/mXX-100_mA-5_lxy-0p3': dataset4mu_['mXX-100_mA-5_lxy-0p3'],\n",
    "#     '4mu/mXX-1000_mA-0p25_lxy-0p3': dataset4mu_['mXX-1000_mA-0p25_lxy-0p3'],\n",
    "#     '2mu2e/mXX-100_mA-5_lxy-0p3': dataset2mu2e_['mXX-100_mA-5_lxy-0p3'],\n",
    "#     '2mu2e/mXX-1000_mA-0p25_lxy-0p3': dataset2mu2e_['mXX-1000_mA-0p25_lxy-0p3'],\n",
    "# }\n",
    "\n",
    "\n",
    "output = processor.run_uproot_job(dataset,\n",
    "                                  treename='ffNtuplizer/ffNtuple',\n",
    "                                  processor_instance=promptMuonProcessor(),\n",
    "                                  executor=processor.futures_executor,\n",
    "                                  executor_args=dict(workers=12, flatten=True),\n",
    "                                  chunksize=500000,\n",
    "                                 )"
   ]
  },
  {
   "cell_type": "code",
   "execution_count": 91,
   "metadata": {},
   "outputs": [
    {
     "data": {
      "text/plain": [
       "total-pf                19799\n",
       "total-loose             15719\n",
       "total-medium             9279\n",
       "total-tight              2781\n",
       "total-pfisoVeryLoose    50144\n",
       "total-pfisoLoose        47453\n",
       "total-pfisoMedium       46011\n",
       "total-looseLoose        13229\n",
       "total-looseVeryloose    13769\n",
       "total-matchedWithGen     1012\n",
       "total-tkIsoLoose        53548\n",
       "total-tkIsoTight        52709\n",
       "total-inTime            55155\n",
       "total-comb              13634\n",
       "total-gen                1046\n",
       "matched-found            1039\n",
       "loose-found               998\n",
       "medium-found              944\n",
       "pfisoVeryLoose-found     1025\n",
       "pfisoLoose-found         1009\n",
       "pfisoMedium-found        1001\n",
       "looseLoose-found          968\n",
       "looseVeryloose-found      984\n",
       "dtype: int64"
      ]
     },
     "execution_count": 91,
     "metadata": {},
     "output_type": "execute_result"
    }
   ],
   "source": [
    "pd.Series(dict(output['cutflow']))"
   ]
  },
  {
   "cell_type": "code",
   "execution_count": 92,
   "metadata": {},
   "outputs": [],
   "source": [
    "class promptMuonProcessor(processor.ProcessorABC):\n",
    "    def __init__(self):\n",
    "        dataset_axis = hist.Cat('dataset', 'dataset')\n",
    "        self._accumulator = processor.dict_accumulator({\n",
    "            'cutflow': processor.defaultdict_accumulator(int),\n",
    "        })\n",
    "    \n",
    "    @property\n",
    "    def accumulator(self):\n",
    "        return self._accumulator\n",
    "    \n",
    "    def process(self, df):\n",
    "        output = self.accumulator.identity()\n",
    "        dataset = df['dataset']\n",
    "        \n",
    "        ## recomuons/pfmuons\n",
    "        recomuons = JaggedCandidateArray.candidatesfromcounts(\n",
    "            df['muon_p4'],\n",
    "            p4=TLorentzVectorArray.from_cartesian(df['muon_p4.fCoordinates.fX'],\n",
    "                                                 df['muon_p4.fCoordinates.fY'],\n",
    "                                                 df['muon_p4.fCoordinates.fZ'],\n",
    "                                                 df['muon_p4.fCoordinates.fT']),\n",
    "            ispfmuon=df['muon_isPFMuon'],\n",
    "            selector=df['muon_id_selectors'],\n",
    "        )\n",
    "        recomuons.add_attributes( isloose=(recomuons.selector&(1<<0)==(1<<0)),\n",
    "                                  ismedium=(recomuons.selector&(1<<1)==(1<<1)),\n",
    "                                  istight=(recomuons.selector&(1<<3)==(1<<3)),\n",
    "                                  pfisoveryloose=(recomuons.selector&(1<<6)==(1<<6)),\n",
    "                                  pfisoloose=(recomuons.selector&(1<<7)==(1<<7)),\n",
    "                                  pfisomedium=(recomuons.selector&(1<<8)==(1<<8)),\n",
    "                                  tkisoloose=(recomuons.selector&(1<<11)==(1<<11)),\n",
    "                                  tkisotight=(recomuons.selector&(1<<12)==(1<<12)),\n",
    "                                  intime=(recomuons.selector&(1<<23)==(1<<23)),\n",
    "                                )\n",
    "        recomuons = recomuons[(recomuons.pt>5.)&(np.abs(recomuons.eta)<2.4)]\n",
    "                \n",
    "        genparticles = JaggedCandidateArray.candidatesfromcounts(\n",
    "            df['gen_p4'],\n",
    "            p4=TLorentzVectorArray.from_cartesian(df['gen_p4.fCoordinates.fX'],\n",
    "                                                 df['gen_p4.fCoordinates.fY'],\n",
    "                                                 df['gen_p4.fCoordinates.fZ'],\n",
    "                                                 df['gen_p4.fCoordinates.fT']),\n",
    "            pid=df['gen_pid'],\n",
    "        )\n",
    "        genmuons = genparticles[(np.abs(genparticles.pid)==13)]\n",
    "\n",
    "        output['cutflow']['total-pf'] += recomuons[recomuons.ispfmuon].counts.sum()\n",
    "        output['cutflow']['total-loose'] += recomuons[recomuons.isloose].counts.sum()\n",
    "        output['cutflow']['total-medium'] += recomuons[recomuons.ismedium].counts.sum()\n",
    "        output['cutflow']['total-tight'] += recomuons[recomuons.istight].counts.sum()\n",
    "        output['cutflow']['total-pfisoVeryLoose'] += recomuons[recomuons.pfisoveryloose].counts.sum()\n",
    "        output['cutflow']['total-pfisoLoose'] += recomuons[recomuons.pfisoloose].counts.sum()\n",
    "        output['cutflow']['total-pfisoMedium'] += recomuons[recomuons.pfisomedium].counts.sum()\n",
    "        output['cutflow']['total-looseLoose'] += recomuons[recomuons.pfisoloose&recomuons.isloose].counts.sum()\n",
    "        output['cutflow']['total-looseVeryloose'] += recomuons[recomuons.pfisoveryloose&recomuons.isloose].counts.sum()\n",
    "        output['cutflow']['total-matchedWithGen'] += recomuons.match(genmuons, deltaRCut=0.2).flatten().sum()\n",
    "        output['cutflow']['total-tkIsoLoose'] += recomuons[recomuons.tkisoloose].counts.sum()\n",
    "        output['cutflow']['total-tkIsoTight'] += recomuons[recomuons.tkisotight].counts.sum()\n",
    "        output['cutflow']['total-inTime'] += recomuons[recomuons.intime].counts.sum()\n",
    "        output['cutflow']['total-comb'] += recomuons[recomuons.pfisoveryloose&recomuons.isloose&recomuons.intime].counts.sum()\n",
    "        \n",
    "        output['cutflow']['total-gen'] += genmuons.counts.sum()\n",
    "        output['cutflow']['matched-found'] += genmuons.match(recomuons, deltaRCut=0.2).flatten().sum()\n",
    "        \n",
    "        matchedidx = genmuons.argmatch(recomuons, deltaRCut=0.2)\n",
    "        matchedRecoMu = recomuons[matchedidx[matchedidx!=-1]]\n",
    "        output['cutflow']['loose-found'] += matchedRecoMu[matchedRecoMu.isloose].counts.sum()\n",
    "        output['cutflow']['medium-found'] += matchedRecoMu[matchedRecoMu.ismedium].counts.sum()\n",
    "        output['cutflow']['pfisoVeryLoose-found'] += matchedRecoMu[matchedRecoMu.pfisoveryloose].counts.sum()\n",
    "        output['cutflow']['pfisoLoose-found'] += matchedRecoMu[matchedRecoMu.pfisoloose].counts.sum()\n",
    "        output['cutflow']['pfisoMedium-found'] += matchedRecoMu[matchedRecoMu.pfisomedium].counts.sum()\n",
    "        output['cutflow']['looseLoose-found'] += matchedRecoMu[matchedRecoMu.pfisoloose&matchedRecoMu.isloose].counts.sum()\n",
    "        output['cutflow']['looseVeryloose-found'] += matchedRecoMu[matchedRecoMu.pfisoveryloose&matchedRecoMu.isloose].counts.sum()\n",
    "        \n",
    "        return output\n",
    "    \n",
    "    def postprocess(self, accumulator):\n",
    "        return accumulator"
   ]
  },
  {
   "cell_type": "code",
   "execution_count": 94,
   "metadata": {},
   "outputs": [
    {
     "name": "stderr",
     "output_type": "stream",
     "text": [
      "Preprocessing: 100%|██████████| 1/1 [00:00<00:00, 2086.72it/s]\n",
      "Processing: 100%|██████████| 124/124 [00:28<00:00,  4.42items/s]\n"
     ]
    }
   ],
   "source": [
    "dataset = backgrounds_['QCD']\n",
    "output = processor.run_uproot_job(dataset,\n",
    "                                  treename='ffNtuplizer/ffNtuple',\n",
    "                                  processor_instance=promptMuonProcessor(),\n",
    "                                  executor=processor.futures_executor,\n",
    "                                  executor_args=dict(workers=12, flatten=True),\n",
    "                                  chunksize=500000,\n",
    "                                 )"
   ]
  },
  {
   "cell_type": "code",
   "execution_count": 95,
   "metadata": {},
   "outputs": [
    {
     "data": {
      "text/plain": [
       "total-pf                104631\n",
       "total-loose             104038\n",
       "total-medium             98630\n",
       "total-tight              91998\n",
       "total-pfisoVeryLoose     23725\n",
       "total-pfisoLoose         16532\n",
       "total-pfisoMedium        14187\n",
       "total-looseLoose          9389\n",
       "total-looseVeryloose     14763\n",
       "total-matchedWithGen    133254\n",
       "total-tkIsoLoose         29639\n",
       "total-tkIsoTight         27324\n",
       "total-inTime            146091\n",
       "total-comb               14583\n",
       "total-gen               760298\n",
       "matched-found           111848\n",
       "loose-found             104820\n",
       "medium-found            102576\n",
       "pfisoVeryLoose-found     15446\n",
       "pfisoLoose-found          9584\n",
       "pfisoMedium-found         7847\n",
       "looseLoose-found          9110\n",
       "looseVeryloose-found     14766\n",
       "dtype: int64"
      ]
     },
     "execution_count": 95,
     "metadata": {},
     "output_type": "execute_result"
    }
   ],
   "source": [
    "pd.Series(dict(output['cutflow']))"
   ]
  },
  {
   "cell_type": "code",
   "execution_count": 80,
   "metadata": {},
   "outputs": [],
   "source": [
    "class promptMuonProcessor(processor.ProcessorABC):\n",
    "    def __init__(self):\n",
    "        dataset_axis = hist.Cat('dataset', 'dataset')\n",
    "        pt_axis = hist.Bin('pt', '$p_T$ [GeV]', 50, 0, 100)\n",
    "        eta_axis = hist.Bin('eta', '$\\eta$', 48, -2.4, 2.4)\n",
    "        dr_axis = hist.Bin('dr', '$\\Delta$R', 50, 0, 0.5)\n",
    "        self._accumulator = processor.dict_accumulator({\n",
    "            'totalmu': hist.Hist('Counts', dataset_axis, pt_axis, eta_axis),\n",
    "            'totalmupairdr': hist.Hist('Counts', dataset_axis, dr_axis),\n",
    "            'genmatchedmu': hist.Hist('Counts', dataset_axis, pt_axis, eta_axis),\n",
    "            'genmatchedmupairdr': hist.Hist('Counts', dataset_axis, dr_axis),\n",
    "            'genmuondr': hist.Hist('Counts', dataset_axis, dr_axis),\n",
    "            \n",
    "        })\n",
    "    \n",
    "    @property\n",
    "    def accumulator(self):\n",
    "        return self._accumulator\n",
    "    \n",
    "    def process(self, df):\n",
    "        output = self.accumulator.identity()\n",
    "        dataset = df['dataset']\n",
    "        \n",
    "        ## recomuons/pfmuons\n",
    "        recomuons = JaggedCandidateArray.candidatesfromcounts(\n",
    "            df['muon_p4'],\n",
    "            p4=TLorentzVectorArray.from_cartesian(df['muon_p4.fCoordinates.fX'],\n",
    "                                                 df['muon_p4.fCoordinates.fY'],\n",
    "                                                 df['muon_p4.fCoordinates.fZ'],\n",
    "                                                 df['muon_p4.fCoordinates.fT']),\n",
    "            ispfmuon=df['muon_isPFMuon'],\n",
    "            selector=df['muon_id_selectors'],\n",
    "        )\n",
    "        recomuons.add_attributes( isloose=(recomuons.selector&(1<<0)==(1<<0)),\n",
    "                                  ismedium=(recomuons.selector&(1<<1)==(1<<1)),\n",
    "                                  istight=(recomuons.selector&(1<<3)==(1<<3)),\n",
    "                                  pfisoveryloose=(recomuons.selector&(1<<6)==(1<<6)),\n",
    "                                  pfisoloose=(recomuons.selector&(1<<7)==(1<<7)),\n",
    "                                  pfisomedium=(recomuons.selector&(1<<8)==(1<<8)),\n",
    "                                )\n",
    "        \n",
    "                \n",
    "        genparticles = JaggedCandidateArray.candidatesfromcounts(\n",
    "            df['gen_p4'],\n",
    "            p4=TLorentzVectorArray.from_cartesian(df['gen_p4.fCoordinates.fX'],\n",
    "                                                 df['gen_p4.fCoordinates.fY'],\n",
    "                                                 df['gen_p4.fCoordinates.fZ'],\n",
    "                                                 df['gen_p4.fCoordinates.fT']),\n",
    "            pid=df['gen_pid'],\n",
    "            charge=df['gen_charge'],\n",
    "            vx=df['gen_vtx.fCoordinates.fX'],\n",
    "            vy=df['gen_vtx.fCoordinates.fY'],\n",
    "            vz=df['gen_vtx.fCoordinates.fZ'],\n",
    "        )\n",
    "        genparticles.add_attributes(vxy=np.hypot(genparticles.vx, genparticles.vy))\n",
    "        genmuons = genparticles[(np.abs(genparticles.pid)==13)]\n",
    "\n",
    "        # prompt-like\n",
    "        genmuons = genmuons[genmuons.vxy<3]\n",
    "        recomuons.add_attributes(genmatched=recomuons.match(genmuons, deltaRCut=0.2))\n",
    "        recomuons = recomuons[(recomuons.pt>5.)&(np.abs(recomuons.eta)<2.4)]\n",
    "        \n",
    "        genmuonpairs = genmuons.distincts()\n",
    "        genmuonpairs = genmuonpairs[genmuonpairs.i0.charge*genmuonpairs.i1.charge==-1]\n",
    "        output['genmuondr'].fill(dataset=dataset, dr=genmuonpairs.i0.p4.delta_r(genmuonpairs.i1.p4).flatten())\n",
    "\n",
    "        pfmuons = recomuons[recomuons.ispfmuon]\n",
    "        output['totalmu'].fill(dataset=dataset, pt=pfmuons.pt.flatten(),\n",
    "                              eta=pfmuons.eta.flatten())\n",
    "        pfmuonpairs = pfmuons.distincts()\n",
    "        output['totalmupairdr'].fill(dataset=dataset, dr=pfmuonpairs.i0.p4.delta_r(pfmuonpairs.i1.p4).flatten())\n",
    "        \n",
    "#         matchedidx = genmuons.argmatch(recomuons, deltaRCut=0.2)\n",
    "#         matchedRecoMu = recomuons[matchedidx[matchedidx!=-1]]\n",
    "#         output['genmatchedmu'].fill(dataset=dataset, pt=matchedRecoMu.pt.flatten(),\n",
    "#                               eta=matchedRecoMu.eta.flatten())\n",
    "        matchedRecoMu = recomuons[recomuons.genmatched]\n",
    "        output['genmatchedmu'].fill(dataset=dataset, pt=matchedRecoMu.pt.flatten(),\n",
    "                              eta=matchedRecoMu.eta.flatten())\n",
    "        matchedRecoMuPairs = matchedRecoMu.distincts()\n",
    "        output['genmatchedmupairdr'].fill(dataset=dataset, dr=matchedRecoMuPairs.i0.p4.delta_r(matchedRecoMuPairs.i1.p4).flatten())\n",
    "        \n",
    "        \n",
    "        return output\n",
    "    \n",
    "    def postprocess(self, accumulator):\n",
    "        return accumulator"
   ]
  },
  {
   "cell_type": "code",
   "execution_count": 83,
   "metadata": {},
   "outputs": [
    {
     "name": "stderr",
     "output_type": "stream",
     "text": [
      "Preprocessing: 100%|██████████| 1/1 [00:00<00:00, 2239.35it/s]\n",
      "Processing: 100%|██████████| 5/5 [00:03<00:00,  1.66items/s]\n"
     ]
    }
   ],
   "source": [
    "dataset={\n",
    "#     '4mu/mXX-100_mA-5_lxy-300': dataset4mu_['mXX-100_mA-5_lxy-300'],\n",
    "#     '4mu/mXX-1000_mA-0p25_lxy-300': dataset4mu_['mXX-1000_mA-0p25_lxy-300'],\n",
    "    '2mu2e/mXX-100_mA-5_lxy-300':dataset2mu2e_['mXX-100_mA-5_lxy-300'],\n",
    "#     '2mu2e/mXX-1000_mA-0p25_lxy-300': dataset2mu2e_['mXX-1000_mA-0p25_lxy-300'],\n",
    "}\n",
    "\n",
    "# dataset={\n",
    "#     '4mu/mXX-100_mA-5_lxy-0p3': dataset4mu_['mXX-100_mA-5_lxy-0p3'],\n",
    "#     '4mu/mXX-1000_mA-0p25_lxy-0p3': dataset4mu_['mXX-1000_mA-0p25_lxy-0p3'],\n",
    "#     '2mu2e/mXX-100_mA-5_lxy-0p3': dataset2mu2e_['mXX-100_mA-5_lxy-0p3'],\n",
    "#     '2mu2e/mXX-1000_mA-0p25_lxy-0p3': dataset2mu2e_['mXX-1000_mA-0p25_lxy-0p3'],\n",
    "# }\n",
    "\n",
    "output = processor.run_uproot_job(dataset,\n",
    "                                  treename='ffNtuplizer/ffNtuple',\n",
    "                                  processor_instance=promptMuonProcessor(),\n",
    "                                  executor=processor.futures_executor,\n",
    "                                  executor_args=dict(workers=12, flatten=True),\n",
    "                                  chunksize=500000,\n",
    "                                 )"
   ]
  },
  {
   "cell_type": "code",
   "execution_count": 69,
   "metadata": {},
   "outputs": [
    {
     "data": {
      "image/png": "[encoded data removed]",
      "text/plain": [
       "<Figure size 864x360 with 2 Axes>"
      ]
     },
     "metadata": {
      "image/png": {
       "height": 333,
       "width": 722
      },
      "needs_background": "light"
     },
     "output_type": "display_data"
    }
   ],
   "source": [
    "fig,axes=plt.subplots(1,2,figsize=(12,5))\n",
    "hist.plot1d(output['totalmu'].sum('eta', 'dataset', overflow='all'), ax=axes[0], overflow='over', density=False)\n",
    "hist.plot1d(output['genmatchedmu'].sum('eta', 'dataset', overflow='all'), ax=axes[0], overflow='over', clear=False, density=False)\n",
    "\n",
    "hist.plot1d(output['totalmu'].sum('pt', 'dataset', overflow='all'), ax=axes[1], overflow='all', density=False)\n",
    "hist.plot1d(output['genmatchedmu'].sum('pt', 'dataset', overflow='all'), ax=axes[1], overflow='all', clear=False, density=False)\n",
    "\n",
    "axes[0].set_title('recomu pT', ha='left', x=0)\n",
    "axes[1].set_title('recomu eta', ha='left', x=0)\n",
    "for ax in axes:\n",
    "    ax.set_yscale('symlog')\n",
    "    ax.set_xlabel(ax.get_xlabel(), x=1.0, ha=\"right\")\n",
    "    ax.set_ylabel(ax.get_ylabel(), y=1.0, ha=\"right\");"
   ]
  },
  {
   "cell_type": "code",
   "execution_count": 84,
   "metadata": {},
   "outputs": [
    {
     "data": {
      "image/png": "[encoded data removed]",
      "text/plain": [
       "<Figure size 432x360 with 1 Axes>"
      ]
     },
     "metadata": {
      "image/png": {
       "height": 331,
       "width": 390
      },
      "needs_background": "light"
     },
     "output_type": "display_data"
    }
   ],
   "source": [
    "fig,axes=plt.subplots(1,1,figsize=(6,5))\n",
    "hist.plot1d(output['totalmupairdr'].sum('dataset', overflow='all'), ax=axes, overflow='over', density=False)\n",
    "hist.plot1d(output['genmatchedmupairdr'].sum('dataset', overflow='all'), ax=axes, overflow='over', clear=False, density=False)\n",
    "\n",
    "\n",
    "axes.set_title('recomu pair dr', ha='left', x=0)\n",
    "\n",
    "# axes.set_yscale('symlog')\n",
    "axes.set_xlabel(axes.get_xlabel(), x=1.0, ha=\"right\")\n",
    "axes.set_ylabel(axes.get_ylabel(), y=1.0, ha=\"right\");"
   ]
  },
  {
   "cell_type": "code",
   "execution_count": 82,
   "metadata": {},
   "outputs": [
    {
     "data": {
      "image/png": "[encoded data removed]",
      "text/plain": [
       "<Figure size 432x360 with 1 Axes>"
      ]
     },
     "metadata": {
      "image/png": {
       "height": 331,
       "width": 390
      },
      "needs_background": "light"
     },
     "output_type": "display_data"
    }
   ],
   "source": [
    "fig,axes=plt.subplots(1,1,figsize=(6,5))\n",
    "hist.plot1d(output['genmuondr'], ax=axes, overlay='dataset', overflow='over', density=False)\n",
    "\n",
    "\n",
    "axes.set_title('genmu pair dr', ha='left', x=0)\n",
    "\n",
    "# axes.set_yscale('symlog')\n",
    "axes.set_xlabel(axes.get_xlabel(), x=1.0, ha=\"right\")\n",
    "axes.set_ylabel(axes.get_ylabel(), y=1.0, ha=\"right\");"
   ]
  },
  {
   "cell_type": "markdown",
   "metadata": {},
   "source": [
    "## pfmuons"
   ]
  },
  {
   "cell_type": "code",
   "execution_count": 75,
   "metadata": {},
   "outputs": [],
   "source": [
    "class promptMuonProcessor(processor.ProcessorABC):\n",
    "    def __init__(self):\n",
    "        dataset_axis = hist.Cat('dataset', 'dataset')\n",
    "        self._accumulator = processor.dict_accumulator({\n",
    "            'cutflow': processor.defaultdict_accumulator(int),\n",
    "        })\n",
    "    \n",
    "    @property\n",
    "    def accumulator(self):\n",
    "        return self._accumulator\n",
    "    \n",
    "    def process(self, df):\n",
    "        output = self.accumulator.identity()\n",
    "        dataset = df['dataset']\n",
    "        \n",
    "        ## recomuons/pfmuons\n",
    "        pfmuons = JaggedCandidateArray.candidatesfromcounts(\n",
    "            df['pfmuon_p4'],\n",
    "            p4=TLorentzVectorArray.from_cartesian(df['pfmuon_p4.fCoordinates.fX'],\n",
    "                                                 df['pfmuon_p4.fCoordinates.fY'],\n",
    "                                                 df['pfmuon_p4.fCoordinates.fZ'],\n",
    "                                                 df['pfmuon_p4.fCoordinates.fT']),\n",
    "            selector=df['pfmuon_selectors'],\n",
    "            foundadjacent=df['pfmuon_foundAdjacent'],\n",
    "            foundadjacentos=df['pfmuon_foundAdjacentOS'],\n",
    "        )\n",
    "        pfmuons.add_attributes( isloose=(pfmuons.selector&(1<<0)==(1<<0)),\n",
    "                                  ismedium=(pfmuons.selector&(1<<1)==(1<<1)),\n",
    "                                  istight=(pfmuons.selector&(1<<3)==(1<<3)),\n",
    "                                  pfisoveryloose=(pfmuons.selector&(1<<6)==(1<<6)),\n",
    "                                  pfisoloose=(pfmuons.selector&(1<<7)==(1<<7)),\n",
    "                                  pfisomedium=(pfmuons.selector&(1<<8)==(1<<8)),\n",
    "                                  tkisoloose=(pfmuons.selector&(1<<11)==(1<<11)),\n",
    "                                  tkisotight=(pfmuons.selector&(1<<12)==(1<<12)),\n",
    "                                  intime=(pfmuons.selector&(1<<23)==(1<<23)),\n",
    "                                )\n",
    "                \n",
    "        genparticles = JaggedCandidateArray.candidatesfromcounts(\n",
    "            df['gen_p4'],\n",
    "            p4=TLorentzVectorArray.from_cartesian(df['gen_p4.fCoordinates.fX'],\n",
    "                                                 df['gen_p4.fCoordinates.fY'],\n",
    "                                                 df['gen_p4.fCoordinates.fZ'],\n",
    "                                                 df['gen_p4.fCoordinates.fT']),\n",
    "            pid=df['gen_pid'],\n",
    "            vx=df['gen_vtx.fCoordinates.fX'],\n",
    "            vy=df['gen_vtx.fCoordinates.fY'],\n",
    "            vz=df['gen_vtx.fCoordinates.fZ'],\n",
    "        )\n",
    "        genparticles.add_attributes(vxy=np.hypot(genparticles.vx, genparticles.vy))\n",
    "        genmuons = genparticles[(np.abs(genparticles.pid)==13)]\n",
    "\n",
    "        # prompt-like\n",
    "        genmuons = genmuons[genmuons.vxy<3]\n",
    "\n",
    "        output['cutflow']['total'] += pfmuons.counts.sum()\n",
    "        output['cutflow']['total-loose'] += pfmuons[pfmuons.isloose].counts.sum()\n",
    "        output['cutflow']['total-medium'] += pfmuons[pfmuons.ismedium].counts.sum()\n",
    "        output['cutflow']['total-tight'] += pfmuons[pfmuons.istight].counts.sum()\n",
    "        output['cutflow']['total-pfisoVeryLoose'] += pfmuons[pfmuons.pfisoveryloose].counts.sum()\n",
    "        output['cutflow']['total-pfisoLoose'] += pfmuons[pfmuons.pfisoloose].counts.sum()\n",
    "        output['cutflow']['total-pfisoMedium'] += pfmuons[pfmuons.pfisomedium].counts.sum()\n",
    "        output['cutflow']['total-looseLoose'] += pfmuons[pfmuons.pfisoloose&pfmuons.isloose].counts.sum()\n",
    "        output['cutflow']['total-looseVeryloose'] += pfmuons[pfmuons.pfisoveryloose&pfmuons.isloose].counts.sum()\n",
    "        output['cutflow']['total-matchedWithGen'] += pfmuons.match(genmuons, deltaRCut=0.2).flatten().sum()\n",
    "        output['cutflow']['total-tkIsoLoose'] += pfmuons[pfmuons.tkisoloose].counts.sum()\n",
    "        output['cutflow']['total-tkIsoTight'] += pfmuons[pfmuons.tkisotight].counts.sum()\n",
    "        output['cutflow']['total-inTime'] += pfmuons[pfmuons.intime].counts.sum()\n",
    "        output['cutflow']['total-comb'] += pfmuons[pfmuons.pfisoveryloose&pfmuons.isloose&pfmuons.intime].counts.sum()\n",
    "        output['cutflow']['total-foundAdjacent'] += pfmuons[pfmuons.foundadjacent].counts.sum()\n",
    "        output['cutflow']['total-foundAdjacentOS'] += pfmuons[pfmuons.foundadjacentos].counts.sum()\n",
    "        \n",
    "        output['cutflow']['total-gen'] += genmuons.counts.sum()\n",
    "        output['cutflow']['matched-found'] += genmuons.match(pfmuons, deltaRCut=0.2).flatten().sum()\n",
    "        \n",
    "        matchedidx = genmuons.argmatch(pfmuons, deltaRCut=0.2)\n",
    "        matchedRecoMu = pfmuons[matchedidx[matchedidx!=-1]]\n",
    "        output['cutflow']['loose-found'] += matchedRecoMu[matchedRecoMu.isloose].counts.sum()\n",
    "        output['cutflow']['medium-found'] += matchedRecoMu[matchedRecoMu.ismedium].counts.sum()\n",
    "        output['cutflow']['tight-found'] += matchedRecoMu[matchedRecoMu.istight].counts.sum()\n",
    "        output['cutflow']['pfisoVeryLoose-found'] += matchedRecoMu[matchedRecoMu.pfisoveryloose].counts.sum()\n",
    "        output['cutflow']['pfisoLoose-found'] += matchedRecoMu[matchedRecoMu.pfisoloose].counts.sum()\n",
    "        output['cutflow']['pfisoMedium-found'] += matchedRecoMu[matchedRecoMu.pfisomedium].counts.sum()\n",
    "        output['cutflow']['looseLoose-found'] += matchedRecoMu[matchedRecoMu.pfisoloose&matchedRecoMu.isloose].counts.sum()\n",
    "        output['cutflow']['looseVeryloose-found'] += matchedRecoMu[matchedRecoMu.pfisoveryloose&matchedRecoMu.isloose].counts.sum()\n",
    "        \n",
    "        return output\n",
    "    \n",
    "    def postprocess(self, accumulator):\n",
    "        return accumulator"
   ]
  },
  {
   "cell_type": "code",
   "execution_count": 78,
   "metadata": {},
   "outputs": [
    {
     "name": "stderr",
     "output_type": "stream",
     "text": [
      "Preprocessing: 100%|██████████| 1/1 [00:00<00:00, 3352.76it/s]\n",
      "Processing: 100%|██████████| 5/5 [00:03<00:00,  1.48s/items]\n"
     ]
    }
   ],
   "source": [
    "dataset={\n",
    "#     '4mu/mXX-100_mA-5_lxy-300': dataset4mu_['mXX-100_mA-5_lxy-300'],\n",
    "#     '4mu/mXX-1000_mA-0p25_lxy-300': dataset4mu_['mXX-1000_mA-0p25_lxy-300'],\n",
    "#     '2mu2e/mXX-100_mA-5_lxy-300':dataset2mu2e_['mXX-100_mA-5_lxy-300'],\n",
    "    '2mu2e/mXX-1000_mA-0p25_lxy-300': dataset2mu2e_['mXX-1000_mA-0p25_lxy-300'],\n",
    "}\n",
    "\n",
    "# dataset={\n",
    "#     '4mu/mXX-100_mA-5_lxy-0p3': dataset4mu_['mXX-100_mA-5_lxy-0p3'],\n",
    "#     '4mu/mXX-1000_mA-0p25_lxy-0p3': dataset4mu_['mXX-1000_mA-0p25_lxy-0p3'],\n",
    "#     '2mu2e/mXX-100_mA-5_lxy-0p3': dataset2mu2e_['mXX-100_mA-5_lxy-0p3'],\n",
    "#     '2mu2e/mXX-1000_mA-0p25_lxy-0p3': dataset2mu2e_['mXX-1000_mA-0p25_lxy-0p3'],\n",
    "# }\n",
    "\n",
    "output = processor.run_uproot_job(dataset,\n",
    "                                  treename='ffNtuplizer/ffNtuple',\n",
    "                                  processor_instance=promptMuonProcessor(),\n",
    "                                  executor=processor.futures_executor,\n",
    "                                  executor_args=dict(workers=12, flatten=True),\n",
    "                                  chunksize=500000,\n",
    "                                 )"
   ]
  },
  {
   "cell_type": "code",
   "execution_count": 79,
   "metadata": {},
   "outputs": [
    {
     "data": {
      "text/plain": [
       "total                    13729\n",
       "total-loose              10419\n",
       "total-medium              6627\n",
       "total-tight               2545\n",
       "total-pfisoVeryLoose     12368\n",
       "total-pfisoLoose         12185\n",
       "total-pfisoMedium        12080\n",
       "total-looseLoose          8907\n",
       "total-looseVeryloose      9078\n",
       "total-matchedWithGen       642\n",
       "total-tkIsoLoose         12533\n",
       "total-tkIsoTight         12414\n",
       "total-inTime             13588\n",
       "total-comb                8974\n",
       "total-foundAdjacent       3226\n",
       "total-foundAdjacentOS     2917\n",
       "total-gen                  798\n",
       "matched-found              784\n",
       "loose-found                781\n",
       "medium-found               724\n",
       "tight-found                528\n",
       "pfisoVeryLoose-found       783\n",
       "pfisoLoose-found           773\n",
       "pfisoMedium-found          773\n",
       "looseLoose-found           770\n",
       "looseVeryloose-found       780\n",
       "dtype: int64"
      ]
     },
     "execution_count": 79,
     "metadata": {},
     "output_type": "execute_result"
    }
   ],
   "source": [
    "pd.Series(dict(output['cutflow']))"
   ]
  },
  {
   "cell_type": "code",
   "execution_count": null,
   "metadata": {},
   "outputs": [],
   "source": []
  }
 ],
 "metadata": {
  "kernelspec": {
   "display_name": "Python 3",
   "language": "python",
   "name": "python3"
  },
  "language_info": {
   "codemirror_mode": {
    "name": "ipython",
    "version": 3
   },
   "file_extension": ".py",
   "mimetype": "text/x-python",
   "name": "python",
   "nbconvert_exporter": "python",
   "pygments_lexer": "ipython3",
   "version": "3.7.3"
  }
 },
 "nbformat": 4,
 "nbformat_minor": 4
}
