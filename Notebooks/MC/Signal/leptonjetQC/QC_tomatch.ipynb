{
 "cells": [
  {
   "cell_type": "markdown",
   "metadata": {},
   "source": [
    "triggerObjectMatchingFilter efficiency"
   ]
  },
  {
   "cell_type": "code",
   "execution_count": 14,
   "metadata": {},
   "outputs": [],
   "source": [
    "from coffea import hist\n",
    "import coffea.processor as processor\n",
    "from coffea.analysis_objects import JaggedCandidateArray\n",
    "import numpy as np\n",
    "import matplotlib.pyplot as plt\n",
    "import awkward\n",
    "from uproot_methods import TLorentzVectorArray\n",
    "from FireHydrant.Tools.trigger import Triggers\n",
    "\n",
    "np.seterr(divide='ignore', invalid='ignore', over='ignore')\n",
    "%matplotlib inline\n",
    "%config InlineBackend.figure_format = 'retina'"
   ]
  },
  {
   "cell_type": "code",
   "execution_count": 2,
   "metadata": {},
   "outputs": [],
   "source": [
    "import json\n",
    "import os\n",
    "from os.path import join\n",
    "\n",
    "dataset4mu_ = json.load(open(join(os.getenv('FH_BASE'), 'Notebooks/MC/Samples/signal_4mu_v2.json')))\n",
    "dataset2mu2e_ = json.load(open(join(os.getenv('FH_BASE'), 'Notebooks/MC/Samples/signal_2mu2e_v2.json')))"
   ]
  },
  {
   "cell_type": "code",
   "execution_count": 15,
   "metadata": {},
   "outputs": [],
   "source": [
    "class tomatchProcessor(processor.ProcessorABC):\n",
    "    def __init__(self):\n",
    "        dataset_axis = hist.Cat('dataset', 'dataset')\n",
    "        cut_axis = hist.Bin('cut', '# matched TO>=2', 2, 0, 2)\n",
    "        self._accumulator = processor.dict_accumulator({\n",
    "            'tomatch': hist.Hist('Events', dataset_axis, cut_axis),\n",
    "        })\n",
    "    \n",
    "    @property\n",
    "    def accumulator(self):\n",
    "        return self._accumulator\n",
    "    \n",
    "    def process(self, df):\n",
    "        output = self.accumulator.identity()\n",
    "        dataset = df['dataset']\n",
    "        triggermask = np.logical_or.reduce([df[tp] for tp in Triggers])\n",
    "        \n",
    "        output['tomatch'].fill(dataset=dataset, cut=df['tomatchfilter_result'][triggermask].astype(int))\n",
    "        return output\n",
    "    \n",
    "    def postprocess(self, accumulator):\n",
    "        return accumulator"
   ]
  },
  {
   "cell_type": "markdown",
   "metadata": {},
   "source": [
    "- lxy: 0.3 cm"
   ]
  },
  {
   "cell_type": "code",
   "execution_count": 18,
   "metadata": {},
   "outputs": [
    {
     "name": "stderr",
     "output_type": "stream",
     "text": [
      "Preprocessing: 100%|██████████| 4/4 [00:00<00:00,  9.43it/s]\n",
      "Processing: 100%|██████████| 20/20 [00:02<00:00,  9.97items/s]\n"
     ]
    }
   ],
   "source": [
    "dataset={\n",
    "    '4mu/mXX-100_mA-5_lxy-0p3': dataset4mu_['mXX-100_mA-5_lxy-0p3'],\n",
    "    '4mu/mXX-1000_mA-0p25_lxy-0p3': dataset4mu_['mXX-1000_mA-0p25_lxy-0p3'],\n",
    "    '2mu2e/mXX-100_mA-5_lxy-0p3': dataset2mu2e_['mXX-100_mA-5_lxy-0p3'],\n",
    "    '2mu2e/mXX-1000_mA-0p25_lxy-0p3': dataset2mu2e_['mXX-1000_mA-0p25_lxy-0p3'],\n",
    "}\n",
    "\n",
    "output = processor.run_uproot_job(dataset,\n",
    "                                  treename='ffNtuplizer/ffNtuple',\n",
    "                                  processor_instance=tomatchProcessor(),\n",
    "                                  executor=processor.futures_executor,\n",
    "                                  executor_args=dict(workers=12, flatten=True),\n",
    "                                  chunksize=500000,\n",
    "                                 )"
   ]
  },
  {
   "cell_type": "code",
   "execution_count": 19,
   "metadata": {},
   "outputs": [
    {
     "data": {
      "text/html": [
       "<div>\n",
       "<style scoped>\n",
       "    .dataframe tbody tr th:only-of-type {\n",
       "        vertical-align: middle;\n",
       "    }\n",
       "\n",
       "    .dataframe tbody tr th {\n",
       "        vertical-align: top;\n",
       "    }\n",
       "\n",
       "    .dataframe thead th {\n",
       "        text-align: right;\n",
       "    }\n",
       "</style>\n",
       "<table border=\"1\" class=\"dataframe\">\n",
       "  <thead>\n",
       "    <tr style=\"text-align: right;\">\n",
       "      <th></th>\n",
       "      <th>passed</th>\n",
       "      <th>total</th>\n",
       "      <th>eff %</th>\n",
       "    </tr>\n",
       "  </thead>\n",
       "  <tbody>\n",
       "    <tr>\n",
       "      <th>2mu2e/mXX-1000_mA-0p25_lxy-0p3</th>\n",
       "      <td>13115.0</td>\n",
       "      <td>14815.0</td>\n",
       "      <td>88.525143</td>\n",
       "    </tr>\n",
       "    <tr>\n",
       "      <th>2mu2e/mXX-100_mA-5_lxy-0p3</th>\n",
       "      <td>1142.0</td>\n",
       "      <td>1260.0</td>\n",
       "      <td>90.634921</td>\n",
       "    </tr>\n",
       "    <tr>\n",
       "      <th>4mu/mXX-1000_mA-0p25_lxy-0p3</th>\n",
       "      <td>30466.0</td>\n",
       "      <td>39720.0</td>\n",
       "      <td>76.701913</td>\n",
       "    </tr>\n",
       "    <tr>\n",
       "      <th>4mu/mXX-100_mA-5_lxy-0p3</th>\n",
       "      <td>9012.0</td>\n",
       "      <td>9705.0</td>\n",
       "      <td>92.859351</td>\n",
       "    </tr>\n",
       "  </tbody>\n",
       "</table>\n",
       "</div>"
      ],
      "text/plain": [
       "                                 passed    total      eff %\n",
       "2mu2e/mXX-1000_mA-0p25_lxy-0p3  13115.0  14815.0  88.525143\n",
       "2mu2e/mXX-100_mA-5_lxy-0p3       1142.0   1260.0  90.634921\n",
       "4mu/mXX-1000_mA-0p25_lxy-0p3    30466.0  39720.0  76.701913\n",
       "4mu/mXX-100_mA-5_lxy-0p3         9012.0   9705.0  92.859351"
      ]
     },
     "metadata": {},
     "output_type": "display_data"
    }
   ],
   "source": [
    "from collections import defaultdict\n",
    "\n",
    "res = defaultdict(dict)\n",
    "h = output['tomatch']\n",
    "for d in h.identifiers('dataset'):\n",
    "    res[str(d)]['total'] = h.integrate('dataset', d).integrate('cut').values()[()]\n",
    "    res[str(d)]['passed']= h.integrate('dataset', d).integrate('cut', slice(1,2)).values()[()]\n",
    "\n",
    "import pandas as pd\n",
    "df = pd.DataFrame(res).transpose()\n",
    "df['eff %'] = df['passed']/df['total']*100\n",
    "display(df)"
   ]
  },
  {
   "cell_type": "markdown",
   "metadata": {},
   "source": [
    "- lxy: 300cm"
   ]
  },
  {
   "cell_type": "code",
   "execution_count": 20,
   "metadata": {},
   "outputs": [
    {
     "name": "stderr",
     "output_type": "stream",
     "text": [
      "Preprocessing: 100%|██████████| 4/4 [00:00<00:00, 8581.70it/s]\n",
      "Processing: 100%|██████████| 20/20 [00:02<00:00,  9.97items/s]\n"
     ]
    }
   ],
   "source": [
    "dataset={\n",
    "    '4mu/mXX-100_mA-5_lxy-300': dataset4mu_['mXX-100_mA-5_lxy-300'],\n",
    "    '4mu/mXX-1000_mA-0p25_lxy-300': dataset4mu_['mXX-1000_mA-0p25_lxy-300'],\n",
    "    '2mu2e/mXX-100_mA-5_lxy-300':dataset2mu2e_['mXX-100_mA-5_lxy-300'],\n",
    "    '2mu2e/mXX-1000_mA-0p25_lxy-300': dataset2mu2e_['mXX-1000_mA-0p25_lxy-300'],\n",
    "}\n",
    "\n",
    "output = processor.run_uproot_job(dataset,\n",
    "                                  treename='ffNtuplizer/ffNtuple',\n",
    "                                  processor_instance=tomatchProcessor(),\n",
    "                                  executor=processor.futures_executor,\n",
    "                                  executor_args=dict(workers=12, flatten=True),\n",
    "                                  chunksize=500000,\n",
    "                                 )"
   ]
  },
  {
   "cell_type": "code",
   "execution_count": 21,
   "metadata": {},
   "outputs": [
    {
     "data": {
      "text/html": [
       "<div>\n",
       "<style scoped>\n",
       "    .dataframe tbody tr th:only-of-type {\n",
       "        vertical-align: middle;\n",
       "    }\n",
       "\n",
       "    .dataframe tbody tr th {\n",
       "        vertical-align: top;\n",
       "    }\n",
       "\n",
       "    .dataframe thead th {\n",
       "        text-align: right;\n",
       "    }\n",
       "</style>\n",
       "<table border=\"1\" class=\"dataframe\">\n",
       "  <thead>\n",
       "    <tr style=\"text-align: right;\">\n",
       "      <th></th>\n",
       "      <th>passed</th>\n",
       "      <th>total</th>\n",
       "      <th>eff %</th>\n",
       "    </tr>\n",
       "  </thead>\n",
       "  <tbody>\n",
       "    <tr>\n",
       "      <th>2mu2e/mXX-1000_mA-0p25_lxy-300</th>\n",
       "      <td>2538.0</td>\n",
       "      <td>2983.0</td>\n",
       "      <td>85.082132</td>\n",
       "    </tr>\n",
       "    <tr>\n",
       "      <th>2mu2e/mXX-100_mA-5_lxy-300</th>\n",
       "      <td>681.0</td>\n",
       "      <td>773.0</td>\n",
       "      <td>88.098318</td>\n",
       "    </tr>\n",
       "    <tr>\n",
       "      <th>4mu/mXX-1000_mA-0p25_lxy-300</th>\n",
       "      <td>11135.0</td>\n",
       "      <td>19277.0</td>\n",
       "      <td>57.763137</td>\n",
       "    </tr>\n",
       "    <tr>\n",
       "      <th>4mu/mXX-100_mA-5_lxy-300</th>\n",
       "      <td>4375.0</td>\n",
       "      <td>5169.0</td>\n",
       "      <td>84.639195</td>\n",
       "    </tr>\n",
       "  </tbody>\n",
       "</table>\n",
       "</div>"
      ],
      "text/plain": [
       "                                 passed    total      eff %\n",
       "2mu2e/mXX-1000_mA-0p25_lxy-300   2538.0   2983.0  85.082132\n",
       "2mu2e/mXX-100_mA-5_lxy-300        681.0    773.0  88.098318\n",
       "4mu/mXX-1000_mA-0p25_lxy-300    11135.0  19277.0  57.763137\n",
       "4mu/mXX-100_mA-5_lxy-300         4375.0   5169.0  84.639195"
      ]
     },
     "metadata": {},
     "output_type": "display_data"
    }
   ],
   "source": [
    "from collections import defaultdict\n",
    "\n",
    "res = defaultdict(dict)\n",
    "h = output['tomatch']\n",
    "for d in h.identifiers('dataset'):\n",
    "    res[str(d)]['total'] = h.integrate('dataset', d).integrate('cut').values()[()]\n",
    "    res[str(d)]['passed']= h.integrate('dataset', d).integrate('cut', slice(1,2)).values()[()]\n",
    "\n",
    "import pandas as pd\n",
    "df = pd.DataFrame(res).transpose()\n",
    "df['eff %'] = df['passed']/df['total']*100\n",
    "display(df)"
   ]
  }
 ],
 "metadata": {
  "kernelspec": {
   "display_name": "Python 3",
   "language": "python",
   "name": "python3"
  },
  "language_info": {
   "codemirror_mode": {
    "name": "ipython",
    "version": 3
   },
   "file_extension": ".py",
   "mimetype": "text/x-python",
   "name": "python",
   "nbconvert_exporter": "python",
   "pygments_lexer": "ipython3",
   "version": "3.7.3"
  }
 },
 "nbformat": 4,
 "nbformat_minor": 4
}
