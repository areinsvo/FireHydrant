{
 "cells": [
  {
   "cell_type": "code",
   "execution_count": 1,
   "metadata": {},
   "outputs": [],
   "source": [
    "from coffea import hist\n",
    "from coffea.analysis_objects import JaggedCandidateArray\n",
    "import coffea.processor as processor\n",
    "import uproot\n",
    "\n",
    "import numpy as np\n",
    "np.seterr(divide='ignore', invalid='ignore', over='ignore')\n",
    "import matplotlib.pyplot as plt\n",
    "from FireHydrant.Tools.metfilter import MetFilters\n",
    "from FireHydrant.Tools.correction import get_pu_weights_function, get_ttbar_weight, get_nlo_weight_function\n",
    "\n",
    "# import pandas as pd\n",
    "import awkward\n",
    "from uproot_methods import TLorentzVectorArray\n",
    "from FireHydrant.Tools.trigger import Triggers\n",
    "\n",
    "%matplotlib inline\n",
    "%config InlineBackend.figure_format = 'retina'"
   ]
  },
  {
   "cell_type": "code",
   "execution_count": 3,
   "metadata": {},
   "outputs": [],
   "source": [
    "from os.path import join\n",
    "basedir='/uscms/home/wsi/nobackup/lpcdm/CMSSW_10_2_14_EGamma/src/Firefighter/ffLite/EventDisplayForLeptonJet/skimmedevents/SkimmedBkgMC'\n",
    "datasets = {\n",
    "    'DYJetsToLL_M-50': [join(basedir, 'DYJetsToLL_M-50_TuneCP5_13TeV-madgraphMLM-pythia8', 'ffNtuple.root'),],\n",
    "    'QCD_Pt-120to170': [join(basedir, 'QCD_Pt-120to170_MuEnrichedPt5_TuneCP5_13TeV_pythia8', 'ffNtuple.root'),],\n",
    "    'QCD_Pt-470to600': [join(basedir, 'QCD_Pt-470to600_MuEnrichedPt5_TuneCP5_13TeV_pythia8', 'ffNtuple.root'),],\n",
    "    'QCD_Pt-50to80': [join(basedir, 'QCD_Pt-50to80_MuEnrichedPt5_TuneCP5_13TeV_pythia8', 'ffNtuple.root'),],\n",
    "    'QCD_Pt-600to800': [join(basedir, 'QCD_Pt-600to800_MuEnrichedPt5_TuneCP5_13TeV_pythia8', 'ffNtuple.root'),],\n",
    "    'QCD_Pt-800to1000': [join(basedir, 'QCD_Pt-800to1000_MuEnrichedPt5_TuneCP5_13TeV_pythia8', 'ffNtuple.root'),],\n",
    "    'QCD_Pt-80to120': [join(basedir, 'QCD_Pt-80to120_MuEnrichedPt5_TuneCP5_13TeV_pythia8', 'ffNtuple.root'),],\n",
    "    'TTJets': [join(basedir, 'TTJets_TuneCP5_13TeV-madgraphMLM-pythia8', 'ffNtuple.root'),],\n",
    "}"
   ]
  },
  {
   "cell_type": "code",
   "execution_count": 2,
   "metadata": {},
   "outputs": [],
   "source": [
    "class LeptonjetProcessor(processor.ProcessorABC):\n",
    "    def __init__(self):\n",
    "        dataset_axis = hist.Cat('dataset', 'dataset')\n",
    "        self._accumulator = processor.dict_accumulator({\n",
    "            'run': processor.column_accumulator(np.zeros(shape=(0,))),\n",
    "            'lumi': processor.column_accumulator(np.zeros(shape=(0,))),\n",
    "            'event': processor.column_accumulator(np.zeros(shape=(0,))),\n",
    "        })\n",
    "    \n",
    "    @property\n",
    "    def accumulator(self):\n",
    "        return self._accumulator\n",
    "    \n",
    "    def process(self, df):\n",
    "        output = self.accumulator.identity()\n",
    "        if df.size==0: return output\n",
    "        \n",
    "        dataset = df['dataset']\n",
    "        run = df['run']\n",
    "        lumi = df['lumi']\n",
    "        event = df['event']\n",
    "        \n",
    "        leptonjets = JaggedCandidateArray.candidatesfromcounts(\n",
    "            df['pfjet_p4'],\n",
    "            px=df['pfjet_p4.fCoordinates.fX'],\n",
    "            py=df['pfjet_p4.fCoordinates.fY'],\n",
    "            pz=df['pfjet_p4.fCoordinates.fZ'],\n",
    "            energy=df['pfjet_p4.fCoordinates.fT'],\n",
    "        )\n",
    "        ljdautype = awkward.fromiter(df['pfjet_pfcand_type'])\n",
    "        npfmu = (ljdautype==3).sum()\n",
    "        ndsa = (ljdautype==8).sum()\n",
    "        isegammajet = (npfmu==0)&(ndsa==0)\n",
    "        ispfmujet = (npfmu>=2)&(ndsa==0)\n",
    "        isdsajet = ndsa>0\n",
    "        label = isegammajet.astype(int)*1+ispfmujet.astype(int)*2+isdsajet.astype(int)*3\n",
    "        leptonjets.add_attributes(label=label)\n",
    "        nmu = ((ljdautype==3)|(ljdautype==8)).sum()\n",
    "        leptonjets.add_attributes(ismutype=(nmu>=2), iseltype=(nmu==0), isdsatype=(leptonjets.label==3))\n",
    "                \n",
    "        twoleptonjets = leptonjets.counts>=2\n",
    "        dileptonjets = leptonjets[twoleptonjets]\n",
    "        if dileptonjets.size==0: return output\n",
    "        run=run[twoleptonjets]\n",
    "        lumi=lumi[twoleptonjets]\n",
    "        event=event[twoleptonjets]\n",
    "        \n",
    "        lj0 = dileptonjets[dileptonjets.pt.argmax()]\n",
    "        lj1 = dileptonjets[dileptonjets.pt.argsort()[:, 1:2]]\n",
    "        \n",
    "        singleMuljEvents = dileptonjets.ismutype.sum()==1\n",
    "        muljInLeading2Events = (lj0.ismutype | lj1.ismutype).flatten()\n",
    "        channel_2mu2e = (singleMuljEvents&muljInLeading2Events).astype(int)*1\n",
    "        \n",
    "        doubleMuljEvents = dileptonjets.ismutype.sum()==2\n",
    "        muljIsLeading2Events = (lj0.ismutype & lj1.ismutype).flatten()\n",
    "        channel_4mu = (doubleMuljEvents&muljIsLeading2Events).astype(int)*2\n",
    "        \n",
    "        channel_ = channel_2mu2e + channel_4mu\n",
    "        \n",
    "        dsaIn4MuMask = ((lj0.isdsatype | lj1.isdsatype).flatten() & (channel_==2))\n",
    "        \n",
    "        output['run'] += processor.column_accumulator(run[dsaIn4MuMask])\n",
    "        output['lumi'] += processor.column_accumulator(lumi[dsaIn4MuMask])\n",
    "        output['event'] += processor.column_accumulator(event[dsaIn4MuMask])\n",
    "        \n",
    "        return output\n",
    "    \n",
    "    def postprocess(self, accumulator):\n",
    "        return accumulator"
   ]
  },
  {
   "cell_type": "code",
   "execution_count": 5,
   "metadata": {},
   "outputs": [
    {
     "name": "stderr",
     "output_type": "stream",
     "text": [
      "Preprocessing: 100%|██████████| 1/1 [00:00<00:00,  1.70it/s]\n",
      "Processing: 100%|██████████| 1/1 [00:03<00:00,  3.00s/items]\n",
      "Preprocessing: 100%|██████████| 1/1 [00:00<00:00, 26.54it/s]\n",
      "Processing: 100%|██████████| 1/1 [00:01<00:00,  1.00s/items]\n",
      "Preprocessing: 100%|██████████| 1/1 [00:00<00:00, 20.98it/s]\n",
      "Processing: 100%|██████████| 1/1 [00:01<00:00,  1.00s/items]\n",
      "Preprocessing: 100%|██████████| 1/1 [00:00<00:00, 37.04it/s]\n",
      "Processing: 100%|██████████| 1/1 [00:01<00:00,  1.00s/items]\n",
      "Preprocessing: 100%|██████████| 1/1 [00:00<00:00, 21.98it/s]\n",
      "Processing: 100%|██████████| 1/1 [00:01<00:00,  1.00s/items]\n",
      "Preprocessing: 100%|██████████| 1/1 [00:00<00:00, 16.20it/s]\n",
      "Processing: 100%|██████████| 1/1 [00:01<00:00,  1.00s/items]\n",
      "Preprocessing: 100%|██████████| 1/1 [00:00<00:00, 28.61it/s]\n",
      "Processing: 100%|██████████| 1/1 [00:04<00:00,  4.00s/items]\n",
      "Preprocessing: 100%|██████████| 1/1 [00:00<00:00,  3.94it/s]\n",
      "Processing: 100%|██████████| 1/1 [00:02<00:00,  2.00s/items]\n"
     ]
    }
   ],
   "source": [
    "outputs={}\n",
    "for k in datasets:\n",
    "    outputs[k] = processor.run_uproot_job({k: datasets[k]},\n",
    "                                  treename='ffNtuplizer/ffNtuple',\n",
    "                                  processor_instance=LeptonjetProcessor(),\n",
    "                                  executor=processor.futures_executor,\n",
    "                                  executor_args=dict(workers=12, flatten=True),\n",
    "                                  chunksize=500000,\n",
    "                                 )"
   ]
  },
  {
   "cell_type": "code",
   "execution_count": 6,
   "metadata": {},
   "outputs": [
    {
     "name": "stdout",
     "output_type": "stream",
     "text": [
      "\n",
      "DYJetsToLL_M-50\n",
      "1:36746:83559096\n",
      "1:44516:101227995\n",
      "1:21752:49461879\n",
      "\n",
      "QCD_Pt-120to170\n",
      "\n",
      "QCD_Pt-470to600\n",
      "\n",
      "QCD_Pt-50to80\n",
      "1:4467:128130274\n",
      "\n",
      "QCD_Pt-600to800\n",
      "\n",
      "QCD_Pt-800to1000\n",
      "1:16725:95359432\n",
      "\n",
      "QCD_Pt-80to120\n",
      "\n",
      "TTJets\n"
     ]
    }
   ],
   "source": [
    "for k, output in outputs.items():\n",
    "    runs, lumis, events = output['run'].value.astype(int), output['lumi'].value.astype(int), output['event'].value.astype(int)\n",
    "    print(f'\\n{k}')\n",
    "    if runs.size==0: continue\n",
    "    for r,l,e in np.nditer([runs, lumis, events]):\n",
    "        print('{}:{}:{}'.format(r, l, e))"
   ]
  },
  {
   "cell_type": "code",
   "execution_count": null,
   "metadata": {},
   "outputs": [],
   "source": []
  }
 ],
 "metadata": {
  "kernelspec": {
   "display_name": "Python 3",
   "language": "python",
   "name": "python3"
  },
  "language_info": {
   "codemirror_mode": {
    "name": "ipython",
    "version": 3
   },
   "file_extension": ".py",
   "mimetype": "text/x-python",
   "name": "python",
   "nbconvert_exporter": "python",
   "pygments_lexer": "ipython3",
   "version": "3.7.3"
  }
 },
 "nbformat": 4,
 "nbformat_minor": 4
}
