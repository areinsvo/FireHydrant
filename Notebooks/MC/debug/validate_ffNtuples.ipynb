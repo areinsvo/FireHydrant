{
 "cells": [
  {
   "cell_type": "code",
   "execution_count": 1,
   "metadata": {},
   "outputs": [],
   "source": [
    "import json\n",
    "import random\n",
    "import uproot\n",
    "import numpy as np"
   ]
  },
  {
   "cell_type": "code",
   "execution_count": 2,
   "metadata": {},
   "outputs": [],
   "source": [
    "bkgdatasets_=json.load(open('../../MC/Samples/backgrounds_nonempty.json'))"
   ]
  },
  {
   "cell_type": "code",
   "execution_count": 4,
   "metadata": {},
   "outputs": [
    {
     "name": "stdout",
     "output_type": "stream",
     "text": [
      "*******TTJets*******\n",
      "TTJets [1. 1. 1. ... 1. 1. 1.]\n",
      "TTJets_SingleLeptFromT [1. 1. 1. ... 1. 1. 1.]\n",
      "TTJets_SingleLeptFromTbar [1.   0.99 1.   ... 1.   1.   1.  ]\n",
      "TTJets_DiLept [1. 1. 1. ... 1. 1. 1.]\n",
      "_______________\n",
      "*********ST*********\n",
      "AntiTop [35.1316 35.1316 35.1316 ... 35.1316 35.1316 35.1316]\n",
      "Top [35.0661 35.0661 35.0661 ... 35.0661 35.0661 35.0661]\n",
      "_______________\n",
      "*******WJets********\n",
      "WJets_HT-70To100 [1. 1. 1. ... 1. 1. 1.]\n",
      "WJets_HT-100To200 [1. 1. 1. ... 1. 1. 1.]\n",
      "WJets_HT-200To400 weight not available![172786 167168]\n",
      "WJets_HT-400To600 [1. 1. 1. ... 1. 1. 1.]\n",
      "WJets_HT-600To800 weight not available![184792 175685]\n",
      "WJets_HT-800To1200 weight not available![59813 56415]\n",
      "WJets_HT-1200To2500 [1. 1. 1. ... 1. 1. 1.]\n",
      "WJets_HT-2500ToInf [1. 1. 1. ... 1. 1. 1.]\n",
      "_______________\n",
      "*****DYJetsToLL*****\n",
      "DYJetsToLL-M-10to50 [1. 1. 1. ... 1. 1. 1.]\n",
      "DYJetsToLL_M-50 [1. 1. 1. ... 1. 1. 1.]\n",
      "_______________\n",
      "******DiBoson*******\n",
      "WW [1. 1. 1. ... 1. 1. 1.]\n",
      "ZZ weight not available![168000 166109]\n",
      "WZ weight not available![143000 139946]\n",
      "_______________\n",
      "******TriBoson******\n",
      "WWW [0.24551754 0.24551754 0.24551754 ... 0.24551754 0.24551754 0.24551754]\n",
      "WWZ [0.19020516 0.19020516 0.19020516 ... 0.19020516 0.19020516 0.19020516]\n",
      "WZZ [ 0.06501322  0.06501322 -0.06501322 ...  0.06501322  0.06501322\n",
      "  0.06501322]\n",
      "ZZZ [0.01719496 0.01719496 0.01719496 ... 0.01719496 0.01719496 0.01719496]\n",
      "WZG [0.05175567 0.05175567 0.05175567 ... 0.05175567 0.05175567 0.05175567]\n",
      "WWG [0.28100893 0.28100893 0.28100893 ... 0.28100893 0.27819884 0.28100893]\n",
      "WGG [2.561047 2.561047 2.561047 ... 2.561047 2.561047 2.561047]\n",
      "_______________\n",
      "********QCD*********\n",
      "QCD_Pt-20to30 [239188 239188]\n",
      "QCD_Pt-50to80 [192025 192025]\n",
      "QCD_Pt-80to120 [176275 176275]\n",
      "QCD_Pt-120to170 [204081 204081]\n",
      "QCD_Pt-170to300 [178152 178152]\n",
      "QCD_Pt-300to470 [185786 185786]\n",
      "QCD_Pt-470to600 [176626 176626]\n",
      "QCD_Pt-600to800 [231936 231936]\n",
      "QCD_Pt-800to1000 weight not available![141348 134704]\n",
      "QCD_Pt-1000toInf weight not available![214923 202949]\n",
      "_______________\n"
     ]
    }
   ],
   "source": [
    "def check(filename):\n",
    "    f=uproot.open(filename)\n",
    "    if not f.allkeys(filtername=lambda x: x.endswith(b'weight')):\n",
    "        stats = f['ffNtupleStat/history'].values\n",
    "        if stats[2] == stats[3]:\n",
    "            return str(stats[2:])\n",
    "        else:\n",
    "            return 'weight not available!'+str(stats[2:])\n",
    "    else:\n",
    "        return f['ffNtupleStat/weight'].array('weight')\n",
    "\n",
    "for t in bkgdatasets_:\n",
    "    print(t.center(20, '*'))\n",
    "    for k in bkgdatasets_[t]:\n",
    "        print(k, check(random.choice(bkgdatasets_[t][k])))\n",
    "    print('_______________')"
   ]
  }
 ],
 "metadata": {
  "kernelspec": {
   "display_name": "Python 3",
   "language": "python",
   "name": "python3"
  },
  "language_info": {
   "codemirror_mode": {
    "name": "ipython",
    "version": 3
   },
   "file_extension": ".py",
   "mimetype": "text/x-python",
   "name": "python",
   "nbconvert_exporter": "python",
   "pygments_lexer": "ipython3",
   "version": "3.7.3"
  }
 },
 "nbformat": 4,
 "nbformat_minor": 4
}
