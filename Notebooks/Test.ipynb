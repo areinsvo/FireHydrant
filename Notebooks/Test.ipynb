{
 "cells": [
  {
   "cell_type": "code",
   "execution_count": 1,
   "metadata": {},
   "outputs": [],
   "source": [
    "import uproot, awkward\n",
    "from coffea.analysis_objects import JaggedCandidateArray\n",
    "import numpy as np"
   ]
  },
  {
   "cell_type": "code",
   "execution_count": 2,
   "metadata": {},
   "outputs": [],
   "source": [
    "file = uproot.open(\"root://cmseos.fnal.gov//eos/uscms/store/group/lpcmetx/SIDM/ffNtupleV2/2018/CRAB_PrivateMC/SIDM_BsTo2DpTo4Mu_MBs-1000_MDp-0p25_ctau-1p875/200129_122813/ffNtuple_0.root\")"
   ]
  },
  {
   "cell_type": "code",
   "execution_count": 3,
   "metadata": {},
   "outputs": [
    {
     "data": {
      "text/plain": [
       "[b'ffNtuplizer;1', b'ffNtupleStat;1']"
      ]
     },
     "execution_count": 3,
     "metadata": {},
     "output_type": "execute_result"
    }
   ],
   "source": [
    "file.keys()"
   ]
  },
  {
   "cell_type": "code",
   "execution_count": 4,
   "metadata": {},
   "outputs": [
    {
     "name": "stdout",
     "output_type": "stream",
     "text": [
      "[ 6  5 11 16  7 14 13  8  6 12  2 10 10  9  7  9 10 14  5  4 10 10 20  3\n",
      "  7  6 13  2  8  7  9  8  5  6  6  4  7 13  8  4  6 12 10  9  6  8  6  6\n",
      "  3  3  8  6  7  8 11 10 11 15 15  3  6  7  9  6 10  8  9  2 11  4  5  6\n",
      " 15 14  8  8 13  8  5  7 10 17  4 12  3 12  5  9  4  5 10  3  5 16  6  6\n",
      " 10  4  5  7  4  6  6 15  6 13  5  6 15 10 14  5  4  6  5  5 11  5  8  9\n",
      "  8  7  5 11  6  8  6 19  3 15  6  7  9 15 15  7  5  9  6  9  5 12  3  6\n",
      "  8  8 16  5  9  6 15  7  4  6 13  8 15 10  8 15 12  7 11  4 11  6  4  6\n",
      "  7  9  8  7  9  8  9 22  4 10 19  4 12 10  3  4  5 14  8  5 15  8  7 12\n",
      "  4  8  5  9 12  9  9  5  5  5  9  7 10  9  8 13 12  3  7  9  9  9 14  5\n",
      " 10  7  7  8 10 10  6  4 10  4  9  7  5  9  6  6  5  8  6 12  7 12  9  6\n",
      "  9  5  9 12  7 19  4  6 10  6 20  6  5  7  5  7  7  5  6 10  6  4  4 11\n",
      " 11  7 11 11  6  6  6  9  5  6  7  5 10  6  4  4  5  5  3 12  5  7 10 16\n",
      "  7  9  8 15 11 18  6  6 11 11 10  8  6  5 10  6 14  4  5  6 14  9  7  4\n",
      "  4  6 10  8  7 11 11  7  3 10  7  8  8 10  7 10  8 12  5 14 14  7  5  5\n",
      "  4  9  2 12 14  9  5 12  4  8  8  5 10  4 10  9  8  7  7  4  6  2  5  7\n",
      " 12  7  9  4  7 12 11  9 11 15  7  3  9 11 10  9  4  4  5  7  6  8  9 14\n",
      " 15  3 11  6  3  5  6 10  4  5 10  7 11  9  7  9  4  7  9  3  8 10 17  7\n",
      " 10  6  2  9 13 10 12  7  6  8  9  9  7  6  8  4  5 10 10  9 15 10 10 11\n",
      "  7 18  7  5  8  5  8 13  7  9  3  4  7 14  7 11  3  9 10 11 16  7 14  3\n",
      "  5  9  5 12 13 10  6  3  5 11  8 11  6  7  7  6 10  9  5 11  5  9  7 13\n",
      "  6  7  5  8  4  9 12  3  6  6 14  6  5  9  4  5  5  8  5 16  9  3 12  5\n",
      " 11  7  9 21  4  4  8  8 12  7 12  6 11  6 16  5  8  7  5 19  4 11  7 13\n",
      "  6 11  8  6  4 14  7  5  3  7  9 14 11  8  5 10  9  9  8  6  7 15  6 16\n",
      "  5  8  8  9  6  7  7  7  3  4  7 21  2  8  7  8  5  4  5  8 15 12  6  6\n",
      "  6  3  9  7 11 10  6 15 15 11  7  7  4  6 10 10  5  7 11 12  7  6  6  6\n",
      "  6  4 15  6 11  8  7  8  8  5 13 11  6  2  9  9 10  8  5  7  5  5 15 15\n",
      "  4 10  7  9 13  2 10  8  5 15  3 10  7 10  9 10  8  7  4  5  7 13  8  7\n",
      " 10  8  6 10 10  5  6  6  5  8  5 13 11  5 10  5  9  8  5  4  9  8  8  3\n",
      " 13  7  6  4  8 10  8 15  8  6  3  8  7  7  7  4  4  7 13 13 18  3  9 13\n",
      "  6  3 11  7  5  7  5  8  9 13 10 10  6  4  7  8  7  9  7  5 13  8 13  5\n",
      "  5 14  5 10  4  4 14  5  9  8 11  9  4 11  5  5  9  7  4  5  9  7 14  8\n",
      " 11  5  8  8  7  5  4  9  9 10  5  4  6  8 10  7  5  9  9  8  8  6  8 14\n",
      " 16  7 12 10 18  7  5 11  4  4  5  7 14  4 14  7 13  5  2  4 11 10]\n",
      "<class 'numpy.ndarray'>\n",
      "<class 'awkward.array.jagged.JaggedArray'>\n"
     ]
    }
   ],
   "source": [
    "df=file['ffNtuplizer/ffNtuple']\n",
    "nmu = df.array('muon_n')\n",
    "print(nmu)\n",
    "muon_x = df.array('muon_p4.fCoordinates.fX')\n",
    "print(type(nmu))\n",
    "print(type(muon_x))"
   ]
  },
  {
   "cell_type": "code",
   "execution_count": 4,
   "metadata": {},
   "outputs": [],
   "source": [
    "#df.keys()"
   ]
  },
  {
   "cell_type": "code",
   "execution_count": 22,
   "metadata": {},
   "outputs": [
    {
     "name": "stdout",
     "output_type": "stream",
     "text": [
      "[[0.049871378] [0.0065526813] [7.986847] ... [0.010394603] [0.0003027916] [0.032124534]]\n",
      "[[[1, -1]] [[-1, 1]] [[-1, 1]] ... [[1, -1]] [[1, -1]] [[1, -1]]]\n",
      "[[0.29765102] [0.0016054212] [0.040519454] ... [0.0011742662] [0.0010298681] [0.00037293957]]\n",
      "True\n",
      "[2.9765102e-01 1.6054212e-03 4.0519454e-02 3.4723982e-01 1.1853067e-03\n",
      " 3.9836457e-03 2.1174878e-03 1.8134168e-03 8.4429054e-04 7.1686908e-04\n",
      " 7.2665918e-01           nan]\n",
      "[[0.29765102] [0.0016054212] [0.040519454] ... [0.7266592] [nan] [0.0035637517]]\n",
      "------\n",
      "[[2976.5103] [16.054213] [405.19455] ... [7266.592] [nan] [35.637516]]\n",
      "[[True] [False] [True] ... [True] [False] [False]]\n",
      "[ 2.9765102e-01  1.6054212e-03  4.0519454e-02  3.4723982e-01\n",
      "  1.1853067e-03  3.9836457e-03  2.1174878e-03  1.8134168e-03\n",
      "  8.4429054e-04  7.1686908e-04  7.2665918e-01 -1.0000000e+00\n",
      "  3.5637517e-03  9.1621736e-03]\n",
      "[2.9765102e-01 1.6054212e-03 4.0519454e-02 3.4723982e-01 1.1853067e-03\n",
      " 3.9836457e-03 2.1174878e-03 1.8134168e-03 8.4429054e-04 7.1686908e-04\n",
      " 7.2665918e-01           nan 3.5637517e-03 9.1621736e-03]\n",
      "[[0.29765102] [0.0016054212] [0.040519454] ... [0.7266592] [0.0] [0.0035637517]]\n"
     ]
    },
    {
     "data": {
      "text/plain": [
       "<JaggedArray [[False] [False] [False] ... [False] [True] [False]] at 0x7f9b4fd01f10>"
      ]
     },
     "execution_count": 22,
     "metadata": {},
     "output_type": "execute_result"
    }
   ],
   "source": [
    "print(df.array('pfjet_pfcands_minTwoTkDist'))\n",
    "print(df.array('pfjet_pfcand_charge'))\n",
    "print(df.array('pfjet_pfcand_tkD0Min'))\n",
    "d0 = df.array('pfjet_pfcand_tkD0Min')\n",
    "print(np.isnan(np.sum(d0.flatten())))\n",
    "print(d0.flatten()[:12])\n",
    "#print(df.array('pfjet_n'))\n",
    "#print((d0.flatten() > 0.01)[:12])\n",
    "print(d0[:12])\n",
    "#print((d0<0.001)[:12])\n",
    "# NAN< or NAN > X is always false\n",
    "# In Weinan's code, he sets nans to -1 for DCA \n",
    "print(\"------\")\n",
    "print(((d0*10000))[:12])\n",
    "print((d0>0.01)[:12])\n",
    "print(np.nan_to_num(d0.content, nan=-1)[:14])\n",
    "print(d0.content[:14])\n",
    "array = np.fmax(0, d0)\n",
    "print(array[:12])\n",
    "np.isnan(d0[:12])\n"
   ]
  },
  {
   "cell_type": "code",
   "execution_count": 6,
   "metadata": {},
   "outputs": [
    {
     "name": "stdout",
     "output_type": "stream",
     "text": [
      "[[[1 -1]] [[-1 1]] [[-1 1]] ... [[1 -1]] [[1 -1]] [[1 -1]]]\n",
      "[[0] [0] [0] ... [0] [0] [0]]\n",
      "[[[8 8]] [[3 3]] [[3 3]] ... [[3 3]] [[3 3]] [[3 3]]]\n",
      "[[[1 -1]] [[-1 1]] [[-1 1]] ... [[1 -1]] [[1 -1]] [[1 -1]]]\n",
      "[[0] [0] [0] ... [0] [0] [0]]\n"
     ]
    }
   ],
   "source": [
    "charge = awkward.fromiter(df.array('pfjet_pfcand_charge'))\n",
    "candtype = awkward.fromiter(df.array('pfjet_pfcand_type'))\n",
    "print(charge)\n",
    "print(charge.sum())\n",
    "print(candtype)\n",
    "print(charge[(candtype==3) | (candtype ==8)])\n",
    "print(charge[(candtype==3) | (candtype ==8)].sum())"
   ]
  },
  {
   "cell_type": "code",
   "execution_count": 34,
   "metadata": {},
   "outputs": [
    {
     "name": "stdout",
     "output_type": "stream",
     "text": [
      "[[[2 1]] [[]] [[]] ... [[]] [[]] [[]]]\n",
      " layout \n",
      "[    ()] JaggedArray(starts=layout[0], stops=layout[1], content=layout[2])\n",
      "[     0]   ndarray(shape=790, dtype=dtype('int64'))\n",
      "[     1]   ndarray(shape=790, dtype=dtype('int64'))\n",
      "[     2]   ndarray(shape=517, dtype=dtype('uint32'))\n",
      "<class 'awkward.array.jagged.JaggedArray'>\n",
      "[[1.8663409 1.8663409 1.8676202] [999.0 0.41905144 0.42356676 0.41905144] [999.0 0.3318739 0.342823 0.3318739 0.3481255 1.272743] ... [2.6946197 0.20622681 0.20622681 0.5524713] [2.1921937 999.0 2.1942294 2.1921937] [0.81220275 999.0 1.4117714 ... 0.8073964 1.0404793 0.69262624]]\n",
      "<class 'awkward.array.jagged.JaggedArray'>\n",
      "[[1.8676202 1.8663409] [] [] ... [] [] []]\n",
      "[[1.8676202 1.8663409] [] [] ... [] [] []]\n",
      "[[[1.8676202 1.8663409]] [[]] [[]] ... [[]] [[]] [[]]]\n"
     ]
    }
   ],
   "source": [
    "\n",
    "dsaId = awkward.fromiter(df.array('pfjet_pfcand_dsamuonIdx')) #,dtype=np.int64)\n",
    "print(dsaId)\n",
    "print(dsaId.flatten(axis=1).layout)\n",
    "dR = df.array('dsamuon_deltaRCosmicDSA')\n",
    "print(type(dR))\n",
    "print(dR)\n",
    "#print(dR[:,3:4])\n",
    "counts = dsaId.counts\n",
    "#print(dsaId.flatten(axis=0).shape)\n",
    "#print(dsaId.flatten(axis=1).shape)\n",
    "#print(dsaId.flatten().shape)\n",
    "#print(dsaId.offsets)\n",
    "\n",
    "print(type(dR[dsaId.flatten(axis=1)]))\n",
    "print(dR[dsaId.flatten(axis=1)])\n",
    "\n",
    "dRs = awkward.JaggedArray.fromcounts(dsaId.flatten(axis=0).counts, dR[dsaId.flatten(axis=1)].flatten())\n",
    "dR2s = awkward.JaggedArray.fromcounts(dsaId.counts, dRs)\n",
    "print(dRs)\n",
    "print(dR2s)"
   ]
  },
  {
   "cell_type": "code",
   "execution_count": 27,
   "metadata": {},
   "outputs": [
    {
     "data": {
      "text/plain": [
       " layout \n",
       "[    ()] JaggedArray(starts=layout[0], stops=layout[1], content=layout[2])\n",
       "[     0]   ndarray(shape=790, dtype=dtype('int64'))\n",
       "[     1]   ndarray(shape=790, dtype=dtype('int64'))\n",
       "[     2]   ndarray(shape=517, dtype=dtype('uint32'))"
      ]
     },
     "execution_count": 27,
     "metadata": {},
     "output_type": "execute_result"
    }
   ],
   "source": [
    "dsaId.flatten(axis=1).layout"
   ]
  },
  {
   "cell_type": "code",
   "execution_count": 26,
   "metadata": {},
   "outputs": [
    {
     "name": "stdout",
     "output_type": "stream",
     "text": [
      "[[2 0] [1 1]]\n",
      "[2 1]\n",
      "[2 0 2]\n",
      "[3.3 1.1 5.5 5.5]\n",
      "[[3.3 1.1] [5.5 5.5]]\n",
      "[[3.3 1.1] [] [5.5 5.5]]\n",
      "[[[3.3 1.1] []] [[5.5 5.5]]]\n",
      "[[1.1 inf] [5.5]]\n"
     ]
    }
   ],
   "source": [
    "myarray =  awkward.JaggedArray.fromiter([[1.1, 2.2, 3.3], [4.4, 5.5]]) #dsa muons per event, minimum dR\n",
    "myarray2 = awkward.JaggedArray.fromiter([[[2,0], []], [[1,1]]]) #index of dsa muons per lepton jet per event\n",
    "myarray3 = awkward.JaggedArray.fromiter([[2,0],[1,1]])\n",
    "\n",
    "print(myarray2.flatten(axis=1))\n",
    "print(myarray2.counts) #Number of lepton jets per event\n",
    "print(myarray2.flatten(axis=0).counts) #Number of dsa muons per lepton jet\n",
    "#print(myarray[myarray3])\n",
    "#print(myarray[myarray2.flatten(axis=1)])\n",
    "\n",
    "dRs = myarray[myarray2.flatten(axis=1)]\n",
    "print(dRs.flatten())\n",
    "step1 = awkward.JaggedArray.fromcounts(myarray2.flatten(axis=0).counts,dRs.flatten())\n",
    "step2 = awkward.JaggedArray.fromcounts(myarray2.counts, step1)\n",
    "print(dRs)\n",
    "print(step1)\n",
    "print(step2)\n",
    "print(step2.min())"
   ]
  },
  {
   "cell_type": "code",
   "execution_count": 84,
   "metadata": {},
   "outputs": [],
   "source": [
    "muons = JaggedCandidateArray.candidatesfromcounts(\n",
    "            df.array('muon_n'),\n",
    "            px=df.array('muon_p4.fCoordinates.fX').flatten(),\n",
    "            py=df.array('muon_p4.fCoordinates.fY').flatten(),\n",
    "            pz=df.array('muon_p4.fCoordinates.fZ').flatten(),\n",
    "            energy=df.array('muon_p4.fCoordinates.fT').flatten()\n",
    "        )\n",
    "      "
   ]
  },
  {
   "cell_type": "code",
   "execution_count": 81,
   "metadata": {},
   "outputs": [],
   "source": [
    "muons2 =JaggedCandidateArray.candidatesfromcounts(\n",
    "            df.array('muon_n'),\n",
    "            px=df.array('muon_p4.fCoordinates.fX').flatten(),\n",
    "            py=df.array('muon_p4.fCoordinates.fY').flatten(),\n",
    "            pz=df.array('muon_p4.fCoordinates.fZ').flatten(),\n",
    "            energy=df.array('muon_p4.fCoordinates.fT').flatten()\n",
    "        )"
   ]
  },
  {
   "cell_type": "code",
   "execution_count": 74,
   "metadata": {},
   "outputs": [
    {
     "name": "stdout",
     "output_type": "stream",
     "text": [
      "(33482,)\n"
     ]
    }
   ],
   "source": [
    "print(df.array('muon_n').shape)"
   ]
  },
  {
   "cell_type": "code",
   "execution_count": 75,
   "metadata": {},
   "outputs": [
    {
     "name": "stdout",
     "output_type": "stream",
     "text": [
      "(33482,)\n"
     ]
    }
   ],
   "source": [
    "print(df.array('muon_p4.fCoordinates.fX').shape)"
   ]
  },
  {
   "cell_type": "code",
   "execution_count": 78,
   "metadata": {},
   "outputs": [
    {
     "name": "stdout",
     "output_type": "stream",
     "text": [
      "[ 0.6730363   5.7934604  -0.98036504 ...  7.820814    5.016974\n",
      " -0.29913393]\n"
     ]
    }
   ],
   "source": [
    "print(df.array('muon_p4.fCoordinates.fX').content)"
   ]
  },
  {
   "cell_type": "code",
   "execution_count": 85,
   "metadata": {},
   "outputs": [
    {
     "name": "stdout",
     "output_type": "stream",
     "text": [
      "[[0 1 2 3 4 5] [0 1 2 3] [0 1 2 ... 4 5 6] ... [0] [0 1] [0 1 2]]\n"
     ]
    }
   ],
   "source": [
    "print(muons.argmatch(muons2))"
   ]
  },
  {
   "cell_type": "code",
   "execution_count": 86,
   "metadata": {},
   "outputs": [],
   "source": [
    "muons['match'] = (muons.argmatch(muons2))"
   ]
  },
  {
   "cell_type": "code",
   "execution_count": 89,
   "metadata": {},
   "outputs": [
    {
     "name": "stdout",
     "output_type": "stream",
     "text": [
      "[[False True True True True True] [False True True True] [False True True ... True True True] ... [False] [False True] [False True True]]\n"
     ]
    }
   ],
   "source": [
    "print(muons['match']>=1)"
   ]
  },
  {
   "cell_type": "code",
   "execution_count": 90,
   "metadata": {},
   "outputs": [],
   "source": [
    "        RtriggerIso24Objs = JaggedCandidateArray.candidatesfromcounts(\n",
    "            df.array('TOHLT_IsoMu24'),\n",
    "            px=df.array('TOHLT_IsoMu24.fCoordinates.fX').flatten(),\n",
    "            py=df.array('TOHLT_IsoMu24.fCoordinates.fY').flatten(),\n",
    "            pz=df.array('TOHLT_IsoMu24.fCoordinates.fZ').flatten(),\n",
    "            energy=df.array('TOHLT_IsoMu24.fCoordinates.fT').flatten(),\n",
    "        ) "
   ]
  },
  {
   "cell_type": "code",
   "execution_count": 91,
   "metadata": {},
   "outputs": [
    {
     "name": "stdout",
     "output_type": "stream",
     "text": [
      "[[0 0 0 0 0 0] [0 0 0 0] [0 0 0 ... 0 0 0] ... [0] [0 0] [0 0 0]]\n"
     ]
    }
   ],
   "source": [
    "print(muons.argmatch(RtriggerIso24Objs))"
   ]
  },
  {
   "cell_type": "code",
   "execution_count": 92,
   "metadata": {},
   "outputs": [],
   "source": [
    "muons3 =JaggedCandidateArray.candidatesfromcounts(\n",
    "            df.array('muon_n'),\n",
    "            px=-1.0*df.array('muon_p4.fCoordinates.fX').flatten(),\n",
    "            py=df.array('muon_p4.fCoordinates.fY').flatten(),\n",
    "            pz=df.array('muon_p4.fCoordinates.fZ').flatten(),\n",
    "            energy=df.array('muon_p4.fCoordinates.fT').flatten()\n",
    "        )"
   ]
  },
  {
   "cell_type": "code",
   "execution_count": 95,
   "metadata": {},
   "outputs": [
    {
     "name": "stdout",
     "output_type": "stream",
     "text": [
      "[[0 0 2 2 5 5] [3 3 2 0] [3 5 2 ... 6 1 4] ... [0] [1 1] [0 0 2]]\n"
     ]
    }
   ],
   "source": [
    "print(muons.argmatch(muons3))"
   ]
  },
  {
   "cell_type": "code",
   "execution_count": 108,
   "metadata": {},
   "outputs": [
    {
     "name": "stdout",
     "output_type": "stream",
     "text": [
      "[6 4 7 ... 1 2 3]\n",
      "[1 1 1 ... 1 1 1]\n"
     ]
    }
   ],
   "source": [
    "print(muons.counts)\n",
    "print(RtriggerIso24Objs.counts)"
   ]
  },
  {
   "cell_type": "code",
   "execution_count": 106,
   "metadata": {},
   "outputs": [
    {
     "name": "stdout",
     "output_type": "stream",
     "text": [
      "[[[0.097676866] [0.00018753819] [4.1931195] [4.202071] [3.7591202] [4.222533]] [[0.00024779816] [0.061374024] [2.5391037] [3.1416085]] [[3.9039602] [0.00011216777] [1.3543528] ... [1.8868182] [2.123903] [1.142219]] ... [[6.9996895e-05]] [[0.00015605858] [0.3269674]] [[6.129317e-05] [0.09311255] [2.4999914]]]\n"
     ]
    }
   ],
   "source": [
    "combs = muons.p4.cross(RtriggerIso24Objs.p4, nested=True)\n",
    "print(combs.i0.delta_r(combs.i1))"
   ]
  },
  {
   "cell_type": "code",
   "execution_count": 107,
   "metadata": {},
   "outputs": [
    {
     "name": "stdout",
     "output_type": "stream",
     "text": [
      "[[1 1 0 0 0 0] [1 1 0 0] [0 1 0 ... 0 0 0] ... [1] [1 1] [1 1 0]]\n"
     ]
    }
   ],
   "source": [
    "print((combs.i0.delta_r(combs.i1)<0.4).sum())"
   ]
  },
  {
   "cell_type": "code",
   "execution_count": 110,
   "metadata": {},
   "outputs": [],
   "source": [
    "muons['testmatch'] = (combs.i0.delta_r(combs.i1)<0.4).sum()\n",
    "muons"
   ]
  },
  {
   "cell_type": "code",
   "execution_count": 111,
   "metadata": {},
   "outputs": [
    {
     "name": "stdout",
     "output_type": "stream",
     "text": [
      "[[1 1 0 0 0 0] [1 1 0 0] [0 1 0 ... 0 0 0] ... [1] [1 1] [1 1 0]]\n"
     ]
    }
   ],
   "source": [
    "print(muons['testmatch'])"
   ]
  },
  {
   "cell_type": "code",
   "execution_count": 113,
   "metadata": {},
   "outputs": [
    {
     "name": "stdout",
     "output_type": "stream",
     "text": [
      "[[1 1 0 0 0 0] [1 1 0 0] [0 1 0 ... 0 0 0] ... [1] [1 1] [1 1 0]]\n"
     ]
    }
   ],
   "source": [
    "print(muons.testmatch)"
   ]
  },
  {
   "cell_type": "code",
   "execution_count": 114,
   "metadata": {},
   "outputs": [
    {
     "name": "stdout",
     "output_type": "stream",
     "text": [
      "[[4.402158 27.710659 1.0565617 1.7638636 1.5527713 1.0370928] [26.309835 4.548486 1.3486903 1.6055921] [1.5987972 47.119114 1.1163747 ... 1.5879335 1.1754937 2.3379376] ... [31.243773] [39.734234 0.9361439] [25.16329 14.312583 0.88143235]]\n"
     ]
    }
   ],
   "source": [
    "print(muons.pt)"
   ]
  },
  {
   "cell_type": "code",
   "execution_count": 115,
   "metadata": {},
   "outputs": [],
   "source": [
    "muon_pairs = muons.distincts()\n",
    "denominator_mask = ((muon_pairs.i0.pt > 30) & (abs(muon_pairs.i0.eta) < 2.4) & (muon_pairs.i0.testmatch))"
   ]
  },
  {
   "cell_type": "code",
   "execution_count": 136,
   "metadata": {},
   "outputs": [],
   "source": [
    "muon_mask = (muons.pt > 30) & (abs(muons.eta) < 2.4) & (muons.testmatch)"
   ]
  },
  {
   "cell_type": "code",
   "execution_count": 121,
   "metadata": {},
   "outputs": [
    {
     "name": "stdout",
     "output_type": "stream",
     "text": [
      "[     0     15     21 ... 251457 251458 251461]\n"
     ]
    }
   ],
   "source": [
    "print(denominator_mask.offsets)"
   ]
  },
  {
   "cell_type": "code",
   "execution_count": 137,
   "metadata": {},
   "outputs": [
    {
     "ename": "IndexError",
     "evalue": "jagged array used as index contains out-of-bounds values",
     "output_type": "error",
     "traceback": [
      "\u001b[0;31m---------------------------------------------------------------------------\u001b[0m",
      "\u001b[0;31mIndexError\u001b[0m                                Traceback (most recent call last)",
      "\u001b[0;32m<ipython-input-137-28ea9637ae5b>\u001b[0m in \u001b[0;36m<module>\u001b[0;34m\u001b[0m\n\u001b[0;32m----> 1\u001b[0;31m \u001b[0mprint\u001b[0m\u001b[0;34m(\u001b[0m\u001b[0mmuon_pairs\u001b[0m\u001b[0;34m.\u001b[0m\u001b[0mi1\u001b[0m\u001b[0;34m[\u001b[0m\u001b[0mmuon_mask\u001b[0m\u001b[0;34m.\u001b[0m\u001b[0mdistincts\u001b[0m\u001b[0;34m(\u001b[0m\u001b[0;34m)\u001b[0m\u001b[0;34m.\u001b[0m\u001b[0mi1\u001b[0m\u001b[0;34m]\u001b[0m\u001b[0;34m)\u001b[0m\u001b[0;34m\u001b[0m\u001b[0;34m\u001b[0m\u001b[0m\n\u001b[0m",
      "\u001b[0;32m~/nobackup/LPC-DM/SIDM/anaconda3/envs/FireHydrant/lib/python3.8/site-packages/awkward/array/jagged.py\u001b[0m in \u001b[0;36m__getitem__\u001b[0;34m(self, where)\u001b[0m\n\u001b[1;32m    546\u001b[0m \u001b[0;34m\u001b[0m\u001b[0m\n\u001b[1;32m    547\u001b[0m                 \u001b[0;32mif\u001b[0m \u001b[0;32mnot\u001b[0m \u001b[0mself\u001b[0m\u001b[0;34m.\u001b[0m\u001b[0mnumpy\u001b[0m\u001b[0;34m.\u001b[0m\u001b[0mbitwise_and\u001b[0m\u001b[0;34m(\u001b[0m\u001b[0;36m0\u001b[0m \u001b[0;34m<=\u001b[0m \u001b[0mindexes\u001b[0m\u001b[0;34m,\u001b[0m \u001b[0mindexes\u001b[0m \u001b[0;34m<\u001b[0m \u001b[0mcounts\u001b[0m\u001b[0;34m)\u001b[0m\u001b[0;34m.\u001b[0m\u001b[0mall\u001b[0m\u001b[0;34m(\u001b[0m\u001b[0;34m)\u001b[0m\u001b[0;34m:\u001b[0m\u001b[0;34m\u001b[0m\u001b[0;34m\u001b[0m\u001b[0m\n\u001b[0;32m--> 548\u001b[0;31m                     \u001b[0;32mraise\u001b[0m \u001b[0mIndexError\u001b[0m\u001b[0;34m(\u001b[0m\u001b[0;34m\"jagged array used as index contains out-of-bounds values\"\u001b[0m\u001b[0;34m)\u001b[0m\u001b[0;34m\u001b[0m\u001b[0;34m\u001b[0m\u001b[0m\n\u001b[0m\u001b[1;32m    549\u001b[0m \u001b[0;34m\u001b[0m\u001b[0m\n\u001b[1;32m    550\u001b[0m                 \u001b[0mindexes\u001b[0m \u001b[0;34m+=\u001b[0m \u001b[0mhead\u001b[0m\u001b[0;34m.\u001b[0m\u001b[0mtojagged\u001b[0m\u001b[0;34m(\u001b[0m\u001b[0mself\u001b[0m\u001b[0;34m.\u001b[0m\u001b[0m_starts\u001b[0m\u001b[0;34m)\u001b[0m\u001b[0;34m.\u001b[0m\u001b[0m_content\u001b[0m\u001b[0;34m\u001b[0m\u001b[0;34m\u001b[0m\u001b[0m\n",
      "\u001b[0;31mIndexError\u001b[0m: jagged array used as index contains out-of-bounds values"
     ]
    }
   ],
   "source": [
    "print(muon_pairs.i1[muon_mask.distincts().i1])"
   ]
  },
  {
   "cell_type": "code",
   "execution_count": 141,
   "metadata": {},
   "outputs": [
    {
     "data": {
      "text/plain": [
       "array([     0,     15,     21, ..., 251457, 251458, 251461])"
      ]
     },
     "execution_count": 141,
     "metadata": {},
     "output_type": "execute_result"
    }
   ],
   "source": [
    "muon_mask.distincts().i1.offsets"
   ]
  },
  {
   "cell_type": "code",
   "execution_count": 135,
   "metadata": {},
   "outputs": [
    {
     "data": {
      "text/plain": [
       "array([     0,     15,     21, ..., 251457, 251458, 251461])"
      ]
     },
     "execution_count": 135,
     "metadata": {},
     "output_type": "execute_result"
    }
   ],
   "source": [
    "muon_pairs.offsets"
   ]
  },
  {
   "cell_type": "code",
   "execution_count": 143,
   "metadata": {},
   "outputs": [],
   "source": [
    "tags=muon_pairs.i1"
   ]
  },
  {
   "cell_type": "code",
   "execution_count": 144,
   "metadata": {},
   "outputs": [
    {
     "name": "stdout",
     "output_type": "stream",
     "text": [
      "[27.710659    1.0565617   1.7638636  ... 14.312583    0.88143235\n",
      "  0.88143235]\n"
     ]
    }
   ],
   "source": [
    "print(tags.pt.flatten())"
   ]
  },
  {
   "cell_type": "code",
   "execution_count": 145,
   "metadata": {},
   "outputs": [
    {
     "data": {
      "text/plain": [
       "array([     0,     15,     21, ..., 251457, 251458, 251461])"
      ]
     },
     "execution_count": 145,
     "metadata": {},
     "output_type": "execute_result"
    }
   ],
   "source": [
    "tags.offsets"
   ]
  },
  {
   "cell_type": "code",
   "execution_count": 146,
   "metadata": {},
   "outputs": [
    {
     "ename": "IndexError",
     "evalue": "jagged array used as index contains out-of-bounds values",
     "output_type": "error",
     "traceback": [
      "\u001b[0;31m---------------------------------------------------------------------------\u001b[0m",
      "\u001b[0;31mIndexError\u001b[0m                                Traceback (most recent call last)",
      "\u001b[0;32m<ipython-input-146-3493520a9c73>\u001b[0m in \u001b[0;36m<module>\u001b[0;34m\u001b[0m\n\u001b[0;32m----> 1\u001b[0;31m \u001b[0mtags\u001b[0m\u001b[0;34m[\u001b[0m\u001b[0mdenominator_mask\u001b[0m\u001b[0;34m]\u001b[0m\u001b[0;34m\u001b[0m\u001b[0;34m\u001b[0m\u001b[0m\n\u001b[0m",
      "\u001b[0;32m~/nobackup/LPC-DM/SIDM/anaconda3/envs/FireHydrant/lib/python3.8/site-packages/awkward/array/jagged.py\u001b[0m in \u001b[0;36m__getitem__\u001b[0;34m(self, where)\u001b[0m\n\u001b[1;32m    546\u001b[0m \u001b[0;34m\u001b[0m\u001b[0m\n\u001b[1;32m    547\u001b[0m                 \u001b[0;32mif\u001b[0m \u001b[0;32mnot\u001b[0m \u001b[0mself\u001b[0m\u001b[0;34m.\u001b[0m\u001b[0mnumpy\u001b[0m\u001b[0;34m.\u001b[0m\u001b[0mbitwise_and\u001b[0m\u001b[0;34m(\u001b[0m\u001b[0;36m0\u001b[0m \u001b[0;34m<=\u001b[0m \u001b[0mindexes\u001b[0m\u001b[0;34m,\u001b[0m \u001b[0mindexes\u001b[0m \u001b[0;34m<\u001b[0m \u001b[0mcounts\u001b[0m\u001b[0;34m)\u001b[0m\u001b[0;34m.\u001b[0m\u001b[0mall\u001b[0m\u001b[0;34m(\u001b[0m\u001b[0;34m)\u001b[0m\u001b[0;34m:\u001b[0m\u001b[0;34m\u001b[0m\u001b[0;34m\u001b[0m\u001b[0m\n\u001b[0;32m--> 548\u001b[0;31m                     \u001b[0;32mraise\u001b[0m \u001b[0mIndexError\u001b[0m\u001b[0;34m(\u001b[0m\u001b[0;34m\"jagged array used as index contains out-of-bounds values\"\u001b[0m\u001b[0;34m)\u001b[0m\u001b[0;34m\u001b[0m\u001b[0;34m\u001b[0m\u001b[0m\n\u001b[0m\u001b[1;32m    549\u001b[0m \u001b[0;34m\u001b[0m\u001b[0m\n\u001b[1;32m    550\u001b[0m                 \u001b[0mindexes\u001b[0m \u001b[0;34m+=\u001b[0m \u001b[0mhead\u001b[0m\u001b[0;34m.\u001b[0m\u001b[0mtojagged\u001b[0m\u001b[0;34m(\u001b[0m\u001b[0mself\u001b[0m\u001b[0;34m.\u001b[0m\u001b[0m_starts\u001b[0m\u001b[0;34m)\u001b[0m\u001b[0;34m.\u001b[0m\u001b[0m_content\u001b[0m\u001b[0;34m\u001b[0m\u001b[0;34m\u001b[0m\u001b[0m\n",
      "\u001b[0;31mIndexError\u001b[0m: jagged array used as index contains out-of-bounds values"
     ]
    }
   ],
   "source": [
    "tags[denominator_mask]"
   ]
  },
  {
   "cell_type": "code",
   "execution_count": 147,
   "metadata": {},
   "outputs": [
    {
     "data": {
      "text/plain": [
       "<JaggedArray [[0 0 0 ... 0 0 0] [0 0 0 0 0 0] [0 0 0 ... 0 0 0] ... [] [1] [0 0 0]] at 0x7f21379e8280>"
      ]
     },
     "execution_count": 147,
     "metadata": {},
     "output_type": "execute_result"
    }
   ],
   "source": [
    "denominator_mask"
   ]
  },
  {
   "cell_type": "code",
   "execution_count": 148,
   "metadata": {},
   "outputs": [
    {
     "data": {
      "text/plain": [
       "<JaggedArrayMethods [[<Row 1> <Row 2> <Row 3> ... <Row 4> <Row 5> <Row 5>] [<Row 7> <Row 8> <Row 9> <Row 8> <Row 9> <Row 9>] [<Row 11> <Row 12> <Row 13> ... <Row 15> <Row 16> <Row 16>] ... [] [<Row 128382>] [<Row 128384> <Row 128385> <Row 128385>]] at 0x7f21379fea30>"
      ]
     },
     "execution_count": 148,
     "metadata": {},
     "output_type": "execute_result"
    }
   ],
   "source": [
    "tags"
   ]
  },
  {
   "cell_type": "code",
   "execution_count": 157,
   "metadata": {},
   "outputs": [
    {
     "data": {
      "text/plain": [
       "<JaggedArrayMethods [[] [] [] ... [] [] []] at 0x7f21379feac0>"
      ]
     },
     "execution_count": 157,
     "metadata": {},
     "output_type": "execute_result"
    }
   ],
   "source": [
    "muon_pairs[((muon_pairs.i1.pt >30) & (abs(muon_pairs.i0.eta) < 2.4))]"
   ]
  },
  {
   "cell_type": "code",
   "execution_count": 155,
   "metadata": {},
   "outputs": [
    {
     "data": {
      "text/plain": [
       "array([15,  6, 21, ...,  0,  1,  3])"
      ]
     },
     "execution_count": 155,
     "metadata": {},
     "output_type": "execute_result"
    }
   ],
   "source": [
    "muon_pairs.i1.testmatch.counts"
   ]
  },
  {
   "cell_type": "code",
   "execution_count": 154,
   "metadata": {},
   "outputs": [
    {
     "data": {
      "text/plain": [
       "array([15,  6, 21, ...,  0,  1,  3])"
      ]
     },
     "execution_count": 154,
     "metadata": {},
     "output_type": "execute_result"
    }
   ],
   "source": [
    "muon_pairs.i1.pt.counts"
   ]
  },
  {
   "cell_type": "code",
   "execution_count": 159,
   "metadata": {},
   "outputs": [
    {
     "data": {
      "text/plain": [
       "<JaggedArrayMethods [[<tuple 0> <tuple 1> <tuple 2> ... <tuple 6> <tuple 7> <tuple 8>] [<tuple 15> <tuple 16> <tuple 17> <tuple 18> <tuple 19>] [<tuple 27> <tuple 28> <tuple 29> <tuple 30> <tuple 31>] ... [] [<tuple 251457>] [<tuple 251458> <tuple 251459> <tuple 251460>]] at 0x7f21379fea60>"
      ]
     },
     "execution_count": 159,
     "metadata": {},
     "output_type": "execute_result"
    }
   ],
   "source": [
    "muon_pairs[muon_pairs.i0.testmatch>0]"
   ]
  },
  {
   "cell_type": "code",
   "execution_count": 160,
   "metadata": {},
   "outputs": [
    {
     "data": {
      "text/plain": [
       "<JaggedArrayMethods [[] [] [<tuple 27> <tuple 28> <tuple 29> <tuple 30> <tuple 31>] ... [] [<tuple 251457>] []] at 0x7f2136ec34c0>"
      ]
     },
     "execution_count": 160,
     "metadata": {},
     "output_type": "execute_result"
    }
   ],
   "source": [
    "muon_pairs[muon_pairs.i0.pt>30]"
   ]
  },
  {
   "cell_type": "code",
   "execution_count": null,
   "metadata": {},
   "outputs": [],
   "source": []
  }
 ],
 "metadata": {
  "kernelspec": {
   "display_name": "Python 3",
   "language": "python",
   "name": "python3"
  },
  "language_info": {
   "codemirror_mode": {
    "name": "ipython",
    "version": 3
   },
   "file_extension": ".py",
   "mimetype": "text/x-python",
   "name": "python",
   "nbconvert_exporter": "python",
   "pygments_lexer": "ipython3",
   "version": "3.8.2"
  }
 },
 "nbformat": 4,
 "nbformat_minor": 4
}
