{
 "cells": [
  {
   "cell_type": "code",
   "execution_count": 2,
   "metadata": {},
   "outputs": [],
   "source": [
    "from coffea import hist\n",
    "from coffea.analysis_objects import JaggedCandidateArray\n",
    "from coffea.processor import defaultdict_accumulator\n",
    "import awkward\n",
    "import coffea.processor as processor\n",
    "\n",
    "\n",
    "import numpy as np\n",
    "np.seterr(divide='ignore', invalid='ignore', over='ignore')\n",
    "import matplotlib.pyplot as plt\n",
    "\n",
    "%matplotlib inline\n",
    "%config InlineBackend.figure_format = 'retina'"
   ]
  },
  {
   "cell_type": "code",
   "execution_count": 3,
   "metadata": {},
   "outputs": [
    {
     "name": "stdout",
     "output_type": "stream",
     "text": [
      "mXX-1000_mA-0p25_lxy-300\n",
      "mXX-1000_mA-1p2_lxy-300\n",
      "mXX-1000_mA-5_lxy-300\n",
      "mXX-100_mA-0p25_lxy-300\n",
      "mXX-100_mA-1p2_lxy-300\n",
      "mXX-100_mA-5_lxy-300\n",
      "mXX-150_mA-0p25_lxy-300\n",
      "mXX-150_mA-1p2_lxy-300\n",
      "mXX-150_mA-5_lxy-300\n",
      "mXX-200_mA-0p25_lxy-300\n",
      "mXX-200_mA-1p2_lxy-300\n",
      "mXX-200_mA-5_lxy-300\n",
      "mXX-500_mA-0p25_lxy-300\n",
      "mXX-500_mA-1p2_lxy-300\n",
      "mXX-500_mA-5_lxy-300\n",
      "mXX-800_mA-0p25_lxy-300\n",
      "mXX-800_mA-1p2_lxy-300\n",
      "mXX-800_mA-5_lxy-300\n",
      "mXX-1000_mA-0p25_lxy-0p3\n",
      "mXX-100_mA-5_lxy-0p3\n"
     ]
    }
   ],
   "source": [
    "import json\n",
    "datasets_=json.load(open('../Samples/signal_4mu_200130.json'))\n",
    "\n",
    "datasets=dict()\n",
    "for key in datasets_:\n",
    "    datasets[key]={'files': datasets_[key], 'treename': 'ffNtuplizer/ffNtuple'}\n",
    "    print(key)\n"
   ]
  },
  {
   "cell_type": "code",
   "execution_count": 4,
   "metadata": {},
   "outputs": [],
   "source": [
    "#Goal = 3893\n",
    "select_signals = {'mXX-500_mA-1p2_lxy-300'} #'mXX-100_mA-5_lxy-0p3'} #,'mXX-100_mA-5_lxy-300'}\n",
    "select_datasets=dict()\n",
    "for sig in select_signals:\n",
    "    select_datasets[sig]=datasets[sig] "
   ]
  },
  {
   "cell_type": "code",
   "execution_count": 41,
   "metadata": {},
   "outputs": [],
   "source": [
    "class ProcessorPlots(processor.ProcessorABC):\n",
    "    def __init__(self):\n",
    "        \n",
    "        pt_binning = np.concatenate([np.arange(0  , 100, 20),\n",
    "                             np.arange(100, 200, 40),\n",
    "                             np.arange(200, 400, 70),\n",
    "                             np.arange(400, 800, 100)])\n",
    "\n",
    "        dataset_axis = hist.Cat('dataset', '')\n",
    "        pt_axis = hist.Bin(\"pt\", \"lepton jet pt\", pt_binning)\n",
    "        mu_axis = hist.Bin(\"num_mu\", \"number of muons in a lepton jet\", 10,0,10)\n",
    "\n",
    "        self.triggers = [\n",
    "            \"HLT_DoubleL2Mu23NoVtx_2Cha\",\n",
    "            \"HLT_DoubleL2Mu23NoVtx_2Cha_NoL2Matched\",\n",
    "            \"HLT_DoubleL2Mu23NoVtx_2Cha_CosmicSeed\",\n",
    "            \"HLT_DoubleL2Mu23NoVtx_2Cha_CosmicSeed_NoL2Matched\",\n",
    "            \"HLT_DoubleL2Mu25NoVtx_2Cha_Eta2p4\",\n",
    "            \"HLT_DoubleL2Mu25NoVtx_2Cha_CosmicSeed_Eta2p4\",\n",
    "        ]\n",
    "        \n",
    "        \n",
    "        self._accumulator = processor.dict_accumulator({\n",
    "            'pt': hist.Hist(\"pt\", dataset_axis, pt_axis),\n",
    "            'cutflow': processor.defaultdict_accumulator(int)\n",
    "        })\n",
    "        \n",
    "    def minDSADistance(self, lj_dsas, distances):\n",
    "        dRs = distances[lj_dsas.flatten(axis=1)].flatten()\n",
    "        dRsPerLJ = awkward.JaggedArray.fromcounts(lj_dsas.flatten(axis=0).counts, dRs)\n",
    "        dRsPerLJPerEvent = awkward.JaggedArray.fromcounts(lj_dsas.counts, dRsPerLJ)\n",
    "    \n",
    "        return dRsPerLJPerEvent.min()\n",
    "    \n",
    "    @property\n",
    "    def accumulator(self):\n",
    "        return self._accumulator\n",
    "    \n",
    "    def process(self, df):\n",
    "        output = self.accumulator.identity()\n",
    "        \n",
    "        dataset = df['dataset']\n",
    "\n",
    "        ##############\n",
    "        #Define jagged candidate arrays for lepton jets and dsa muons\n",
    "        ##############\n",
    "        leptonjets = JaggedCandidateArray.candidatesfromcounts(\n",
    "            df['pfjet_p4'],\n",
    "            minDCA=df[\"pfjet_pfcands_minTwoTkDist\"],\n",
    "            minD0=df[\"pfjet_pfcand_tkD0Min\"],\n",
    "            muonsPerJet=df[\"pfjet_muon_n\"],\n",
    "            px=df['pfjet_p4.fCoordinates.fX'],\n",
    "            py=df['pfjet_p4.fCoordinates.fY'],\n",
    "            pz=df['pfjet_p4.fCoordinates.fZ'],\n",
    "            energy=df['pfjet_p4.fCoordinates.fT'],\n",
    "        ) \n",
    "        \n",
    "        dsaMuons = JaggedCandidateArray.candidatesfromcounts(\n",
    "            df['dsamuon_p4'],\n",
    "            deltaRCosmicDSA=df[\"dsamuon_deltaRCosmicDSA\"],\n",
    "            deltaRCosmicSeg=df[\"dsamuon_deltaRCosmicSeg\"],\n",
    "            px=df['dsamuon_p4.fCoordinates.fX'],\n",
    "            py=df['dsamuon_p4.fCoordinates.fY'],\n",
    "            pz=df['dsamuon_p4.fCoordinates.fZ'],\n",
    "            energy=df['dsamuon_p4.fCoordinates.fT'],\n",
    "        ) \n",
    "        \n",
    "        ##############\n",
    "        # Lepton jet cuts\n",
    "        ##############\n",
    "        leptonjet_pt_eta = (leptonjets.pt > 30) & (abs(leptonjets.eta)<2.4)\n",
    "        muon_type=(leptonjets.muonsPerJet > 0) \n",
    "    \n",
    "        #Calculate sum of charges of muons in the lepton jet\n",
    "        #Type 3 = pfmuon, Type 8 = dsamuon\n",
    "        #This cut only needs to be applied to muon-type lepton-jets\n",
    "        #pfjet_pfcand_charge has three layers--pfcandidates per lepton jet per event--so we need to construct it differently\n",
    "        cands_charge = awkward.fromiter(df['pfjet_pfcand_charge'])\n",
    "        cands_type = awkward.fromiter(df['pfjet_pfcand_type'])\n",
    "        LJcharge = cands_charge[(cands_type==3) | (cands_type ==8)].sum()\n",
    "        neutral = (LJcharge == 0)\n",
    "        \n",
    "        #Calculate minimum distance between dsa muons and dsa muons and muon segments (part of the cosmic veto)\n",
    "        dsaIds = awkward.fromiter(df['pfjet_pfcand_dsamuonIdx'])\n",
    "        minDRCosmicDSA = self.minDSADistance(dsaIds, dsaMuons.deltaRCosmicDSA)\n",
    "        minDRCosmicSeg = self.minDSADistance(dsaIds, dsaMuons.deltaRCosmicSeg)\n",
    "        \n",
    "        minTrkTrkDCA = (leptonjets.minDCA < 20)\n",
    "        \n",
    "        cands_dz = abs(awkward.fromiter(df['pfjet_pfcand_tkDz']))\n",
    "        maxDz = (cands_dz.max() < 40)\n",
    "      \n",
    "        ##############\n",
    "        #Cut flow for lepton jets\n",
    "        ##############\n",
    "        output['cutflow']['totalLJs']=leptonjets.counts.sum()\n",
    "        output['cutflow']['pt_eta']=leptonjets[leptonjet_pt_eta].counts.sum()\n",
    "        output['cutflow']['LJs_muon']=leptonjets[leptonjet_pt_eta & muon_type].counts.sum()\n",
    "        output['cutflow']['LJs_neutral']=leptonjets[leptonjet_pt_eta & muon_type\n",
    "                                                    & neutral].counts.sum()\n",
    "        output['cutflow']['LJs_minDSA']=leptonjets[leptonjet_pt_eta & muon_type \n",
    "                                                   & neutral & (minDRCosmicDSA > 0.05)].counts.sum()\n",
    "        output['cutflow']['LJs_minSeg']=leptonjets[leptonjet_pt_eta & muon_type \n",
    "                                                   & neutral & (minDRCosmicDSA > 0.05) & (minDRCosmicSeg > 0.05)].counts.sum()\n",
    "        output['cutflow']['LJs_minDCA']=leptonjets[leptonjet_pt_eta & muon_type \n",
    "                                                   & neutral & (minDRCosmicDSA > 0.05) & (minDRCosmicSeg > 0.05)\n",
    "                                                   & minTrkTrkDCA].counts.sum()\n",
    "        output['cutflow']['LJs_maxDz']=leptonjets[leptonjet_pt_eta & muon_type \n",
    "                                                   & neutral & (minDRCosmicDSA > 0.05) & (minDRCosmicSeg > 0.05)\n",
    "                                                   & minTrkTrkDCA & maxDz].counts.sum()\n",
    "        output['cutflow']['LJs_minD0']=leptonjets[leptonjet_pt_eta & muon_type \n",
    "                                                   & neutral & (minDRCosmicDSA > 0.05) & (minDRCosmicSeg > 0.05)\n",
    "                                                   & minTrkTrkDCA & maxDz & (leptonjets.minD0 > 0.01)].counts.sum()\n",
    "        ##############\n",
    "        # Event-level cuts \n",
    "        ##############\n",
    "        isMuonNeutralDZ = (muon_type & neutral & maxDz) | (~muon_type)\n",
    "        baseLeptonJetID = leptonjet_pt_eta & minTrkTrkDCA & isMuonNeutralDZ\n",
    "        \n",
    "        LJs = leptonjets[baseLeptonJetID]\n",
    "        twoljs = LJs.counts >=2\n",
    "        \n",
    "        muonLeptonJetID = leptonjet_pt_eta & muon_type & neutral & (minDRCosmicDSA > 0.05) & (minDRCosmicSeg > 0.05) & minTrkTrkDCA & maxDz  \n",
    "        \n",
    "        oneLJpassingD0 = leptonjets[muonLeptonJetID & (leptonjets.minD0 > 0.01)].counts >=1\n",
    "        \n",
    "        vertex_filter = df['metfilters_PrimaryVertexFilter'] > 0\n",
    "        \n",
    "        pass_trig_dict = dict()\n",
    "        for trig in self.triggers:\n",
    "            pass_trig_dict[trig] = df[trig]    \n",
    "        pass_trig = np.logical_or.reduce([pass_trig_dict[t] for t in self.triggers])\n",
    "        \n",
    "        cosmicveto_pairs = (df['cosmicveto_parallelpairs'] < 8)\n",
    "\n",
    "        ##############\n",
    "        # Event-level cutflow (weird order to match numbers Weinan gave me from his ROOT code)\n",
    "        ##############\n",
    "        #Note that there is no particular reason to use the 'cosmicveto_result' array. \n",
    "        #I just needed an array that wasn't jagged and had one entry per event\n",
    "        #The important thing is how many events survive each mask (mask is applied using [] and the number is calculated with .size)\n",
    "        output['cutflow']['totalevents']=df['cosmicveto_result'].size\n",
    "        output['cutflow']['trig']=df['cosmicveto_result'][pass_trig].size\n",
    "        output['cutflow']['2LJ']=df['cosmicveto_result'][twoljs & pass_trig].size\n",
    "        output['cutflow']['PV']=df['cosmicveto_result'][twoljs & pass_trig & vertex_filter].size\n",
    "        output['cutflow']['cosmicveto']=df['cosmicveto_result'][twoljs & pass_trig & vertex_filter\n",
    "                                                                & cosmicveto_pairs].size\n",
    "        output['cutflow']['4mu']=df['cosmicveto_result'][(leptonjets[baseLeptonJetID & muon_type & neutral].counts>=2)\n",
    "                                                                & vertex_filter & pass_trig & cosmicveto_pairs].size\n",
    "        output['cutflow']['ljcosmicveto']=df['cosmicveto_result'][(leptonjets[muonLeptonJetID].counts>=2)\n",
    "                                                                & vertex_filter & pass_trig & cosmicveto_pairs].size\n",
    "        output['cutflow']['mind0']=df['cosmicveto_result'][(leptonjets[muonLeptonJetID].counts>=2) & oneLJpassingD0\n",
    "                                                                & vertex_filter & pass_trig & cosmicveto_pairs].size\n",
    "\n",
    "        output['pt'].fill(dataset=dataset, pt=leptonjets.pt.flatten())\n",
    "        \n",
    "        return output\n",
    "        \n",
    "    def postprocess(self, accumulator):\n",
    "        return accumulator"
   ]
  },
  {
   "cell_type": "code",
   "execution_count": 42,
   "metadata": {},
   "outputs": [
    {
     "data": {
      "application/vnd.jupyter.widget-view+json": {
       "model_id": "37b78f5220a347528cb5e5205da7e41f",
       "version_major": 2,
       "version_minor": 0
      },
      "text/plain": [
       "HBox(children=(FloatProgress(value=0.0, description='Processing', max=5.0, style=ProgressStyle(description_wid…"
      ]
     },
     "metadata": {},
     "output_type": "display_data"
    },
    {
     "name": "stdout",
     "output_type": "stream",
     "text": [
      "\n",
      "totalLJs 9748\n",
      "pt_eta 9642\n",
      "LJs_muon 9460\n",
      "LJs_neutral 9035\n",
      "LJs_minDSA 9004\n",
      "LJs_minSeg 8862\n",
      "LJs_minDCA 8672\n",
      "LJs_maxDz 8622\n",
      "LJs_minD0 7081\n",
      "totalevents 8769\n",
      "trig 7597\n",
      "2LJ 771\n",
      "PV 771\n",
      "cosmicveto 768\n",
      "4mu 728\n",
      "ljcosmicveto 706\n",
      "mind0 689\n"
     ]
    },
    {
     "data": {
      "text/plain": [
       "[None,\n",
       " None,\n",
       " None,\n",
       " None,\n",
       " None,\n",
       " None,\n",
       " None,\n",
       " None,\n",
       " None,\n",
       " None,\n",
       " None,\n",
       " None,\n",
       " None,\n",
       " None,\n",
       " None,\n",
       " None,\n",
       " None]"
      ]
     },
     "execution_count": 42,
     "metadata": {},
     "output_type": "execute_result"
    }
   ],
   "source": [
    "output = processor.run_uproot_job(select_datasets,\n",
    "                                  treename=None,\n",
    "                                  processor_instance=ProcessorPlots(),\n",
    "                                  executor=processor.futures_executor,\n",
    "                                  executor_args=dict(workers=1, flatten=True),\n",
    "                                  chunksize=5000,\n",
    "                                  #maxchunks=1 #Commented out = process all events. Uncommented = easier debugging\n",
    "                                 )\n",
    "[print(key,output['cutflow'][key]) for key in output['cutflow']]"
   ]
  },
  {
   "cell_type": "code",
   "execution_count": 39,
   "metadata": {},
   "outputs": [
    {
     "name": "stdout",
     "output_type": "stream",
     "text": [
      "{(): array([   0.,  205.,  236.,  254.,  392., 1234., 1708., 1037., 3586.,\n",
      "        732.,  182.,   97.,   49.,   21.])}\n"
     ]
    }
   ],
   "source": [
    "print(output['pt'].integrate('dataset').values())"
   ]
  },
  {
   "cell_type": "code",
   "execution_count": 40,
   "metadata": {},
   "outputs": [
    {
     "name": "stderr",
     "output_type": "stream",
     "text": [
      "/uscms/home/ahall/nobackup/LPC-DM/SIDM/anaconda3/envs/FireHydrant/lib/python3.8/site-packages/mplhep/_deprecate.py:56: DeprecationWarning: kwarg \"densitymode\" in function \"histplot\" is deprecated and may be removed in future versions: \"unit\"mode is not useful\n",
      "  return func(*args, **kwargs)\n"
     ]
    },
    {
     "data": {
      "text/plain": [
       "(0.1, 30000)"
      ]
     },
     "execution_count": 40,
     "metadata": {},
     "output_type": "execute_result"
    },
    {
     "data": {
      "image/png": "[encoded data removed]",
      "text/plain": [
       "<Figure size 432x288 with 1 Axes>"
      ]
     },
     "metadata": {
      "image/png": {
       "height": 261,
       "width": 402
      },
      "needs_background": "light"
     },
     "output_type": "display_data"
    }
   ],
   "source": [
    "ax = hist.plot1d(output['pt'], overlay='dataset')\n",
    "ax.set_yscale('log')\n",
    "ax.set_ylim(0.1, 30000)"
   ]
  },
  {
   "cell_type": "code",
   "execution_count": null,
   "metadata": {},
   "outputs": [],
   "source": [
    "hist.plot1d?"
   ]
  },
  {
   "cell_type": "code",
   "execution_count": null,
   "metadata": {},
   "outputs": [],
   "source": []
  }
 ],
 "metadata": {
  "kernelspec": {
   "display_name": "Python 3",
   "language": "python",
   "name": "python3"
  },
  "language_info": {
   "codemirror_mode": {
    "name": "ipython",
    "version": 3
   },
   "file_extension": ".py",
   "mimetype": "text/x-python",
   "name": "python",
   "nbconvert_exporter": "python",
   "pygments_lexer": "ipython3",
   "version": "3.8.2"
  }
 },
 "nbformat": 4,
 "nbformat_minor": 4
}
