{
 "cells": [
  {
   "cell_type": "code",
   "execution_count": 1,
   "metadata": {},
   "outputs": [],
   "source": [
    "import uproot \n",
    "import numpy as np\n",
    "import coffea\n",
    "from coffea.nanoaod import NanoEvents\n",
    "from coffea.nanoaod.methods.leptons import *\n",
    "from coffea import hist"
   ]
  },
  {
   "cell_type": "code",
   "execution_count": 2,
   "metadata": {},
   "outputs": [],
   "source": [
    "#fname = \"/uscms/home/dlehner/nobackup/analysis/data/nanoAOD.root\"\n",
    "#fname=\"/uscms/home/therwig/nobackup/public/forDominic/CRAB3_sos_28may2020_testHinoProd_nano.root\"\n",
    "events = NanoEvents.from_file(fname,methods={\"ElectronBPark\":Electron})\n",
    "events2 = NanoEvents.from_file(fname)"
   ]
  },
  {
   "cell_type": "code",
   "execution_count": 2,
   "metadata": {},
   "outputs": [],
   "source": [
    "fname=\"/uscms/home/ahall/nobackup/public/forTamas/iDM_nanoaod.root\"\n",
    "events = NanoEvents.from_file(fname,methods={\"ElectronBPark\":Electron})\n"
   ]
  },
  {
   "cell_type": "code",
   "execution_count": 3,
   "metadata": {},
   "outputs": [
    {
     "name": "stdout",
     "output_type": "stream",
     "text": [
      "['eta', 'mass', 'phi', 'pt', 'pdgId', 'status', 'statusFlags', 'parent', 'children']\n"
     ]
    }
   ],
   "source": [
    "print(events.GenPart.columns)"
   ]
  },
  {
   "cell_type": "code",
   "execution_count": 8,
   "metadata": {},
   "outputs": [
    {
     "name": "stdout",
     "output_type": "stream",
     "text": [
      "[[1000023] [1000023] [1000023] ... [1000023] [1000023] [1000023]]\n"
     ]
    }
   ],
   "source": [
    "print(events.GenPart[abs(events.GenPart.pdgId == 11) & events.GenPart.hasFlags(['fromHardProcess', 'isFirstCopy'])].parent.pdgId)"
   ]
  },
  {
   "cell_type": "code",
   "execution_count": 56,
   "metadata": {},
   "outputs": [],
   "source": [
    "histo = hist.Hist(\n",
    "            \"Events\",\n",
    "            hist.Bin(\"ele_pt\", \"electron pt\", 20, 0, 20),\n",
    "        )\n",
    "genEleMask = (abs(events.GenPart.pdgId) == 11) & events.GenPart.hasFlags(['fromHardProcess', 'isFirstCopy']) & (events.GenPart.parent.pdgId ==1000023)\n",
    "histo.fill(ele_pt=events.GenPart[genEleMask].pt.flatten())"
   ]
  },
  {
   "cell_type": "code",
   "execution_count": 64,
   "metadata": {},
   "outputs": [
    {
     "name": "stdout",
     "output_type": "stream",
     "text": [
      "[[1.4220884] [0.63446975] [0.5027895] ... [0.42391363] [0.5101658] [0.1421494]]\n"
     ]
    },
    {
     "name": "stderr",
     "output_type": "stream",
     "text": [
      "/uscms/home/ahall/nobackup/LPC-DM/SIDM/anaconda3/envs/FireHydrant/lib/python3.8/site-packages/mplhep/_deprecate.py:56: DeprecationWarning: kwarg \"densitymode\" in function \"histplot\" is deprecated and may be removed in future versions: \"unit\"mode is not useful\n",
      "  return func(*args, **kwargs)\n"
     ]
    },
    {
     "data": {
      "text/plain": [
       "<matplotlib.axes._subplots.AxesSubplot at 0x7f08daaa2910>"
      ]
     },
     "execution_count": 64,
     "metadata": {},
     "output_type": "execute_result"
    },
    {
     "data": {
      "image/png": "[encoded data removed]",
      "text/plain": [
       "<Figure size 432x288 with 1 Axes>"
      ]
     },
     "metadata": {
      "needs_background": "light"
     },
     "output_type": "display_data"
    }
   ],
   "source": [
    "histo_dr = hist.Hist(\n",
    "            \"Efficiency\",\n",
    "            hist.Bin(\"soft_ele\", \"Soft_ele_dr\", 150, 0, 1.5),\n",
    "        )\n",
    "genEles = events.GenPart[genEleMask]\n",
    "genEle_pairs = genEles.distincts(nested=True)\n",
    "dR = genEle_pairs.i0.delta_r(genEle_pairs.i1).min()\n",
    "print(dR)\n",
    "histo_dr.fill(soft_ele=dR.flatten())\n",
    "hist.plot1d(histo_dr)"
   ]
  },
  {
   "cell_type": "code",
   "execution_count": 113,
   "metadata": {},
   "outputs": [
    {
     "name": "stdout",
     "output_type": "stream",
     "text": [
      "[[1000023 1000023] [1000023 1000023] [1000023 1000023] ... [1000023 1000023] [1000023 1000023] [1000023 1000023]]\n"
     ]
    }
   ],
   "source": [
    "print(events.GenPart[genEleMask].parent.pdgId)"
   ]
  },
  {
   "cell_type": "code",
   "execution_count": 39,
   "metadata": {},
   "outputs": [
    {
     "name": "stdout",
     "output_type": "stream",
     "text": [
      "[[30.0 30.0] [30.0 30.0] [30.0 30.0] ... [30.0 30.0] [30.0 30.0] [30.0 30.0]]\n"
     ]
    }
   ],
   "source": [
    "#print(events.GenPart[events.GenPart.parent.pdgId ==32 & events.GenPart.hasFlags(['fromHardProcess'])].pdgId)\n",
    "print(events.GenPart[events.GenPart.pdgId == 32].mass)"
   ]
  },
  {
   "cell_type": "code",
   "execution_count": 17,
   "metadata": {},
   "outputs": [
    {
     "name": "stderr",
     "output_type": "stream",
     "text": [
      "/uscms/home/ahall/nobackup/LPC-DM/SIDM/anaconda3/envs/FireHydrant/lib/python3.8/site-packages/mplhep/_deprecate.py:56: DeprecationWarning: kwarg \"densitymode\" in function \"histplot\" is deprecated and may be removed in future versions: \"unit\"mode is not useful\n",
      "  return func(*args, **kwargs)\n"
     ]
    },
    {
     "data": {
      "text/plain": [
       "<matplotlib.axes._subplots.AxesSubplot at 0x7f08daf87700>"
      ]
     },
     "execution_count": 17,
     "metadata": {},
     "output_type": "execute_result"
    },
    {
     "data": {
      "image/png": "[encoded data removed]",
      "text/plain": [
       "<Figure size 432x288 with 1 Axes>"
      ]
     },
     "metadata": {
      "needs_background": "light"
     },
     "output_type": "display_data"
    }
   ],
   "source": [
    "from coffea import hist\n",
    "%matplotlib inline\n",
    "hist.plot1d(histo)"
   ]
  },
  {
   "cell_type": "code",
   "execution_count": 106,
   "metadata": {},
   "outputs": [],
   "source": [
    "\n",
    "def cut_tight(electrons):\n",
    "    return electrons[\n",
    "       # (electrons.pt > 1) & (electrons.pt<5)&\n",
    "         (electrons.mvaId > 5)\n",
    "    ]\n",
    "\n"
   ]
  },
  {
   "cell_type": "code",
   "execution_count": 102,
   "metadata": {},
   "outputs": [
    {
     "name": "stdout",
     "output_type": "stream",
     "text": [
      "[[<ElectronBPark 298> <ElectronBPark 299> <ElectronBPark 300> ... <ElectronBPark 375> <ElectronBPark 376> <ElectronBPark 377>] [<ElectronBPark 562> <ElectronBPark 563> <ElectronBPark 564> ... <ElectronBPark 621> <ElectronBPark 622> <ElectronBPark 623>] [<ElectronBPark 705> <ElectronBPark 706> <ElectronBPark 707> ... <ElectronBPark 822> <ElectronBPark 823> <ElectronBPark 824>] ... [<ElectronBPark 301420> <ElectronBPark 301421> <ElectronBPark 301422> ... <ElectronBPark 301533> <ElectronBPark 301534> <ElectronBPark 301535>] [<ElectronBPark 302230> <ElectronBPark 302231> <ElectronBPark 302232> ... <ElectronBPark 302336> <ElectronBPark 302337> <ElectronBPark 302338>] [<ElectronBPark 302553> <ElectronBPark 302554> <ElectronBPark 302555> ... <ElectronBPark 302606> <ElectronBPark 302607> <ElectronBPark 302608>]]\n"
     ]
    }
   ],
   "source": [
    "MET_mask = events.MET.pt >120\n",
    "Jet_mask = events.Jet.pt.max() > 80\n",
    "MET_Jet_mask = MET_mask & Jet_mask\n",
    "\n",
    "GenPart_mask = ((abs(events[MET_Jet_mask].GenPart.pdgId) == 11) \n",
    "               & (events[MET_Jet_mask].GenPart.parent.pdgId == 1000023) \n",
    "               & (events[MET_Jet_mask].GenPart.status == 1) \n",
    "               & (events[MET_Jet_mask].GenPart.hasFlags([\"fromHardProcess\", \"isFirstCopy\"])))\n",
    "\n",
    "soft_eles = events[MET_Jet_mask].ElectronBPark\n",
    "eles = soft_eles.cross(events[MET_Jet_mask].GenPart[GenPart_mask], nested=True)\n",
    "\n",
    "matched_mask = (eles.i0.delta_r(eles.i1)).min() < 0.005\n",
    "matched_eles = soft_eles[matched_mask & soft_eles.isPF == False] #&(soft_eles.pt < 5) & (soft_eles.pt >1)]\n",
    "print(matched_eles)\n",
    "\n",
    "#matched_eles = electrons that are gen matched within 0.005"
   ]
  },
  {
   "cell_type": "code",
   "execution_count": 119,
   "metadata": {},
   "outputs": [
    {
     "name": "stderr",
     "output_type": "stream",
     "text": [
      "/uscms/home/ahall/nobackup/LPC-DM/SIDM/anaconda3/envs/FireHydrant/lib/python3.8/site-packages/mplhep/_deprecate.py:56: DeprecationWarning: kwarg \"densitymode\" in function \"histplot\" is deprecated and may be removed in future versions: \"unit\"mode is not useful\n",
      "  return func(*args, **kwargs)\n"
     ]
    },
    {
     "data": {
      "text/plain": [
       "<matplotlib.axes._subplots.AxesSubplot at 0x7f08da179310>"
      ]
     },
     "execution_count": 119,
     "metadata": {},
     "output_type": "execute_result"
    },
    {
     "data": {
      "image/png": "[encoded data removed]",
      "text/plain": [
       "<Figure size 432x288 with 1 Axes>"
      ]
     },
     "metadata": {
      "needs_background": "light"
     },
     "output_type": "display_data"
    }
   ],
   "source": [
    "#matched_eles.passPtCut = (matched_eles.pt < 5)&(matched_eles.pt > 1)\n",
    "\n",
    "matched_pairs = matched_eles.distincts(nested=True)\n",
    "\n",
    "#print(matched_eles.passPtCut)\n",
    "#print(type(matched_pairs.i0))\n",
    "#print(type(matched_eles))\n",
    "#print(matched_pairs.i0.passPtCut)\n",
    "\n",
    "matched_pairsA = matched_pairs[(matched_pairs.i0.pt < 5) & (matched_pairs.i0.pt > 1)]\n",
    "matched_pairsB = matched_pairs[(matched_pairs.i1.pt < 5) & (matched_pairs.i1.pt > 1)]\n",
    "#matched_pairsB = matched_pairs[matched_pairs.i1.passPtCut]\n",
    "\n",
    "delta_r = (matched_pairs.i0.delta_r(matched_pairs.i1)).min()\n",
    "delta_rA = (matched_pairsA.i0.delta_r(matched_pairsA.i1)).min()\n",
    "delta_rB = (matched_pairsB.i0.delta_r(matched_pairsB.i1)).min()\n",
    "\n",
    "delta_rAB = np.append(delta_rA.flatten().tolist(), delta_rB.flatten().tolist())\n",
    "\n",
    "\n",
    "#delta_rAB = delta_rA.join(delta_rB)\n",
    "#print(delta_r)\n",
    "#print(matched_eles[matched_eles.counts >2])\n",
    "#print(matched_eles[matched_eles.counts >2].length)\n",
    "#delta_r[matched_eles[matched_eles.counts>2].pt <5]\n",
    "\n",
    "histo_dr_all = hist.Hist(\n",
    "            \"Efficiency\",\n",
    "            hist.Cat(\"variables\", \"Variables\"),\n",
    "            hist.Bin(\"soft_ele\", \"Soft_ele_dr\", 150, 0, 1.5),\n",
    "        )\n",
    "histo_dr_all.fill(variables=\"denominator\", soft_ele = delta_r.flatten())\n",
    "histo_dr_all.fill(variables=\"A\", soft_ele = delta_rA.flatten())\n",
    "histo_dr_all.fill(variables=\"B\", soft_ele = delta_rB.flatten())\n",
    "histo_dr_all.fill(variables=\"AB\", soft_ele = delta_rAB)\n",
    "\n",
    "\n",
    "hist.plot1d(histo_dr_all)"
   ]
  },
  {
   "cell_type": "code",
   "execution_count": 107,
   "metadata": {},
   "outputs": [],
   "source": [
    "matched_ele_pairs_cut= cut_tight(matched_eles).distincts(nested=True)\n",
    "\n",
    "\n",
    "matched_delta_r_cut= (matched_ele_pairs_cut.i0.delta_r(matched_ele_pairs_cut.i1)).min()\n",
    "histo_dr_eff = hist.Hist(\n",
    "            \"Efficiency\",\n",
    "            hist.Cat(\"variables\", \"Variables\"),\n",
    "            hist.Bin(\"soft_ele\", \"Soft_ele_dr\", 150, 0, 1.5),\n",
    "        )\n",
    "histo_dr_eff.fill(variables=\"numerator\", soft_ele = matched_delta_r_cut.flatten())\n",
    "#print(matched_delta_r_cut.flatten())\n",
    "#histo_dr_eff.fill(variables=\"numerator\", soft_ele = matched_delta_r_cut.flatten()[matched_delta_r_cut.flatten()!=0])"
   ]
  },
  {
   "cell_type": "code",
   "execution_count": 108,
   "metadata": {},
   "outputs": [
    {
     "name": "stderr",
     "output_type": "stream",
     "text": [
      "/uscms/home/ahall/nobackup/LPC-DM/SIDM/anaconda3/envs/FireHydrant/lib/python3.8/site-packages/mplhep/_deprecate.py:56: DeprecationWarning: kwarg \"densitymode\" in function \"histplot\" is deprecated and may be removed in future versions: \"unit\"mode is not useful\n",
      "  return func(*args, **kwargs)\n"
     ]
    },
    {
     "data": {
      "text/plain": [
       "<matplotlib.axes._subplots.AxesSubplot at 0x7f08da5e9c40>"
      ]
     },
     "execution_count": 108,
     "metadata": {},
     "output_type": "execute_result"
    },
    {
     "data": {
      "image/png": "[encoded data removed]",
      "text/plain": [
       "<Figure size 432x288 with 1 Axes>"
      ]
     },
     "metadata": {
      "needs_background": "light"
     },
     "output_type": "display_data"
    }
   ],
   "source": [
    "hist.plot1d(histo_dr_eff)"
   ]
  },
  {
   "cell_type": "code",
   "execution_count": 45,
   "metadata": {},
   "outputs": [],
   "source": [
    "def makeroc(sig, bkg, binning, direction=1):\n",
    "    '''Given a signal and background discriminant array, along with a binning,\n",
    "    compute the ROC curve by integrating discriminant histograms along a direction:\n",
    "        1: cut < value\n",
    "        -1: cut >= value\n",
    "    Returns a tuple of (signal efficiency, background efficiency)'''\n",
    "    sighist, _ = np.histogram(sig, bins=binning)\n",
    "    bkghist, _ = np.histogram(bkg, bins=binning)\n",
    "    # numpy histogram will ignore values out of range of our binning (overflow)\n",
    "    # so add the overflow values that would pass given our cut direction\n",
    "    if direction == 1:\n",
    "        sighist[0] += sum(sig < binning[0])\n",
    "        bkghist[0] += sum(bkg < binning[0])\n",
    "    elif direction == -1:\n",
    "        sighist[-1] += sum(sig > binning[-1])\n",
    "        bkghist[-1] += sum(bkg > binning[-1])\n",
    "    else:\n",
    "        raise ValueError(\"Invalid direction\")\n",
    "    sigpass = (np.cumsum(sighist[::direction]) / len(sig))[::direction]\n",
    "    bkgpass = (np.cumsum(bkghist[::direction]) / len(bkg))[::direction]\n",
    "    return (sigpass, bkgpass)\n",
    "\n",
    "\n",
    "def cut(electrons):\n",
    "    return electrons[\n",
    "        (electrons.pt > 20)\n",
    "        & (abs(electrons.eta) < 1.4)\n",
    "    ]\n",
    "\n"
   ]
  },
  {
   "cell_type": "code",
   "execution_count": 18,
   "metadata": {},
   "outputs": [],
   "source": [
    "#events.ElectronBPark\n",
    "\n",
    "eles = events.ElectronBPark.cross(events.GenPart[events.GenPart.pdgId == 11], nested=True)\n",
    "mask = (eles.i0.delta_r(eles.i1)).min() < 0.05\n",
    "\n",
    "matched_electrons = events.ElectronBPark[mask].flatten()\n",
    "unmatched_electrons = events.ElectronBPark[~mask].flatten()\n",
    "\n",
    "roc_mva = makeroc(\n",
    "    sig=cut(matched_electrons).mvaId,\n",
    "    bkg=cut(unmatched_electrons).mvaId,\n",
    "    binning=np.linspace(-10, 30, 80),\n",
    "    direction=-1,\n",
    ")"
   ]
  },
  {
   "cell_type": "code",
   "execution_count": 13,
   "metadata": {},
   "outputs": [
    {
     "name": "stdout",
     "output_type": "stream",
     "text": [
      "[1.3984382 1.3395618 3.6656501 ... 2.5934784 2.5237772 1.335616 ]\n"
     ]
    }
   ],
   "source": [
    "print(matched_electrons.pt)\n"
   ]
  },
  {
   "cell_type": "code",
   "execution_count": 19,
   "metadata": {},
   "outputs": [
    {
     "data": {
      "text/plain": [
       "<matplotlib.legend.Legend at 0x7f9fd5d06ca0>"
      ]
     },
     "execution_count": 19,
     "metadata": {},
     "output_type": "execute_result"
    },
    {
     "data": {
      "image/png": "[encoded data removed]",
      "text/plain": [
       "<Figure size 432x288 with 1 Axes>"
      ]
     },
     "metadata": {
      "needs_background": "light"
     },
     "output_type": "display_data"
    }
   ],
   "source": [
    "import matplotlib.pyplot as plt\n",
    "\n",
    "fig, ax = plt.subplots()\n",
    "ax.plot(*roc_mva, label=r\"Cuts on mvaId\")\n",
    "diag = np.linspace(0, 1, 100)\n",
    "ax.plot(diag, diag, color='grey', linestyle='--')\n",
    "ax.set_xlabel(\"Signal efficiency\")\n",
    "ax.set_ylabel(\"Background efficiency\")\n",
    "ax.set_xlim(0, 1)\n",
    "ax.set_ylim(1e-3, 1)\n",
    "# ax.set_yscale('log')\n",
    "ax.legend(title=r'Electrons')"
   ]
  },
  {
   "cell_type": "code",
   "execution_count": 20,
   "metadata": {},
   "outputs": [
    {
     "name": "stdout",
     "output_type": "stream",
     "text": [
      "['dxy', 'dxyErr', 'dz', 'dzErr', 'eta', 'fBrem', 'ip3d', 'mass', 'mvaId', 'pfRelIso', 'pfmvaId', 'phi', 'pt', 'ptBiased', 'sip3d', 'trkRelIso', 'unBiased', 'vx', 'vy', 'vz', 'charge', 'pdgId', 'convVeto', 'isLowPt', 'isPF', 'isPFoverlap', 'genPartFlav', 'matched_jet', 'matched_gen', 'matched_photon']\n"
     ]
    }
   ],
   "source": [
    "print(events.ElectronBPark.columns)"
   ]
  },
  {
   "cell_type": "code",
   "execution_count": 16,
   "metadata": {},
   "outputs": [],
   "source": [
    "histo = hist.Hist(\n",
    "            \"Events\",\n",
    "            hist.Cat(\"dataset\", \"Dataset\"),\n",
    "            hist.Bin(\"ele_pt\", \"electron pt\", 20, 0, 20),\n",
    "        )\n",
    "#histo.Fill(eve)\n",
    "num = hist.Hist(\n",
    "            \"Events\",\n",
    "            hist.Cat(\"dataset\", \"Dataset\"),\n",
    "            hist.Bin(\"ele_pt\", \"electron pt\", 20, 0, 20),\n",
    "        )"
   ]
  },
  {
   "cell_type": "code",
   "execution_count": 40,
   "metadata": {},
   "outputs": [
    {
     "name": "stdout",
     "output_type": "stream",
     "text": [
      "[ True False False ... False False False]\n"
     ]
    }
   ],
   "source": [
    "print(mask)"
   ]
  },
  {
   "cell_type": "code",
   "execution_count": 35,
   "metadata": {},
   "outputs": [],
   "source": [
    "eles = events.ElectronBPark.cross(events.GenPart[events.GenPart.pdgId == 11])\n",
    "mask = (eles.i0.delta_r(eles.i1)).min() < 0.05\n",
    "histo.fill(dataset=\"test\", ele_pt=events.ElectronBPark[mask].pt.flatten())\n",
    "mask2 = mask & (events.ElectronBPark.pt > 5)\n",
    "histo.fill(dataset=\"test2\", ele_pt=events.ElectronBPark[mask2].pt.flatten())\n",
    "num.fill(dataset=\"test\", ele_pt=events.ElectronBPark[mask2].pt.flatten())"
   ]
  },
  {
   "cell_type": "code",
   "execution_count": 38,
   "metadata": {},
   "outputs": [
    {
     "name": "stderr",
     "output_type": "stream",
     "text": [
      "/uscms/home/ahall/nobackup/LPC-DM/SIDM/anaconda3/envs/FireHydrant/lib/python3.8/site-packages/mplhep/_deprecate.py:56: DeprecationWarning: kwarg \"densitymode\" in function \"histplot\" is deprecated and may be removed in future versions: \"unit\"mode is not useful\n",
      "  return func(*args, **kwargs)\n",
      "/uscms/home/ahall/nobackup/LPC-DM/SIDM/anaconda3/envs/FireHydrant/lib/python3.8/site-packages/mplhep/_deprecate.py:56: DeprecationWarning: kwarg \"densitymode\" in function \"histplot\" is deprecated and may be removed in future versions: \"unit\"mode is not useful\n",
      "  return func(*args, **kwargs)\n"
     ]
    },
    {
     "data": {
      "text/plain": [
       "<matplotlib.axes._subplots.AxesSubplot at 0x7f25c2d58580>"
      ]
     },
     "execution_count": 38,
     "metadata": {},
     "output_type": "execute_result"
    },
    {
     "data": {
      "image/png": "[encoded data removed]",
      "text/plain": [
       "<Figure size 432x288 with 1 Axes>"
      ]
     },
     "metadata": {
      "needs_background": "light"
     },
     "output_type": "display_data"
    }
   ],
   "source": [
    "from coffea import hist\n",
    "%matplotlib inline\n",
    "hist.plot1d(histo)\n",
    "hist.plot1d(num)\n",
    "#hist.plotratio(num=num.integrate(\"dataset\"), denom=histo.integrate(\"dataset\"), error_opts={'marker':'x'})"
   ]
  },
  {
   "cell_type": "code",
   "execution_count": 39,
   "metadata": {},
   "outputs": [
    {
     "name": "stderr",
     "output_type": "stream",
     "text": [
      "/uscms/home/ahall/nobackup/LPC-DM/SIDM/anaconda3/envs/FireHydrant/lib/python3.8/site-packages/mplhep/_deprecate.py:56: DeprecationWarning: kwarg \"densitymode\" in function \"histplot\" is deprecated and may be removed in future versions: \"unit\"mode is not useful\n",
      "  return func(*args, **kwargs)\n"
     ]
    },
    {
     "data": {
      "text/plain": [
       "<matplotlib.axes._subplots.AxesSubplot at 0x7f25c2d1ffd0>"
      ]
     },
     "execution_count": 39,
     "metadata": {},
     "output_type": "execute_result"
    },
    {
     "data": {
      "image/png": "[encoded data removed]",
      "text/plain": [
       "<Figure size 432x288 with 1 Axes>"
      ]
     },
     "metadata": {
      "needs_background": "light"
     },
     "output_type": "display_data"
    }
   ],
   "source": [
    "hist.plot1d(num)\n"
   ]
  },
  {
   "cell_type": "code",
   "execution_count": 7,
   "metadata": {},
   "outputs": [
    {
     "data": {
      "text/plain": [
       "\u001b[0;31mType:\u001b[0m            NanoCollection\n",
       "\u001b[0;31mString form:\u001b[0m     [[<ElectronBPark 0> <ElectronBPark 1> <ElectronBPark 2> ... <ElectronBPark 73> <ElectronBPark 74> <...> 42> <ElectronBPark 88043> ... <ElectronBPark 88103> <ElectronBPark 88104> <ElectronBPark 88105>]]\n",
       "\u001b[0;31mLength:\u001b[0m          1108\n",
       "\u001b[0;31mFile:\u001b[0m            ~/nobackup/LPC-DM/SIDM/anaconda3/envs/FireHydrant/lib/python3.8/site-packages/coffea/nanoaod/nanoevents.py\n",
       "\u001b[0;31mDocstring:\u001b[0m       slimmedElectrons for BPark after basic selection\n",
       "\u001b[0;31mClass docstring:\u001b[0m\n",
       "A NanoAOD collection\n",
       "\n",
       "NanoAOD collections are collections of branches formed by name, where:\n",
       "\n",
       "- one branch exists named ``name`` and no branches start with ``name_``, interpreted as a single flat array;\n",
       "- one branch exists named ``name``, one named ``n{name}``, and no branches start with ``name_``, interpreted as a single jagged array;\n",
       "- no branch exists named ``{name}`` and many branches start with ``name_*``, interpreted as a flat table; or\n",
       "- one branch exists named ``n{name}`` and many branches start with ``name_*``, interpreted as a jagged table.\n"
      ]
     },
     "metadata": {},
     "output_type": "display_data"
    }
   ],
   "source": [
    "events2.ElectronBPark?"
   ]
  },
  {
   "cell_type": "code",
   "execution_count": 12,
   "metadata": {},
   "outputs": [
    {
     "data": {
      "text/plain": [
       "['run',\n",
       " 'fixedGridRhoFastjetAll',\n",
       " 'GenDressedLepton',\n",
       " 'GenMET',\n",
       " 'PSWeight',\n",
       " 'Jet',\n",
       " 'CorrT1METJet',\n",
       " 'fixedGridRhoFastjetCentralCalo',\n",
       " 'IsoTrack',\n",
       " 'SoftActivityJetHT10',\n",
       " 'SubGenJetAK8',\n",
       " 'HLTriggerFinalPath',\n",
       " 'ChsMET',\n",
       " 'Tau',\n",
       " 'SV',\n",
       " 'GenJetAK8',\n",
       " 'HLTriggerFirstPath',\n",
       " 'ElectronBPark',\n",
       " 'GenJet',\n",
       " 'GenPart',\n",
       " 'fixedGridRhoFastjetCentralNeutral',\n",
       " 'MET',\n",
       " 'genTtbarId',\n",
       " 'FsrPhoton',\n",
       " 'FatJet',\n",
       " 'CaloMET',\n",
       " 'SoftActivityJetHT',\n",
       " 'PV',\n",
       " 'SoftActivityJetNjets5',\n",
       " 'Pileup',\n",
       " 'SoftActivityJetHT5',\n",
       " 'TkMET',\n",
       " 'Flag',\n",
       " 'Photon',\n",
       " 'Generator',\n",
       " 'Muon',\n",
       " 'HTXS',\n",
       " 'Electron',\n",
       " 'btagWeight',\n",
       " 'HLT',\n",
       " 'L1simulation',\n",
       " 'TrigObj',\n",
       " 'SoftActivityJetNjets10',\n",
       " 'L1Reco',\n",
       " 'event',\n",
       " 'RawMET',\n",
       " 'GenModel',\n",
       " 'OtherPV',\n",
       " 'SoftActivityJetNjets2',\n",
       " 'PuppiMET',\n",
       " 'L1',\n",
       " 'SoftActivityJetHT2',\n",
       " 'SoftActivityJet',\n",
       " 'GenVisTau',\n",
       " 'SubJet',\n",
       " 'genWeight',\n",
       " 'fixedGridRhoFastjetCentralChargedPileUp',\n",
       " 'fixedGridRhoFastjetCentral',\n",
       " 'luminosityBlock']"
      ]
     },
     "execution_count": 12,
     "metadata": {},
     "output_type": "execute_result"
    }
   ],
   "source": [
    "events.columns"
   ]
  },
  {
   "cell_type": "code",
   "execution_count": 23,
   "metadata": {},
   "outputs": [
    {
     "data": {
      "text/plain": [
       "['MetUnclustEnUpDeltaX',\n",
       " 'MetUnclustEnUpDeltaY',\n",
       " 'covXX',\n",
       " 'covXY',\n",
       " 'covYY',\n",
       " 'phi',\n",
       " 'pt',\n",
       " 'significance',\n",
       " 'sumEt',\n",
       " 'fiducialGenPhi',\n",
       " 'fiducialGenPt']"
      ]
     },
     "execution_count": 23,
     "metadata": {},
     "output_type": "execute_result"
    }
   ],
   "source": [
    "events.MET.columns"
   ]
  },
  {
   "cell_type": "code",
   "execution_count": 3,
   "metadata": {},
   "outputs": [],
   "source": [
    "from coffea import hist"
   ]
  },
  {
   "cell_type": "code",
   "execution_count": 4,
   "metadata": {},
   "outputs": [],
   "source": [
    "histo = hist.Hist(\n",
    "            \"Events\",\n",
    "            hist.Cat(\"dataset\", \"Dataset\"),\n",
    "            hist.Bin(\"ele_pt\", \"electron pt\", 120, 0, 120),\n",
    "        )\n",
    "histi = hist.Hist(\n",
    "            \"Events\",\n",
    "            hist.Cat(\"dataset\", \"Dataset\"),\n",
    "            hist.Bin(\"met\", \"met\", 10, 0, 2000),\n",
    "        )"
   ]
  },
  {
   "cell_type": "code",
   "execution_count": null,
   "metadata": {},
   "outputs": [],
   "source": []
  },
  {
   "cell_type": "code",
   "execution_count": 53,
   "metadata": {},
   "outputs": [],
   "source": [
    "ele_mask = (events.Electron.pt > 30)\n",
    "event_mask = events.Electron[ele_mask].counts >=2\n",
    "histo.fill(dataset=\"SUSY\",ele_pt=events.Electron.pt[event_mask].flatten())\n",
    "histi.fill(dataset=\"SUSY\",met=events.MET.pt.flatten())"
   ]
  },
  {
   "cell_type": "code",
   "execution_count": 54,
   "metadata": {},
   "outputs": [
    {
     "name": "stderr",
     "output_type": "stream",
     "text": [
      "/uscms/home/ahall/nobackup/LPC-DM/SIDM/anaconda3/envs/FireHydrant/lib/python3.8/site-packages/mplhep/_deprecate.py:56: DeprecationWarning: kwarg \"densitymode\" in function \"histplot\" is deprecated and may be removed in future versions: \"unit\"mode is not useful\n",
      "  return func(*args, **kwargs)\n"
     ]
    },
    {
     "data": {
      "text/plain": [
       "<matplotlib.axes._subplots.AxesSubplot at 0x7fd1cdeb2ee0>"
      ]
     },
     "execution_count": 54,
     "metadata": {},
     "output_type": "execute_result"
    },
    {
     "data": {
      "image/png": "[encoded data removed]",
      "text/plain": [
       "<Figure size 432x288 with 1 Axes>"
      ]
     },
     "metadata": {
      "needs_background": "light"
     },
     "output_type": "display_data"
    }
   ],
   "source": [
    "%matplotlib inline\n",
    "hist.plot1d(histo)"
   ]
  },
  {
   "cell_type": "code",
   "execution_count": 65,
   "metadata": {},
   "outputs": [
    {
     "name": "stderr",
     "output_type": "stream",
     "text": [
      "/uscms/home/ahall/nobackup/LPC-DM/SIDM/anaconda3/envs/FireHydrant/lib/python3.8/site-packages/mplhep/_deprecate.py:56: DeprecationWarning: kwarg \"densitymode\" in function \"histplot\" is deprecated and may be removed in future versions: \"unit\"mode is not useful\n",
      "  return func(*args, **kwargs)\n"
     ]
    },
    {
     "data": {
      "text/plain": [
       "(0.5, 1500)"
      ]
     },
     "execution_count": 65,
     "metadata": {},
     "output_type": "execute_result"
    },
    {
     "data": {
      "image/png": "[encoded data removed]",
      "text/plain": [
       "<Figure size 432x288 with 1 Axes>"
      ]
     },
     "metadata": {
      "needs_background": "light"
     },
     "output_type": "display_data"
    }
   ],
   "source": [
    "%matplotlib inline\n",
    "ax = hist.plot1d(histi, overflow=\"over\")\n",
    "ax.set_yscale(\"log\")\n",
    "ax.set_ylim(0.5,1500)"
   ]
  },
  {
   "cell_type": "code",
   "execution_count": 51,
   "metadata": {},
   "outputs": [
    {
     "data": {
      "text/plain": [
       "{('SUSY',): 7.0}"
      ]
     },
     "execution_count": 51,
     "metadata": {},
     "output_type": "execute_result"
    }
   ],
   "source": [
    "histi.sum(\"met\").values()"
   ]
  },
  {
   "cell_type": "code",
   "execution_count": 52,
   "metadata": {},
   "outputs": [
    {
     "data": {
      "text/plain": [
       "{('SUSY',): 17.0}"
      ]
     },
     "execution_count": 52,
     "metadata": {},
     "output_type": "execute_result"
    }
   ],
   "source": [
    "histo.sum(\"ele_pt\").values()"
   ]
  },
  {
   "cell_type": "code",
   "execution_count": null,
   "metadata": {},
   "outputs": [],
   "source": [
    "ax.set_y"
   ]
  }
 ],
 "metadata": {
  "kernelspec": {
   "display_name": "Python 3",
   "language": "python",
   "name": "python3"
  },
  "language_info": {
   "codemirror_mode": {
    "name": "ipython",
    "version": 3
   },
   "file_extension": ".py",
   "mimetype": "text/x-python",
   "name": "python",
   "nbconvert_exporter": "python",
   "pygments_lexer": "ipython3",
   "version": "3.8.2"
  }
 },
 "nbformat": 4,
 "nbformat_minor": 4
}
